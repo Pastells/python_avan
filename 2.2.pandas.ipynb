{
 "cells": [
  {
   "cell_type": "markdown",
   "id": "18035530-24f0-4034-9a2c-59ce9c0d8f94",
   "metadata": {},
   "source": [
    "# Introducció a Pandas"
   ]
  },
  {
   "cell_type": "code",
   "execution_count": null,
   "id": "73e4598f-d1d5-43b4-a9c0-c751d797fa2a",
   "metadata": {},
   "outputs": [],
   "source": [
    "import pandas as pd"
   ]
  },
  {
   "cell_type": "markdown",
   "id": "58238a34-6a32-47e5-b288-274b52f972ca",
   "metadata": {},
   "source": [
    "Els objectes principals de Pandas són els `DataFrames` --- venen a ser taules de dades amb files i columnes."
   ]
  },
  {
   "cell_type": "markdown",
   "id": "f894fb4d-3627-4c07-9dc2-21d1490524ca",
   "metadata": {},
   "source": [
    "Agafem les dades de les línies de bus que ja coneixem "
   ]
  },
  {
   "cell_type": "code",
   "execution_count": null,
   "id": "b4a9c5c9-1c45-4beb-b33c-1fb008ccf47d",
   "metadata": {},
   "outputs": [],
   "source": [
    "df = pd.read_csv(\"data/ctabus.csv\")\n",
    "df"
   ]
  },
  {
   "cell_type": "markdown",
   "id": "56073de1-7efa-4890-8f84-91487457e478",
   "metadata": {},
   "source": [
    "## Veure les dades"
   ]
  },
  {
   "cell_type": "markdown",
   "id": "587b1c1a-1b4f-4013-afbf-7b11e4385156",
   "metadata": {},
   "source": [
    "Mètodes per explorar un `DataFrame`:\n",
    "\n",
    "- `head(n)`-  Mostra les n primeres columnes\n",
    "- `tail(n)`-  Mostra les n últimes columnes\n",
    "- `info` - Ens dius quantes entrades no buides hi ha, i el tipus de variable de cada columna\n",
    "- `describe` - Mostra estadístiques bàsiques de les columnes numèriques"
   ]
  },
  {
   "cell_type": "code",
   "execution_count": null,
   "id": "c4c72b2b-6254-482c-8dc9-8554a4250d20",
   "metadata": {},
   "outputs": [],
   "source": [
    "df.head()"
   ]
  },
  {
   "cell_type": "code",
   "execution_count": null,
   "id": "e74f44c2-ae88-45e5-9bc7-2924dc797e3b",
   "metadata": {},
   "outputs": [],
   "source": [
    "df.info()"
   ]
  },
  {
   "cell_type": "code",
   "execution_count": null,
   "id": "8dec1059-f18b-4ed9-8dc3-c5d150926d42",
   "metadata": {},
   "outputs": [],
   "source": [
    "df.describe()"
   ]
  },
  {
   "cell_type": "markdown",
   "id": "ab817daa-a676-4c85-b0e0-4c554eb4d7fa",
   "metadata": {},
   "source": [
    "Com que Pandas fa servir NumPy, podem fer servir els mètodes i atributs de NumPy\n",
    "\n",
    "A més, anirem veient altres atributs interessants, com `columns`"
   ]
  },
  {
   "cell_type": "code",
   "execution_count": null,
   "id": "e9828313-9e0d-47b9-89bb-8cb95bd94e3f",
   "metadata": {},
   "outputs": [],
   "source": [
    "(\n",
    "    df.shape,\n",
    "    df.size,\n",
    "    df.ndim,\n",
    "    len(df),\n",
    ")"
   ]
  },
  {
   "cell_type": "code",
   "execution_count": null,
   "id": "76434e09-3279-43e1-8279-4dd0487c5769",
   "metadata": {},
   "outputs": [],
   "source": [
    "df.columns"
   ]
  },
  {
   "cell_type": "markdown",
   "id": "2cbba2e4-ad97-4ceb-93e5-b97d069fbd2b",
   "metadata": {},
   "source": [
    "## Indexar\n",
    "\n",
    "S'indexa una sola columna igual que un diccionari. El resultat és una `Series` de Pandas."
   ]
  },
  {
   "cell_type": "code",
   "execution_count": null,
   "id": "b5733dfd-9415-406a-a64d-45ef0361b101",
   "metadata": {},
   "outputs": [],
   "source": [
    "# Agafem 5 files per no imprimir tant\n",
    "df = df[75:80]"
   ]
  },
  {
   "cell_type": "code",
   "execution_count": null,
   "id": "822afcf4-530c-4098-af26-33ca986092c1",
   "metadata": {},
   "outputs": [],
   "source": [
    "df[\"route\"]"
   ]
  },
  {
   "cell_type": "markdown",
   "id": "dfb5c026-f614-46c5-81d5-bbe78197e3f4",
   "metadata": {},
   "source": [
    "També es pot indexar com si fós un atribut (si el nom no té espais)"
   ]
  },
  {
   "cell_type": "code",
   "execution_count": null,
   "id": "0a094963-6d96-4522-862f-7ea89e27766a",
   "metadata": {},
   "outputs": [],
   "source": [
    "df.route"
   ]
  },
  {
   "cell_type": "markdown",
   "id": "9b38da4f-1c6b-46f1-9f98-75dee92cbd35",
   "metadata": {},
   "source": [
    "Si volem indexar diverses columnes, ens cal una llista"
   ]
  },
  {
   "cell_type": "code",
   "execution_count": null,
   "id": "e9797bfa-dd6c-401f-b8f5-694059f253a2",
   "metadata": {},
   "outputs": [],
   "source": [
    "cols = [\"route\", \"rides\"]\n",
    "df[cols]"
   ]
  },
  {
   "cell_type": "code",
   "execution_count": null,
   "id": "566dceb4-6477-44ec-bc84-91ad74a941fa",
   "metadata": {},
   "outputs": [],
   "source": [
    "# O el que és el mateix\n",
    "df[[\"route\", \"rides\"]]"
   ]
  },
  {
   "cell_type": "markdown",
   "id": "17fba414-9c1a-4976-b452-08f02e0c067d",
   "metadata": {},
   "source": [
    "Per **indexar files** farem servir `.loc`"
   ]
  },
  {
   "cell_type": "code",
   "execution_count": null,
   "id": "5f0a1fb3-19ba-440c-a2cd-79eb34520be2",
   "metadata": {},
   "outputs": [],
   "source": [
    "# Una sola fila també retorna una `Series`\n",
    "df.loc[75]"
   ]
  },
  {
   "cell_type": "code",
   "execution_count": null,
   "id": "01f5c3ac-782b-42e6-ac78-ad973912579d",
   "metadata": {},
   "outputs": [],
   "source": [
    "df.loc[[75, 76, 78]]"
   ]
  },
  {
   "cell_type": "code",
   "execution_count": null,
   "id": "d4aff3f9-13b3-446b-a6d1-e67db135201b",
   "metadata": {},
   "outputs": [],
   "source": [
    "# Podem fer servir rangs (però cal tenir compte!). Què hi veieu?\n",
    "df.loc[:77]"
   ]
  },
  {
   "cell_type": "markdown",
   "id": "9bebb0c6-928a-4fd9-80a5-5a3f79072cbc",
   "metadata": {},
   "source": [
    "Els índexs no tenen per què ser números, per això els rangs amb `loc` són inclusius.\n",
    "\n",
    "Per exemple, podem fer servir una columna com a índex amb `set_index`"
   ]
  },
  {
   "cell_type": "code",
   "execution_count": null,
   "id": "d55e9ce3-a9a1-427c-b8ed-570a644152b5",
   "metadata": {},
   "outputs": [],
   "source": [
    "route_df = df.set_index(\"route\")\n",
    "route_df"
   ]
  },
  {
   "cell_type": "code",
   "execution_count": null,
   "id": "ab1eb9f1-9018-4d6c-a57c-f5b2a704eb6d",
   "metadata": {},
   "outputs": [],
   "source": [
    "route_df.loc[\"49B\"]"
   ]
  },
  {
   "cell_type": "code",
   "execution_count": null,
   "id": "726dd1e5-4647-4ff7-9729-0799f1370495",
   "metadata": {},
   "outputs": [],
   "source": [
    "route_df.loc[\"52A\":\"54B\"]"
   ]
  },
  {
   "cell_type": "markdown",
   "id": "9d469ce5-d78d-4daa-a00d-4ffdcb8ee4cb",
   "metadata": {},
   "source": [
    "Per 'recuperar' l'índex com a columna fem `.reset_index()`"
   ]
  },
  {
   "cell_type": "code",
   "execution_count": null,
   "id": "4781cbd6-7542-4f70-8e4f-cb0c2e696d9a",
   "metadata": {},
   "outputs": [],
   "source": [
    "route_df.reset_index()"
   ]
  },
  {
   "cell_type": "markdown",
   "id": "59737633-9090-4ac4-885f-51e3d816ec7a",
   "metadata": {},
   "source": [
    "Fixeu-vos que les operacions no canvien l'objecte si no fem un ="
   ]
  },
  {
   "cell_type": "code",
   "execution_count": null,
   "id": "2eb5372d-13c9-4505-b50f-d453b52ca07d",
   "metadata": {},
   "outputs": [],
   "source": [
    "route_df"
   ]
  },
  {
   "cell_type": "markdown",
   "id": "30f014dd-cd8a-49db-9b58-50affc851f00",
   "metadata": {},
   "source": [
    "Si en canvi volem indexar numèricament, sense fixar-nos en el nom de l'índex o les columnes, farem servir `iloc`"
   ]
  },
  {
   "cell_type": "code",
   "execution_count": null,
   "id": "f6c4d36c-23d7-4345-8041-501e7278bb22",
   "metadata": {},
   "outputs": [],
   "source": [
    "df.iloc[0]"
   ]
  },
  {
   "cell_type": "code",
   "execution_count": null,
   "id": "6e5575c0-2d22-40e6-a85b-7108e39abac4",
   "metadata": {},
   "outputs": [],
   "source": [
    "df.iloc[:3]"
   ]
  },
  {
   "cell_type": "code",
   "execution_count": null,
   "id": "27482bf6-33ef-45aa-9d37-af1c530d622e",
   "metadata": {},
   "outputs": [],
   "source": [
    "df.iloc[:3, 1:]"
   ]
  },
  {
   "cell_type": "markdown",
   "id": "2d9bb46c-ee65-4b9c-b582-d2bb82acac42",
   "metadata": {},
   "source": [
    "**Resum**\n",
    "\n",
    "\n",
    "+ `[]` per selccionar columnes \n",
    "+ `.loc[noms_files, noms_columnes]` per indexar per nom\n",
    "+ `.iloc[poscio_files, posicio_columnes]` per indexar per posició"
   ]
  },
  {
   "cell_type": "markdown",
   "id": "dced6a0d-44a4-47e9-b1fd-bc09a5400f5f",
   "metadata": {},
   "source": [
    "### Exercici\n",
    "\n",
    "Posa-ho tot junt. Selecciona les primeres 500 files senars (de l'índex 1 al 999) i les columnes \"route\", \"date\" i \"rides\""
   ]
  },
  {
   "cell_type": "code",
   "execution_count": null,
   "id": "acb61620",
   "metadata": {},
   "outputs": [],
   "source": [
    "df = pd.read_csv(\"data/ctabus.csv\")"
   ]
  },
  {
   "cell_type": "markdown",
   "id": "5d294ef8-b07a-4db2-9801-0983aaf582a9",
   "metadata": {},
   "source": [
    "## Llegir i escriure fitxers"
   ]
  },
  {
   "cell_type": "markdown",
   "id": "ef94ea88-7b68-49a5-bd92-298edd9aacc2",
   "metadata": {},
   "source": [
    "Podem llegir dades d'un CSV, Excel, SQL, JSON ...\n",
    "\n",
    "Les funcions són bastant similars: `pd.read_csv`, `pd.read_excel`...\n",
    "\n",
    "Segons el format que vulguem llegir i el nostre sistema operatiu és possible que calgui instalar algun altre paquet."
   ]
  },
  {
   "cell_type": "markdown",
   "id": "29a97f65-6922-44d9-931b-41680ef1db72",
   "metadata": {},
   "source": [
    "Ens centrarem en fitxers `csv`.\n",
    "Tot i que el nom ve de \"comma separated values\", el separador pot ser diferent d'una coma. Canviant l'argument `sep` es poden llegir fitxers amb diferents separadors, com tabuladors \"\\t\" (sovint amb fitxers '.tsv')."
   ]
  },
  {
   "cell_type": "code",
   "execution_count": null,
   "id": "ae30a88a-9b54-4374-b459-31f007738f8a",
   "metadata": {},
   "outputs": [],
   "source": [
    "# Hi ha moltes opcions\n",
    "pd.read_csv?"
   ]
  },
  {
   "cell_type": "markdown",
   "id": "f407fc06-4d42-4f0e-bbec-79237051c559",
   "metadata": {},
   "source": [
    "Per escriure fitxer, igualment hi ha una funció per cada tipus de dades: `pd.to_csv`, `pd.to_excel`, `to.to_latex`..."
   ]
  },
  {
   "cell_type": "markdown",
   "id": "c919f7cb-3d52-46e3-a490-65e8aa617f08",
   "metadata": {},
   "source": [
    "## Crear un `DataFrame` \n",
    "\n",
    "També podem crear un `DataFrame`a partir d'un diccionari, llista, ser, array ..."
   ]
  },
  {
   "cell_type": "markdown",
   "id": "c7e14ee6-8dcf-46ea-ac9f-2c4af8c953bf",
   "metadata": {},
   "source": [
    "### `DataFrame` des d'un diccionari"
   ]
  },
  {
   "cell_type": "markdown",
   "id": "d03df076-a1f9-4d01-991f-49f8ac68e0b8",
   "metadata": {},
   "source": [
    "#### Cada clau és una columna"
   ]
  },
  {
   "cell_type": "code",
   "execution_count": null,
   "id": "d12dcd1b-d197-4048-b496-da7907584927",
   "metadata": {},
   "outputs": [],
   "source": [
    "dict_estudiants = {\"nom\": [\"Maria\", \"Berta\", \"Edu\", \"Arnau\"], \"edat\": [20, 21, 19, 23], \"nota\": [8.5, 7.7, 9.4, 5.9]}\n",
    "df_estudiants = pd.DataFrame(dict_estudiants)\n",
    "df_estudiants"
   ]
  },
  {
   "cell_type": "code",
   "execution_count": null,
   "id": "c4937c16-b119-4f03-821c-26d61a811c54",
   "metadata": {},
   "outputs": [],
   "source": [
    "df = pd.DataFrame({\"X\": [78, 85, 96, 80, 86], \"Y\": [84, 94, 89, 83, 86], \"Z\": [86, 97, 96, 72, 83]})\n",
    "df"
   ]
  },
  {
   "cell_type": "markdown",
   "id": "b0d063ff-7b29-4c02-b107-270eab8d0f19",
   "metadata": {},
   "source": [
    "Si ens volem quedar només amb unes quantes columnes, les podem seleccionar amb `columns=['col1', 'col2']`"
   ]
  },
  {
   "cell_type": "code",
   "execution_count": null,
   "id": "6d18d17c-80ad-4ae8-adda-42491dc11282",
   "metadata": {},
   "outputs": [],
   "source": [
    "df_estudiants = pd.DataFrame(dict_estudiants, columns=[\"nom\", \"nota\"])\n",
    "df_estudiants"
   ]
  },
  {
   "cell_type": "markdown",
   "id": "8d09786e-9828-41b7-b48b-acf9954c417b",
   "metadata": {},
   "source": [
    "Per defecte, es crea una primera columna, _l'índex_, amb nombres naturals"
   ]
  },
  {
   "cell_type": "code",
   "execution_count": null,
   "id": "ae01858a-6073-477e-8c8f-292004c619b8",
   "metadata": {},
   "outputs": [],
   "source": [
    "df_estudiants.index"
   ]
  },
  {
   "cell_type": "markdown",
   "id": "01f70274-db6c-47a2-a3df-d723b1264dd3",
   "metadata": {},
   "source": [
    "El podem modificar quan creem el `DataFrame` amb `index=['index1','index2']`"
   ]
  },
  {
   "cell_type": "code",
   "execution_count": null,
   "id": "9c291f28-c3f3-44a8-b35e-d408b0d77bd0",
   "metadata": {},
   "outputs": [],
   "source": [
    "df_estudiants = pd.DataFrame(dict_estudiants, index=[\"est1\", \"est2\", \"est3\", \"est4\"])\n",
    "df_estudiants"
   ]
  },
  {
   "cell_type": "code",
   "execution_count": null,
   "id": "26694356-1856-494a-911d-f5ba753b80fb",
   "metadata": {},
   "outputs": [],
   "source": [
    "df_estudiants.index"
   ]
  },
  {
   "cell_type": "markdown",
   "id": "6831be89-d839-4df7-92c2-e9d3f1f391f2",
   "metadata": {},
   "source": [
    "#### Cada clau és una fila"
   ]
  },
  {
   "cell_type": "code",
   "execution_count": null,
   "id": "7df21412-ff0e-450e-aa2d-6a433faa9acd",
   "metadata": {},
   "outputs": [],
   "source": [
    "dict_estudiants = {\n",
    "    \"Maria\": 8.5,\n",
    "    \"Berta\": 7.7,\n",
    "    \"Edu\": 9.4,\n",
    "    \"Arnau\": 5.9,\n",
    "}\n",
    "df_estudiants = pd.DataFrame(dict_estudiants.items())\n",
    "df_estudiants"
   ]
  },
  {
   "cell_type": "markdown",
   "id": "92b7dc8a-ef0f-490f-ba12-b9db14999425",
   "metadata": {},
   "source": [
    "Ara Pandas no sap quin nom posar a les columnes, així que hi ha posat números. Posa-hi noms"
   ]
  },
  {
   "cell_type": "code",
   "execution_count": null,
   "id": "b7ba42f6-081e-4b50-ab83-1970afe09320",
   "metadata": {},
   "outputs": [],
   "source": [
    "student_dict = {\"Grade A\": [\"Joe\", \"Harry\"], \"Grade B\": [\"Nat\"]}\n",
    "print(student_dict)\n",
    "\n",
    "student_df = pd.DataFrame.from_dict(student_dict, \"index\").stack().reset_index(level=0)\n",
    "student_df"
   ]
  },
  {
   "cell_type": "markdown",
   "id": "ec26f5bf-07c8-4c3a-bf4e-d684692cadde",
   "metadata": {},
   "source": [
    "### `DataFrame` des d'una llista"
   ]
  },
  {
   "cell_type": "code",
   "execution_count": null,
   "id": "a4cb09cd-e98b-457a-9401-f0ae318d715a",
   "metadata": {},
   "outputs": [],
   "source": [
    "llista_fruites = [\"Poma\", \"Mango\", \"Meló\", \"Cireres\"]\n",
    "df_fruites = pd.DataFrame(llista_fruites, columns=[\"Fruites\"])\n",
    "df_fruites"
   ]
  },
  {
   "cell_type": "code",
   "execution_count": null,
   "id": "fe66e0b0",
   "metadata": {},
   "outputs": [],
   "source": [
    "llista_fruites = [[\"Poma\", 1], [\"Mango\", 1.5], [\"Meló\", 1.2], [\"Cireres\", 2.3]]\n",
    "df_fruites = pd.DataFrame(llista_fruites, columns=[\"Fruites\", \"Preu\"])\n",
    "df_fruites"
   ]
  },
  {
   "cell_type": "markdown",
   "id": "d929a3cd-c677-4c0d-a0b3-ca65fb91c612",
   "metadata": {},
   "source": [
    "En realitat, quan hem creat un `DataFrame` a partir dels items d'un diccionari, l'estructurura era la mateixa "
   ]
  },
  {
   "cell_type": "code",
   "execution_count": null,
   "id": "e1e0adb7-d9ca-4ab5-8eb1-4fd866e127cf",
   "metadata": {},
   "outputs": [],
   "source": [
    "dict_estudiants.items()"
   ]
  },
  {
   "cell_type": "markdown",
   "id": "50c358e7-7c2b-4ced-b9f7-0d0537f82b90",
   "metadata": {},
   "source": [
    "Si partim de dues o més llistes, les podem posar amb el format adequat amb zip"
   ]
  },
  {
   "cell_type": "code",
   "execution_count": null,
   "id": "ef39cf11-ccbd-420a-b4e9-892bfcad425f",
   "metadata": {},
   "outputs": [],
   "source": [
    "llista_fruites = [\"Poma\", \"Mango\", \"Meló\", \"Cireres\"]\n",
    "llista_preus = [1, 1.5, 1.2, 2.3]\n",
    "df_fruites = pd.DataFrame(list(zip(llista_fruites, llista_preus)), columns=[\"Fruites\", \"Preu\"])\n",
    "df_fruites"
   ]
  },
  {
   "cell_type": "markdown",
   "id": "b69a4254-69d9-4db1-beae-d37f51dc68c5",
   "metadata": {},
   "source": [
    "## Modificar les dades"
   ]
  },
  {
   "cell_type": "code",
   "execution_count": null,
   "id": "c74da68f-1344-4295-8204-13ca719aeeba",
   "metadata": {},
   "outputs": [],
   "source": []
  }
 ],
 "metadata": {
  "kernelspec": {
   "display_name": "Python 3 (ipykernel)",
   "language": "python",
   "name": "python3"
  },
  "language_info": {
   "codemirror_mode": {
    "name": "ipython",
    "version": 3
   },
   "file_extension": ".py",
   "mimetype": "text/x-python",
   "name": "python",
   "nbconvert_exporter": "python",
   "pygments_lexer": "ipython3"
  }
 },
 "nbformat": 4,
 "nbformat_minor": 5
}
