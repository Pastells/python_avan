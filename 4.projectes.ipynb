{
 "cells": [
  {
   "cell_type": "markdown",
   "id": "ed103c41-af3b-47c2-9759-6f074722aee7",
   "metadata": {},
   "source": [
    "# De notebooks a executables"
   ]
  },
  {
   "cell_type": "markdown",
   "id": "893c44a6-5ed0-40c8-bcbc-317ed0cf687f",
   "metadata": {},
   "source": [
    "+ **Quaderns Jupyter**: Són ideals per a l'exploració de dades, la visualització, l'aprenentatge interactiu i el prototipat ràpid. Permeten combinar codi, text, equacions i visualitzacions en un sol document.\n",
    "\n",
    "+ **Fitxers de Python**: Són millors per a la creació d'aplicacions, la reutilització de codi, el control de versions i la col·laboració. Els fitxers de Python són més adequats per a la creació de mòduls i paquets que es poden importar i reutilitzar en altres projectes.\n",
    "\n",
    "\n",
    "Un fitxer de Python s'executa des de la terminal amb `python programa.py`"
   ]
  },
  {
   "cell_type": "markdown",
   "id": "5aeececc-aa7e-4325-acc5-7092ca2b64c3",
   "metadata": {},
   "source": [
    "## Exercici 1\n",
    "\n",
    "- Ves al quadern 3.3,\n",
    "- exporta'l com .py\n",
    "- canvia-li el nom a `programa_4_grames.py` i\n",
    "- executa'l des de la terminal.\n",
    "\n",
    "Edita el fitxer i treu els comentaris generats automàticament.\n",
    "En aquest punt també es borrarien tots els print i últimes línies per imprimir del quadern."
   ]
  },
  {
   "cell_type": "markdown",
   "id": "3edcf8c8-f894-4869-a676-a29171f5b4e2",
   "metadata": {},
   "source": [
    "# Estructura projectes\n",
    "\n",
    "Un programa sol tenir certa estructura i es posa en diversos fitxer i carpetes.\n",
    "\n",
    "Per fer servir funcions o variables d'un altre fitxer, es tracta aquest com si fós un paquet de Python."
   ]
  },
  {
   "cell_type": "code",
   "execution_count": null,
   "id": "e4755fb1-0334-4f83-aa46-ad7e10315949",
   "metadata": {},
   "outputs": [],
   "source": [
    "from programa_4_grames import get_P2"
   ]
  },
  {
   "cell_type": "markdown",
   "id": "d291d496-b805-4089-9792-1824910d4541",
   "metadata": {},
   "source": [
    "Si importem tot el fitxer podem accedir a les variables (només recomanat per constants)."
   ]
  },
  {
   "cell_type": "code",
   "execution_count": null,
   "id": "a6b3b546-fec9-40e0-bd4e-df9ae49c26cd",
   "metadata": {},
   "outputs": [],
   "source": [
    "import programa_4_grames"
   ]
  },
  {
   "cell_type": "code",
   "execution_count": null,
   "id": "ea0aee96-69a2-43ce-9a89-3d843d370b53",
   "metadata": {},
   "outputs": [],
   "source": [
    "programa_4_grames.c2i"
   ]
  },
  {
   "cell_type": "markdown",
   "id": "f7d6d218-674a-482d-addd-c143c4639d6d",
   "metadata": {},
   "source": [
    "Si volem posar diversos programes dins una carpeta, es tracta la carpeta com si fós un paquet i cada fitxer un sub_paquet.\n",
    "Per fer això cal crear un fitxer `__init__.py` (normalment buit)"
   ]
  },
  {
   "cell_type": "markdown",
   "id": "92d41ffa-63e3-4fb0-ae37-fee6feefa485",
   "metadata": {},
   "source": [
    "## Exercici 2\n",
    "\n",
    "- Crea una carpeta `utils`.\n",
    "- A dins, posa-hi un `__init__.py` i un executable amb una funció.\n",
    "- Importa la funció a aquest notebook i fes-la servir."
   ]
  },
  {
   "cell_type": "markdown",
   "id": "1088d21a-ce66-4e5f-a8b3-6f059955195e",
   "metadata": {},
   "source": [
    "# `if __name__ == \"__main__\""
   ]
  },
  {
   "cell_type": "markdown",
   "id": "579cdcf9-d99f-469d-a1f7-90817236089d",
   "metadata": {},
   "source": [
    "Quan executes un fitxer de Python, el sistema li assigna la variable __name__ el valor \"__main__\". \n",
    "Si el fitxer s'importa com a mòdul en un altre fitxer, la variable __name__ pren el nom del fitxer (sense l'extensió .py). \n",
    "La instrucció if __name__ == \"__main__\" permet comprovar si un fitxer s'està executant com a programa principal o si s'està important com a mòdul."
   ]
  },
  {
   "cell_type": "markdown",
   "id": "59af0845-d4fa-4382-9df8-a19719f318d9",
   "metadata": {},
   "source": [
    "## Exercici 3\n",
    "\n",
    "+ Ordena el programa amb funcions.\n",
    "+ Evita les variables globals, passa-les explícitament.\n",
    "+ Crea una funció main i crída-la dins un `if __name__ == \"__main__\"`\n",
    "+ Executa el programa de nou"
   ]
  },
  {
   "cell_type": "markdown",
   "id": "94c42026-4442-44ed-afd8-3e4928619d1e",
   "metadata": {},
   "source": [
    "# Estil i Linters"
   ]
  },
  {
   "cell_type": "markdown",
   "id": "20d1feda-d00f-4b2a-a18e-40ecd52161a4",
   "metadata": {},
   "source": [
    "És bona idea adherir-se a un estil, sobretot quan es treballa en equip.\n",
    "\n",
    "[PEP 8](https://pep8.org/) és l'estàndard a Python i és una bona base.\n",
    "\n",
    "La resta de Python Enchancement Proposals (PEP) es poden trobar a https://peps.python.org/pep-0000/"
   ]
  },
  {
   "cell_type": "markdown",
   "id": "5b6a33b8-9213-4871-a713-9146e2cff03b",
   "metadata": {},
   "source": [
    "Un \"linter\" indica els errors de codi i/o de format. Alguns també formategen automàticament els fitxers.\n",
    "\n",
    "+ [Black](https://github.com/psf/black) de referència. Funciona a tot arreu\n",
    "+ [Ruff](https://github.com/astral-sh/ruff) millor linter actual. La opció de formatejar encara està a mitges "
   ]
  },
  {
   "cell_type": "markdown",
   "id": "4ac707d8-513a-4da5-8ebc-cff2393a77bd",
   "metadata": {},
   "source": [
    "# Entorns virtuals"
   ]
  },
  {
   "cell_type": "markdown",
   "id": "8e4520b4-d6ff-46ee-bdeb-501b55354841",
   "metadata": {},
   "source": [
    "Es poden crear entorns de moltes maneres. Totes funcionen semblant.\n",
    "Un dels paquets més utilitzats és `virtualenv`\n",
    "\n",
    "```bash\n",
    "# instalar paquet\n",
    "pip install virtualenv\n",
    "\n",
    "# crear entorn\n",
    "virtualenv nom\n",
    "\n",
    "# activar-lo\n",
    "source nom/bin/activate\n",
    "\n",
    "# fer-lo servir\n",
    "\n",
    "# instalar requeriments\n",
    "pip install -r requirements\n",
    "\n",
    "# o crear-los\n",
    "pip freeze > requirements\n",
    "\n",
    "# sortir\n",
    "deactivate\n",
    "```"
   ]
  }
 ],
 "metadata": {
  "kernelspec": {
   "display_name": "Python 3 (ipykernel)",
   "language": "python",
   "name": "python3"
  },
  "language_info": {
   "codemirror_mode": {
    "name": "ipython",
    "version": 3
   },
   "file_extension": ".py",
   "mimetype": "text/x-python",
   "name": "python",
   "nbconvert_exporter": "python",
   "pygments_lexer": "ipython3"
  }
 },
 "nbformat": 4,
 "nbformat_minor": 5
}
