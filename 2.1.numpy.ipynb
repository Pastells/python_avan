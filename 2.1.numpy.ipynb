{
 "cells": [
  {
   "cell_type": "markdown",
   "id": "efaefb8d-e42c-46d8-a380-e435885b7d75",
   "metadata": {},
   "source": [
    "# Introducció a NumPy\n",
    "\n",
    "Creació manipulació de càlculs vectors i matrius"
   ]
  },
  {
   "cell_type": "code",
   "execution_count": null,
   "id": "cf5512ab-1eae-4e78-b0b4-427c1478352c",
   "metadata": {},
   "outputs": [],
   "source": [
    "import numpy as np"
   ]
  },
  {
   "attachments": {},
   "cell_type": "markdown",
   "id": "8cb34cee-b583-4836-bd50-ddad4ebb8352",
   "metadata": {},
   "source": [
    "## Ndarray (N-dimensional array)"
   ]
  },
  {
   "cell_type": "code",
   "execution_count": null,
   "id": "a707f576-8a86-4835-a88d-18f4d6f5024a",
   "metadata": {},
   "outputs": [],
   "source": [
    "llista1 = [1, 2, 3, 4]\n",
    "array1 = np.array(llista1)\n",
    "print(llista1)\n",
    "print(array1)"
   ]
  },
  {
   "cell_type": "code",
   "execution_count": null,
   "id": "3c38dd89-1932-4cf3-a0ed-bc22f18da05e",
   "metadata": {},
   "outputs": [],
   "source": [
    "llista2 = [[1, 2, 3], [4, 5, 6.0]]\n",
    "array2 = np.array(llista2)\n",
    "print(llista2)\n",
    "print(array2)"
   ]
  },
  {
   "cell_type": "markdown",
   "id": "84c50699-6074-4984-8c68-40da4f921cfd",
   "metadata": {},
   "source": [
    "L'objecte que es crea és de tipus `np.ndarray` i no `np.array`"
   ]
  },
  {
   "cell_type": "code",
   "execution_count": null,
   "id": "5e47351a-aef7-4ae8-a15e-25e5a3fbd485",
   "metadata": {},
   "outputs": [],
   "source": [
    "type(array1)"
   ]
  },
  {
   "cell_type": "markdown",
   "id": "e16ce1f4-21f6-4ce9-8055-6963bdd590e1",
   "metadata": {},
   "source": [
    "També es poden crear `ndarrays` amb: `np.zeros` i `np.ones`,"
   ]
  },
  {
   "cell_type": "code",
   "execution_count": null,
   "id": "480a5999-3531-4b97-87a3-6f56dfebbe9e",
   "metadata": {},
   "outputs": [],
   "source": [
    "(\n",
    "    np.zeros((3, 3)),\n",
    "    np.ones(15),\n",
    ")"
   ]
  },
  {
   "cell_type": "markdown",
   "id": "d97cb60c-812e-4dae-9d73-ab2ab6118612",
   "metadata": {},
   "source": [
    "amb `np.arange(inici, final*, pas)` -  final no inclòs, decimals permesos\n",
    "crea un array generant números amb float entre un interval"
   ]
  },
  {
   "cell_type": "code",
   "execution_count": null,
   "id": "d053a47a-28b2-4641-8272-0cc7f7cb1278",
   "metadata": {},
   "outputs": [],
   "source": [
    "np.arange(20)"
   ]
  },
  {
   "cell_type": "code",
   "execution_count": null,
   "id": "b17f4a76-bb26-4d89-9be6-97feb8f18bc0",
   "metadata": {},
   "outputs": [],
   "source": [
    "np.arange(1, 30, 4)"
   ]
  },
  {
   "cell_type": "code",
   "execution_count": null,
   "id": "67b9af74-4565-49fc-8bce-2075f0408359",
   "metadata": {},
   "outputs": [],
   "source": [
    "np.arange(1, 10, 0.7)"
   ]
  },
  {
   "attachments": {},
   "cell_type": "markdown",
   "id": "ae833ae6-5139-4eb8-a805-acdb8bc86564",
   "metadata": {},
   "source": [
    "![array.png](imatges/array.png)"
   ]
  },
  {
   "cell_type": "markdown",
   "id": "552fb824-7cd4-4137-a6e8-c12a01b6a690",
   "metadata": {},
   "source": [
    "`np.linspace(inici, final, num elements)` final inclòs,\n",
    "crea un array amb un numero de elements exacte amb valors entre un interval"
   ]
  },
  {
   "cell_type": "code",
   "execution_count": null,
   "id": "1ecad9c7-6b04-4a4d-bb3d-1ed401d13abc",
   "metadata": {},
   "outputs": [],
   "source": [
    "np.linspace(1, 10, 15)"
   ]
  },
  {
   "cell_type": "markdown",
   "id": "4acb85b2-9da4-433a-b70f-6c8791008cc2",
   "metadata": {},
   "source": [
    "Es pot canviar la forma d'un array amb `.reshape()`"
   ]
  },
  {
   "cell_type": "code",
   "execution_count": null,
   "id": "fc0149a9-3c49-44a3-b40d-7728bbe06244",
   "metadata": {},
   "outputs": [],
   "source": [
    "np.linspace(1, 10, 15).reshape((3, 5))"
   ]
  },
  {
   "cell_type": "code",
   "execution_count": null,
   "id": "1a0b7a05-648d-45a5-b254-280acb7527b2",
   "metadata": {},
   "outputs": [],
   "source": [
    "np.linspace(1, 10, 15).reshape((5, 3))"
   ]
  },
  {
   "cell_type": "markdown",
   "id": "990459e1-dac4-4961-a3da-82e443da9a57",
   "metadata": {},
   "source": [
    "## Propietats"
   ]
  },
  {
   "cell_type": "code",
   "execution_count": null,
   "id": "cad5029b-5127-44e3-bea3-9910f498c19f",
   "metadata": {},
   "outputs": [],
   "source": [
    "# dimensió\n",
    "print(array1.ndim, array2.ndim)\n",
    "\n",
    "# forma\n",
    "print(array1.shape, array2.shape)\n",
    "\n",
    "# nombre d'elements\n",
    "print(array1.size, array2.size)\n",
    "\n",
    "## no és el mateix que len(), que dona només la primera dimensió\n",
    "print(len(array1), len(array2))\n",
    "\n",
    "# tipus de dades\n",
    "print(array1.dtype, array2.dtype)\n",
    "\n",
    "# canviar el tipus de dades\n",
    "print(array1.astype(float))"
   ]
  },
  {
   "cell_type": "markdown",
   "id": "b087cb71-0919-4175-95a9-d8b37dc02e7f",
   "metadata": {},
   "source": [
    "S'accedeix als elements, o es fa `slicing` \n",
    "de la mateixa manera que per llistes de python, però també **amb comes entre dimensions**"
   ]
  },
  {
   "cell_type": "code",
   "execution_count": null,
   "id": "a6bc2563-9894-42d3-8aac-5530de0e7554",
   "metadata": {},
   "outputs": [],
   "source": [
    "array2[1][1], array2[1, 1]"
   ]
  },
  {
   "cell_type": "code",
   "execution_count": null,
   "id": "42008655-036e-4697-8de1-86ecb54fe658",
   "metadata": {},
   "outputs": [],
   "source": [
    "np.arange(100).reshape((10, 5, 2))[::2, 2::-1]"
   ]
  },
  {
   "cell_type": "markdown",
   "id": "481e99f8-30fe-4ff6-bdbd-8bc8f7941326",
   "metadata": {},
   "source": [
    "A més NumPy permet indexar una mateixa dimensió diverses vegades a partir d'una llista o array"
   ]
  },
  {
   "cell_type": "code",
   "execution_count": null,
   "id": "75372a4c-8850-4825-bb7b-ba124f62c66a",
   "metadata": {},
   "outputs": [],
   "source": [
    "np.arange(10)[[1, 1, 1, 3, 5]]"
   ]
  },
  {
   "cell_type": "code",
   "execution_count": null,
   "id": "a8514f5a-3858-48c6-8e77-7b13dd0318d9",
   "metadata": {},
   "outputs": [],
   "source": [
    "np.arange(10)[np.array([1, 1, 1, 3, 5])]"
   ]
  },
  {
   "cell_type": "markdown",
   "id": "f92567fe-50f0-422c-8bf8-92deefadadb0",
   "metadata": {},
   "source": [
    "## Molt bé, però per què ens interessa?\n",
    "\n",
    "Fent servir llistes de python, fer operacions és feixuc, numpy ho facilita molt.\n",
    "\n",
    "Per exemple, suposem que volem sumar dos vectors. Com ho faríeu?"
   ]
  },
  {
   "cell_type": "code",
   "execution_count": null,
   "id": "63757493-6276-4f64-a92c-8c4657f34ca8",
   "metadata": {},
   "outputs": [],
   "source": [
    "v1 = [8, 8, 9]\n",
    "v2 = [1, 3, 2]"
   ]
  },
  {
   "cell_type": "code",
   "execution_count": null,
   "id": "4ed1a1f7-8d26-4a5c-a023-077445f986cc",
   "metadata": {},
   "outputs": [],
   "source": []
  },
  {
   "cell_type": "markdown",
   "id": "d06e9a80-4e9f-42be-84e0-bea41ba29825",
   "metadata": {},
   "source": [
    "I dues matrius?"
   ]
  },
  {
   "cell_type": "code",
   "execution_count": null,
   "id": "0a9c5874-78a9-46f5-beda-b86667b0fa8d",
   "metadata": {},
   "outputs": [],
   "source": [
    "m1 = [[8, 8, 9], [7, 2, 3], [2, 2, 3]]\n",
    "m2 = [[1, 3, 2], [0, 9, 8], [7, 3, 5]]"
   ]
  },
  {
   "cell_type": "code",
   "execution_count": null,
   "id": "35295f37-80fe-44fa-a42a-92c3d88720bc",
   "metadata": {},
   "outputs": [],
   "source": []
  },
  {
   "cell_type": "markdown",
   "id": "8a3ece60-7171-46bb-8351-3edffd587f47",
   "metadata": {},
   "source": [
    "Amb numpy, podem fer servir les operacions estàndard com si féssim àlgebra.\n",
    "\n",
    "Les operacions es fan element a element."
   ]
  },
  {
   "cell_type": "code",
   "execution_count": null,
   "id": "01e31c1c-e212-4b4a-a2cc-d59dd28382f2",
   "metadata": {},
   "outputs": [],
   "source": [
    "v1 = np.array(v1)\n",
    "v2 = np.array(v2)\n",
    "m1 = np.array(m1)\n",
    "m2 = np.array(m2)"
   ]
  },
  {
   "cell_type": "code",
   "execution_count": null,
   "id": "11f1f7b9-1c94-4067-abb6-cb215aa6c178",
   "metadata": {},
   "outputs": [],
   "source": [
    "print(1 + v1)\n",
    "print(3 * v1)\n",
    "print(v1 + v2)\n",
    "print(v1 * v2)"
   ]
  },
  {
   "cell_type": "code",
   "execution_count": null,
   "id": "fc68f43e-3130-4bd9-a2f4-5c3d8d2acbe5",
   "metadata": {},
   "outputs": [],
   "source": [
    "print(m1 - 10)\n",
    "print(m1 / 1.2)\n",
    "print(m1**2)\n",
    "print(m1 + m2)"
   ]
  },
  {
   "cell_type": "markdown",
   "id": "18312ad5-ccf6-4853-ad4b-5f56183f7a1f",
   "metadata": {},
   "source": [
    "També hi ha operacions unitàries"
   ]
  },
  {
   "cell_type": "code",
   "execution_count": null,
   "id": "a0882957-4e59-4bc7-949b-bba21ab335f1",
   "metadata": {},
   "outputs": [],
   "source": [
    "m1.sum(), m1.min(), m1.max()"
   ]
  },
  {
   "cell_type": "markdown",
   "id": "4781d3df-deda-47db-92ad-94f355ba9aaa",
   "metadata": {},
   "source": [
    "## Bucles\n",
    "\n",
    "Si volem iterar sobre els elements d'un array ho farem per dimensions"
   ]
  },
  {
   "cell_type": "code",
   "execution_count": null,
   "id": "c6f709c0-10cc-4c0a-829a-bfdc493228e4",
   "metadata": {},
   "outputs": [],
   "source": [
    "for fila in m1:\n",
    "    print(fila)"
   ]
  },
  {
   "cell_type": "code",
   "execution_count": null,
   "id": "553e3d73-7b37-47b4-bcd8-aa83008aa494",
   "metadata": {},
   "outputs": [],
   "source": [
    "for fila in m1:\n",
    "    for element in fila:\n",
    "        print(element)"
   ]
  },
  {
   "cell_type": "markdown",
   "id": "506a62bf-05ba-42cb-84a8-e84352171498",
   "metadata": {},
   "source": [
    "Podem iterar directament sobre els elements **aplanant** l'array"
   ]
  },
  {
   "cell_type": "code",
   "execution_count": null,
   "id": "36dab15d-8f8c-451e-ba41-d5985e7a969a",
   "metadata": {},
   "outputs": [],
   "source": [
    "for element in m1.flatten():\n",
    "    print(element)"
   ]
  },
  {
   "cell_type": "markdown",
   "id": "8695d5ed-4325-4c53-8539-81a7ac060978",
   "metadata": {},
   "source": [
    "## Arrays booleans\n",
    "\n",
    "Podem crear arrays amb valors booleans a partir dels operadors `==`, `<`, `>`, etc."
   ]
  },
  {
   "cell_type": "code",
   "execution_count": null,
   "id": "dd8e4c96-7c32-43cd-a38c-4f6a85fdc639",
   "metadata": {},
   "outputs": [],
   "source": [
    "np.array([2, 4, 6, 8]) < 5"
   ]
  },
  {
   "cell_type": "code",
   "execution_count": null,
   "id": "3c94b57d-5ce6-44b4-bd73-b940efa0070d",
   "metadata": {},
   "outputs": [],
   "source": [
    "a = np.array([2, 4, 6, 8])\n",
    "mask = a < 5\n",
    "a[mask]"
   ]
  },
  {
   "cell_type": "code",
   "execution_count": null,
   "id": "149276b2-e141-45f2-90cf-4d279f30c777",
   "metadata": {},
   "outputs": [],
   "source": [
    "a[a > 5]"
   ]
  },
  {
   "cell_type": "markdown",
   "id": "b52b1f2d-ecdd-459d-8d0b-fdd5ef0c3364",
   "metadata": {},
   "source": [
    "## Canviar valors\n",
    "\n",
    "Es poden canviar els valors un per un"
   ]
  },
  {
   "cell_type": "code",
   "execution_count": null,
   "id": "d77ff5fa-6f9f-4dde-9e7a-e1e15a6508ff",
   "metadata": {},
   "outputs": [],
   "source": [
    "m1 = np.zeros((4, 4))\n",
    "m1[1, 2] = 10\n",
    "m1"
   ]
  },
  {
   "cell_type": "markdown",
   "id": "a66826ad-38cc-4676-9ecc-7ac59e7c1097",
   "metadata": {},
   "source": [
    "Però també podem canviar diversos valors de cop"
   ]
  },
  {
   "cell_type": "code",
   "execution_count": null,
   "id": "894bd90e-3fe3-4174-aa76-b75ae238fb94",
   "metadata": {},
   "outputs": [],
   "source": [
    "m1[0] = 1\n",
    "m1[0, :] = 1  # equivalent\n",
    "\n",
    "m1[:, 1] = 11\n",
    "\n",
    "m1"
   ]
  },
  {
   "cell_type": "markdown",
   "id": "7c8bff9c-c63c-45dc-8be2-6abbf62586bc",
   "metadata": {},
   "source": [
    "O fent servir un array booleà"
   ]
  },
  {
   "cell_type": "code",
   "execution_count": null,
   "id": "d5e30fd9-90d6-4977-8931-6b64a5f4d427",
   "metadata": {},
   "outputs": [],
   "source": [
    "m2 = np.random.random((5, 5))\n",
    "m2[m2 > 0.5] = 1\n",
    "m2"
   ]
  },
  {
   "cell_type": "markdown",
   "id": "e4e772a6-dc51-4080-a673-56f1528040ac",
   "metadata": {},
   "source": [
    "Altres maneres de modificar un array són:\n",
    "\n",
    "TODO: explicar\n",
    "\n",
    "| Operator | Description |\n",
    "|:---- |:---- |\n",
    "| **`np.append(a,b)`**               | **Append items to array** |\n",
    "| **`np.insert(array, 1, 2, axis)`** | **Insert items into array at axis 0 or 1** |\n",
    "| **`np.delete(array,1,axis)`**      | **Deletes items from array** |\n",
    "\n",
    "| Operator | Description |\n",
    "|:---- |:---- |\n",
    "| **`np.concatenate((a,b),axis=0)`** | **Split an array into multiple sub-arrays.** |\n",
    "| **`np.vstack((a,b))`**             | **Split an array in sub-arrays of (nearly) identical size** |\n",
    "| **`np.hstack((a,b))`**             | **Split the array horizontally at 3rd index** |"
   ]
  },
  {
   "cell_type": "markdown",
   "id": "250f5d0b-b91f-49f1-b63f-501ce63385a0",
   "metadata": {},
   "source": [
    "### Exercici"
   ]
  },
  {
   "cell_type": "code",
   "execution_count": null,
   "id": "908aa2d8-537f-42c5-9f46-8ac340590e32",
   "metadata": {},
   "outputs": [],
   "source": [
    "# Genera la matriu:\n",
    "\n",
    "###    1  2  3  4  5\n",
    "###    6  7  8  9 10\n",
    "###   11 12 13 14 15\n",
    "###   16 17 18 19 20\n",
    "###   21 22 23 24 25\n",
    "###   26 27 28 29 30\n",
    "\n",
    "# Accedeix a\n",
    "###  11 12\n",
    "###  16 17\n",
    "\n",
    "# Accedeix a\n",
    "###    1\n",
    "###       7\n",
    "###         13\n",
    "###            19\n",
    "###               25\n",
    "\n",
    "# Accedeix a\n",
    "###            4  5\n",
    "\n",
    "\n",
    "###            24 25\n",
    "###            29 30"
   ]
  },
  {
   "cell_type": "markdown",
   "id": "7d39e1b9-8b6f-4798-ad15-2093956956b1",
   "metadata": {},
   "source": [
    "#### Solució"
   ]
  },
  {
   "cell_type": "code",
   "execution_count": null,
   "id": "61ef88da-bbcb-4634-9c86-d8e6f8eb3264",
   "metadata": {},
   "outputs": [],
   "source": [
    "arr = np.arange(1, 31).reshape(6, 5)\n",
    "\n",
    "print(arr[2:4, :2])\n",
    "print()\n",
    "print(arr[np.arange(5), np.arange(5)])\n",
    "print()\n",
    "print(arr[[0, 4, 5], -2:])"
   ]
  },
  {
   "cell_type": "markdown",
   "id": "df0de91c-35d4-4978-a77c-f20a4d8a6410",
   "metadata": {},
   "source": [
    "## Matemàtiques"
   ]
  },
  {
   "cell_type": "markdown",
   "id": "fb2f4478-a625-419b-916e-4a392fbdd921",
   "metadata": {},
   "source": [
    "NumPy té les funcions matemàtiques més comuns:\n",
    "\n",
    "- **`np.add(x,y)`**        \n",
    "- **`np.substract(x,y)`**  \n",
    "- **`np.divide(x,y)`**     \n",
    "- **`np.multiply(x,y)`**   \n",
    "- **`np.sqrt(x)`**         \n",
    "- **`np.sin(x)`**          \n",
    "- **`np.cos(x)`**          \n",
    "- **`np.log(x)`**          \n",
    "- **`np.dot(x,y)`**        \n",
    "\n",
    "I també per estadística bàsica:\n",
    "\n",
    "| Operator | Description |\n",
    "|:---- |:---- |\n",
    "| **`np.mean(array)`**   | **Mitjana** |\n",
    "| **`np.median(array)`** | **Mediana** |\n",
    "| **`array.corrcoef()`** | **Coeficient de Correlació** |\n",
    "| **`np.std(array)`**    | **Desviació Estàndard** |\n",
    "\n",
    "Per més funcions vegeu el paquet SciPy"
   ]
  },
  {
   "cell_type": "markdown",
   "id": "22cc23f5-f2f2-4bc6-9948-f4f16aede4b2",
   "metadata": {},
   "source": [
    "## Incís: funcions i mutabilitat\n",
    "\n",
    "Compara les següents cel·les, què hi passa?"
   ]
  },
  {
   "cell_type": "code",
   "execution_count": null,
   "id": "92afead9-5181-4dfc-a0fe-c9c735efc1d9",
   "metadata": {},
   "outputs": [],
   "source": [
    "def concat_i(s):\n",
    "    s += \" i\"\n",
    "\n",
    "\n",
    "s = \"en Pol\"\n",
    "concat_i(s)\n",
    "s"
   ]
  },
  {
   "cell_type": "code",
   "execution_count": null,
   "id": "56736a88-5c75-4099-b84e-884dee07ab82",
   "metadata": {},
   "outputs": [],
   "source": [
    "def suma_1(x):\n",
    "    x += 1\n",
    "\n",
    "\n",
    "x_int = 2\n",
    "suma_1(x_int)\n",
    "x_int"
   ]
  },
  {
   "cell_type": "markdown",
   "id": "4cce2b14-185e-4844-8f58-e4b244b92776",
   "metadata": {},
   "source": [
    "- Els arrays de NumPy són mutables\n",
    "- Quan fem slicing, per defecte obtenim una `view`, no una còpia"
   ]
  },
  {
   "cell_type": "code",
   "execution_count": null,
   "id": "06c97283-2746-4f68-8db4-80f6523a8070",
   "metadata": {},
   "outputs": [],
   "source": [
    "arr = np.array([1, 2, 3, 4]).astype(float)\n",
    "\n",
    "\n",
    "def normalize(x):\n",
    "    x /= np.sum(x)\n",
    "\n",
    "\n",
    "normalize(arr)\n",
    "arr"
   ]
  },
  {
   "cell_type": "code",
   "execution_count": null,
   "id": "37dfab2f-7d9e-4297-a6c2-a2cadac5cf47",
   "metadata": {},
   "outputs": [],
   "source": [
    "# Comparem una llista i un array\n",
    "llista = [1, 2, 3, 4]\n",
    "arr = np.array(llista)\n",
    "\n",
    "# Fem el mateix tall\n",
    "slice_llista = llista[1:-1]\n",
    "slice_arr = arr[1:-1]\n",
    "\n",
    "# I canviem un índex\n",
    "slice_llista[0] = 9\n",
    "slice_arr[0] = 9\n",
    "\n",
    "# Mirem els originals\n",
    "print(llista)\n",
    "print(arr)"
   ]
  },
  {
   "cell_type": "markdown",
   "id": "56a92dd1-236c-4ad4-b001-cfe55f48a625",
   "metadata": {},
   "source": [
    "## *Còpies\n",
    "\n",
    "NumPy facilita una mica el problema de les còpies i còpies profundes.\n",
    "Si tenim una matriu del mateix tipus de dades `.copy()` és suficient per fer una còpia."
   ]
  },
  {
   "cell_type": "code",
   "execution_count": null,
   "id": "2e538a11-121c-4fec-a62d-03e02940be89",
   "metadata": {},
   "outputs": [],
   "source": [
    "a = np.zeros((2, 3))\n",
    "b = a.copy()\n",
    "a[0][0] = 3\n",
    "a, b, id(a) == id(b)"
   ]
  },
  {
   "cell_type": "markdown",
   "id": "40b404b8-b934-4a82-a737-916fced1bece",
   "metadata": {},
   "source": [
    "Per tant, si volem copiar un slice podem fer:"
   ]
  },
  {
   "cell_type": "code",
   "execution_count": null,
   "id": "9083206a-7989-40fb-8c13-47632adc239e",
   "metadata": {},
   "outputs": [],
   "source": [
    "llista = [1, 2, 3, 4]\n",
    "arr = np.array(llista)\n",
    "\n",
    "slice_arr = arr[1:-1].copy()\n",
    "slice_arr[0] = 9\n",
    "\n",
    "arr, slice_arr"
   ]
  },
  {
   "cell_type": "markdown",
   "id": "2da2d114-5825-45e8-8320-2e5b8d412797",
   "metadata": {},
   "source": [
    "Però cal tenir en compte que podem tenir arrays amb estructures més complexes, on caldrà `deepcopy`"
   ]
  },
  {
   "cell_type": "code",
   "execution_count": null,
   "id": "ccb3bcac-fdcf-4a54-bfec-1a7003f096a7",
   "metadata": {},
   "outputs": [],
   "source": [
    "a = np.array([1, \"m\", [2, 3, 4]], dtype=object)\n",
    "b = a.copy()\n",
    "b[2][0] = 10\n",
    "a"
   ]
  },
  {
   "cell_type": "code",
   "execution_count": null,
   "id": "a807296b-c4c1-4a82-8ec7-6260d29c0891",
   "metadata": {},
   "outputs": [],
   "source": [
    "from copy import deepcopy\n",
    "\n",
    "a = np.array([1, \"m\", [2, 3, 4]], dtype=object)\n",
    "b = deepcopy(a)\n",
    "b[2][0] = 10\n",
    "a"
   ]
  }
 ],
 "metadata": {
  "kernelspec": {
   "display_name": "Python 3 (ipykernel)",
   "language": "python",
   "name": "python3"
  },
  "language_info": {
   "codemirror_mode": {
    "name": "ipython",
    "version": 3
   },
   "file_extension": ".py",
   "mimetype": "text/x-python",
   "name": "python",
   "nbconvert_exporter": "python",
   "pygments_lexer": "ipython3"
  }
 },
 "nbformat": 4,
 "nbformat_minor": 5
}
