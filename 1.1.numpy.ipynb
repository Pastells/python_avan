{
 "cells": [
  {
   "cell_type": "markdown",
   "id": "efaefb8d-e42c-46d8-a380-e435885b7d75",
   "metadata": {},
   "source": [
    "# Introducció a Numpy\n",
    "\n",
    "Creació manipulació de càlculs vectors i matrius"
   ]
  },
  {
   "cell_type": "code",
   "execution_count": null,
   "id": "cf5512ab-1eae-4e78-b0b4-427c1478352c",
   "metadata": {},
   "outputs": [],
   "source": [
    "import numpy as np"
   ]
  },
  {
   "cell_type": "markdown",
   "id": "8cb34cee-b583-4836-bd50-ddad4ebb8352",
   "metadata": {},
   "source": [
    "## Ndarray (N-dimensional array)"
   ]
  },
  {
   "cell_type": "code",
   "execution_count": null,
   "id": "a707f576-8a86-4835-a88d-18f4d6f5024a",
   "metadata": {},
   "outputs": [],
   "source": [
    "llista1 = [1, 2, 3, 4]\n",
    "array1 = np.array(llista)\n",
    "print(llista1)\n",
    "print(array1)"
   ]
  },
  {
   "cell_type": "code",
   "execution_count": null,
   "id": "3c38dd89-1932-4cf3-a0ed-bc22f18da05e",
   "metadata": {},
   "outputs": [],
   "source": [
    "llista2 = [[1, 2, 3], [4, 5, 6.0]]\n",
    "array2 = np.array(llista2)\n",
    "print(llista2)\n",
    "print(array2)"
   ]
  },
  {
   "cell_type": "markdown",
   "id": "84c50699-6074-4984-8c68-40da4f921cfd",
   "metadata": {},
   "source": [
    "L'objecte que es crea és de tipus `np.ndarray` i no `np.array`"
   ]
  },
  {
   "cell_type": "code",
   "execution_count": null,
   "id": "5e47351a-aef7-4ae8-a15e-25e5a3fbd485",
   "metadata": {},
   "outputs": [],
   "source": [
    "type(array1)"
   ]
  },
  {
   "cell_type": "markdown",
   "id": "e16ce1f4-21f6-4ce9-8055-6963bdd590e1",
   "metadata": {},
   "source": [
    "També es poden crear `ndarrays` amb: `np.zeros` i `np.ones`,"
   ]
  },
  {
   "cell_type": "code",
   "execution_count": null,
   "id": "480a5999-3531-4b97-87a3-6f56dfebbe9e",
   "metadata": {},
   "outputs": [],
   "source": [
    "(\n",
    "    np.zeros((3, 3)),\n",
    "    np.ones(15),\n",
    ")"
   ]
  },
  {
   "cell_type": "markdown",
   "id": "d97cb60c-812e-4dae-9d73-ab2ab6118612",
   "metadata": {},
   "source": [
    "amb `np.arange(inici, final*, pas)` -  final no inclòs, decimals permesos\n",
    "crea un array generant números amb float entre un interval"
   ]
  },
  {
   "cell_type": "code",
   "execution_count": null,
   "id": "d053a47a-28b2-4641-8272-0cc7f7cb1278",
   "metadata": {},
   "outputs": [],
   "source": [
    "np.arange(20)"
   ]
  },
  {
   "cell_type": "code",
   "execution_count": null,
   "id": "b17f4a76-bb26-4d89-9be6-97feb8f18bc0",
   "metadata": {},
   "outputs": [],
   "source": [
    "np.arange(1, 30, 4)"
   ]
  },
  {
   "cell_type": "code",
   "execution_count": null,
   "id": "67b9af74-4565-49fc-8bce-2075f0408359",
   "metadata": {},
   "outputs": [],
   "source": [
    "np.arange(1, 10, 0.7)"
   ]
  },
  {
   "cell_type": "markdown",
   "id": "552fb824-7cd4-4137-a6e8-c12a01b6a690",
   "metadata": {},
   "source": [
    "`np.linspace(inici, final, num elements)` final inclòs,\n",
    "crea un array amb un numero de elements exacte amb valors entre un interval"
   ]
  },
  {
   "cell_type": "code",
   "execution_count": null,
   "id": "1ecad9c7-6b04-4a4d-bb3d-1ed401d13abc",
   "metadata": {},
   "outputs": [],
   "source": [
    "np.linspace(1, 10, 15)"
   ]
  },
  {
   "cell_type": "markdown",
   "id": "990459e1-dac4-4961-a3da-82e443da9a57",
   "metadata": {},
   "source": [
    "## Propietats"
   ]
  },
  {
   "cell_type": "code",
   "execution_count": null,
   "id": "cad5029b-5127-44e3-bea3-9910f498c19f",
   "metadata": {},
   "outputs": [],
   "source": [
    "# dimensió\n",
    "print(array1.ndim, array2.ndim)\n",
    "\n",
    "# forma\n",
    "print(array1.shape, array2.shape)\n",
    "\n",
    "# nombre d'elements\n",
    "print(array1.size, array2.size)\n",
    "\n",
    "## no és el mateix que len(), que dona només la primera dimensió\n",
    "print(len(array1), len(array2))\n",
    "\n",
    "# tipus de dades\n",
    "print(array1.dtype, array2.dtype)"
   ]
  },
  {
   "cell_type": "markdown",
   "id": "b087cb71-0919-4175-95a9-d8b37dc02e7f",
   "metadata": {},
   "source": [
    "S'accedeix als elements, o es fa `slicing` \n",
    "de la mateixa manera que per llistes de python, però també **amb comes entre dimensions**"
   ]
  },
  {
   "cell_type": "code",
   "execution_count": null,
   "id": "a6bc2563-9894-42d3-8aac-5530de0e7554",
   "metadata": {},
   "outputs": [],
   "source": [
    "array2[1][1], array2[1, 1]"
   ]
  },
  {
   "cell_type": "code",
   "execution_count": null,
   "id": "42008655-036e-4697-8de1-86ecb54fe658",
   "metadata": {},
   "outputs": [],
   "source": [
    "np.arange(20)"
   ]
  },
  {
   "cell_type": "markdown",
   "id": "f92567fe-50f0-422c-8bf8-92deefadadb0",
   "metadata": {},
   "source": [
    "## Molt bé, però per què ens interessa?\n",
    "\n",
    "Fent servir llistes de python, fer operacions és feixuc, numpy ho facilita molt.\n",
    "\n",
    "Per exemple, suposem que volem sumar dos vectors. Com ho faríeu?"
   ]
  },
  {
   "cell_type": "code",
   "execution_count": null,
   "id": "63757493-6276-4f64-a92c-8c4657f34ca8",
   "metadata": {},
   "outputs": [],
   "source": [
    "v1 = [8, 8, 9]\n",
    "v2 = [1, 3, 2]"
   ]
  },
  {
   "cell_type": "code",
   "execution_count": null,
   "id": "4ed1a1f7-8d26-4a5c-a023-077445f986cc",
   "metadata": {},
   "outputs": [],
   "source": []
  },
  {
   "cell_type": "markdown",
   "id": "d06e9a80-4e9f-42be-84e0-bea41ba29825",
   "metadata": {},
   "source": [
    "I dues matrius?"
   ]
  },
  {
   "cell_type": "code",
   "execution_count": null,
   "id": "0a9c5874-78a9-46f5-beda-b86667b0fa8d",
   "metadata": {},
   "outputs": [],
   "source": [
    "m1 = [[8, 8, 9], [7, 2, 3], [2, 2, 3]]\n",
    "m2 = [[1, 3, 2], [0, 9, 8], [7, 3, 5]]"
   ]
  },
  {
   "cell_type": "markdown",
   "id": "8a3ece60-7171-46bb-8351-3edffd587f47",
   "metadata": {},
   "source": [
    "Amb numpy, podem fer servir les operacions estàndard com si féssim àlgebra.\n",
    "\n",
    "Les operacions es fan element a element."
   ]
  },
  {
   "cell_type": "code",
   "execution_count": null,
   "id": "3f8158fd-c5d9-4d8a-9744-3184278ec693",
   "metadata": {},
   "outputs": [],
   "source": [
    "v1 = np.array(v1)\n",
    "v2 = np.array(v2)\n",
    "m1 = np.array(m1)\n",
    "m2 = np.array(m2)\n",
    "\n",
    "print(1 + v1)\n",
    "print(3 * v1)\n",
    "print(v1 + v2)\n",
    "print(v1 * v2)"
   ]
  },
  {
   "cell_type": "code",
   "execution_count": null,
   "id": "fc68f43e-3130-4bd9-a2f4-5c3d8d2acbe5",
   "metadata": {},
   "outputs": [],
   "source": [
    "print(m1 - 10)\n",
    "print(m1 / 1.2)\n",
    "print(m1**2)\n",
    "print(m1 + m2)"
   ]
  },
  {
   "cell_type": "markdown",
   "id": "18312ad5-ccf6-4853-ad4b-5f56183f7a1f",
   "metadata": {},
   "source": [
    "També hi ha operacions unitàries"
   ]
  },
  {
   "cell_type": "code",
   "execution_count": null,
   "id": "19332fed-ba4e-4bbc-8185-b6d325c0f64d",
   "metadata": {},
   "outputs": [],
   "source": [
    "m1.sum(), m1.min(), m1.max()"
   ]
  },
  {
   "cell_type": "markdown",
   "id": "4781d3df-deda-47db-92ad-94f355ba9aaa",
   "metadata": {},
   "source": [
    "## Bucles\n",
    "\n",
    "Si volem iterar sobre els elements d'un array ho farem per dimensions"
   ]
  },
  {
   "cell_type": "code",
   "execution_count": null,
   "id": "c6f709c0-10cc-4c0a-829a-bfdc493228e4",
   "metadata": {},
   "outputs": [],
   "source": [
    "for fila in m1:\n",
    "    print(fila)"
   ]
  },
  {
   "cell_type": "code",
   "execution_count": null,
   "id": "553e3d73-7b37-47b4-bcd8-aa83008aa494",
   "metadata": {},
   "outputs": [],
   "source": [
    "for fila in m1:\n",
    "    for element in fila:\n",
    "        print(element)"
   ]
  },
  {
   "cell_type": "markdown",
   "id": "506a62bf-05ba-42cb-84a8-e84352171498",
   "metadata": {},
   "source": [
    "Podem iterar directament sobre els elements **aplanant** l'array"
   ]
  },
  {
   "cell_type": "code",
   "execution_count": null,
   "id": "36dab15d-8f8c-451e-ba41-d5985e7a969a",
   "metadata": {},
   "outputs": [],
   "source": [
    "for element in m1.flatten():\n",
    "    print(element)"
   ]
  }
 ],
 "metadata": {
  "kernelspec": {
   "display_name": "Python 3 (ipykernel)",
   "language": "python",
   "name": "python3"
  },
  "language_info": {
   "codemirror_mode": {
    "name": "ipython",
    "version": 3
   },
   "file_extension": ".py",
   "mimetype": "text/x-python",
   "name": "python",
   "nbconvert_exporter": "python",
   "pygments_lexer": "ipython3"
  }
 },
 "nbformat": 4,
 "nbformat_minor": 5
}
