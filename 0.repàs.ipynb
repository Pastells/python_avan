{
 "cells": [
  {
   "cell_type": "markdown",
   "id": "df56e3ce-7e55-4e3a-9a63-e472a21a715a",
   "metadata": {},
   "source": [
    "# Repàs"
   ]
  },
  {
   "cell_type": "markdown",
   "id": "3ad933a3-76a0-4376-b083-7f1d31bae0f0",
   "metadata": {},
   "source": [
    "## Comentaris\n",
    "\n",
    "+ Es marquen amb #\n",
    "+ Van fins al final de línia\n",
    "+ Es poden fer comentaris a partir d'strings, això permet comentaris múlti-línia amb cometes triples (normalment reservat per _docstrings_)"
   ]
  },
  {
   "cell_type": "code",
   "execution_count": null,
   "id": "758c001d-b471-418d-b2ea-5a1b7ec1c0a5",
   "metadata": {},
   "outputs": [],
   "source": [
    "# això és un comentari\n",
    "\n",
    "\"un string sense igual també és un comentari\"\n",
    "\n",
    "\"\"\"\n",
    "puc\n",
    "fer\n",
    "un\n",
    "comentari\n",
    "més\n",
    "llarg\n",
    "\"\"\""
   ]
  },
  {
   "cell_type": "markdown",
   "id": "26d25635-f743-478a-8f57-f4c72042616b",
   "metadata": {},
   "source": [
    "## Operacions"
   ]
  },
  {
   "cell_type": "code",
   "execution_count": null,
   "id": "47227fda-d947-489d-951c-eab5deba7c30",
   "metadata": {},
   "outputs": [],
   "source": [
    "a = 2 + 3\n",
    "b = 3 * 4\n",
    "c = 3 / 4\n",
    "d = 17 // 3\n",
    "e = 17 % 3\n",
    "f = 2**3\n",
    "\n",
    "a, b, c, d, e, f"
   ]
  },
  {
   "cell_type": "markdown",
   "id": "9767c3cb-bc73-4e2d-aa64-002f3f5ed295",
   "metadata": {},
   "source": [
    "## Condicions"
   ]
  },
  {
   "cell_type": "code",
   "execution_count": null,
   "id": "195f483b-1b48-4d6a-8d91-8d982f9f0543",
   "metadata": {},
   "outputs": [],
   "source": [
    "if a + b == c:\n",
    "    print(\"a + b = c\")\n",
    "elif a < b:\n",
    "    print(\"a < b\")\n",
    "else:\n",
    "    print(\"no\")"
   ]
  },
  {
   "cell_type": "markdown",
   "id": "290c95a9-8b94-47c6-af19-3daff81b76ed",
   "metadata": {},
   "source": [
    "## Relacions\n",
    "\n",
    "+ Operadors\n",
    "  + <\n",
    "  + \\>\n",
    "  + <=\n",
    "  + \\>=\n",
    "  + ==\n",
    "  + !=\n",
    "\n",
    "+ Expressions booleanes: and, or, not"
   ]
  },
  {
   "cell_type": "code",
   "execution_count": null,
   "id": "b9e3742a-e4ba-4d82-ae3f-6103cbf2b7a1",
   "metadata": {},
   "outputs": [],
   "source": [
    "if a >= c and a <= b:\n",
    "    print(\"a està entre b i c\")\n",
    "if not (a < c or a > b):\n",
    "    print(\"a encara està entre b i c\")"
   ]
  },
  {
   "cell_type": "markdown",
   "id": "1775f5eb-a374-418b-aa80-b09a1147f49e",
   "metadata": {},
   "source": [
    "## Bucles\n",
    "\n",
    "+ __while__ itera sobre una CONDICIÓ\n",
    "+ __for__ itera sobre elements\n",
    "+ __break__ acaba el bucle\n",
    "+ __continue__ passa a la següent iteració"
   ]
  },
  {
   "cell_type": "code",
   "execution_count": null,
   "id": "ef758fb9-d565-407c-8bcf-e084bd9a3d07",
   "metadata": {},
   "outputs": [],
   "source": [
    "count = 5\n",
    "while count > 0:\n",
    "    print(\"T-minus\", count)\n",
    "    count -= 1\n",
    "print(\"Boom!\")"
   ]
  },
  {
   "cell_type": "code",
   "execution_count": null,
   "id": "c4a8f7bb-7b8a-4ebc-9a1b-66e0cf5c698d",
   "metadata": {},
   "outputs": [],
   "source": [
    "nums = [1, 7, 10, 23]\n",
    "for x in nums:\n",
    "    print(x)\n",
    "\n",
    "paraula = \"logopèdia\"\n",
    "for ll in paraula:\n",
    "    if ll == \"è\":\n",
    "        continue\n",
    "    print(ll)\n",
    "    if ll == \"i\":\n",
    "        break"
   ]
  },
  {
   "cell_type": "markdown",
   "id": "72dc1aa2-5447-4abd-afae-67d264396f54",
   "metadata": {},
   "source": [
    "## f-strings\n",
    "\n",
    "Per formatejar text podem fer servir f-strings\n",
    "\n",
    "+ Variables entre claus {}\n",
    "+ = imprimeix el nom de la variable i el valor\n",
    "+ Format després de dos punts :\n",
    "    + Per floats se sol indicar el nombre de decimals: .2f són 2 decimals \n",
    "    + El nombre de davant el punt indica el nombre de símbols (enters, punt i decimals)\n",
    "    + Per defecte es deixen espais en blanc si es demana més espai.\n",
    "    + Es poden posar zeros en comptes d'espais posant un zero al davant"
   ]
  },
  {
   "cell_type": "code",
   "execution_count": null,
   "id": "4d6c0938-e95e-405f-a422-106e8ab80328",
   "metadata": {},
   "outputs": [],
   "source": [
    "print(f\"Les variables {a=} i {b+c}\")\n",
    "\n",
    "num1 = 23.212123\n",
    "num2 = 2\n",
    "frase = \"una frase molt llarga\"\n",
    "print(f\"Els resultats són {num1:8.2f} i {num2:2d}\")\n",
    "print(f\"Els resultats són {num1*10:08.2f} i {num2:03d}\")"
   ]
  },
  {
   "cell_type": "markdown",
   "id": "6c2ed9c1-9cfd-4f3e-a7c4-e91cf176e3c1",
   "metadata": {},
   "source": [
    "## Objectes principals\n",
    "\n",
    "\n",
    "|Exemple|Tipus|\n",
    "| ------------- | ------------- |\n",
    "|None | Nothing, nada, nil, ...|\n",
    "|True | Boolean|\n",
    "|23 | Integer|\n",
    "|2.3 | Float|\n",
    "|2+3j | Complex|\n",
    "|'Hello World' | String (Unicode)|\n",
    "|('www.python.org', 80) | Tuple|\n",
    "|[1,2,3,4] | List|\n",
    "|{'name':'IBM', ... } | Dictionary|\n",
    "\n",
    "\n",
    "\n",
    "+ a + b # Add\n",
    "+ x = a[i] # Indexed lookup\n",
    "+ y = a[i:j] # Slicing\n",
    "+ a[i] = val # Indexed assignment\n",
    "+ x in a # Containment"
   ]
  },
  {
   "cell_type": "code",
   "execution_count": null,
   "id": "737ae066-15a8-4471-b4f0-d9df33bf67a4",
   "metadata": {},
   "outputs": [],
   "source": []
  }
 ],
 "metadata": {
  "kernelspec": {
   "display_name": "Python 3 (ipykernel)",
   "language": "python",
   "name": "python3"
  },
  "language_info": {
   "codemirror_mode": {
    "name": "ipython",
    "version": 3
   },
   "file_extension": ".py",
   "mimetype": "text/x-python",
   "name": "python",
   "nbconvert_exporter": "python",
   "pygments_lexer": "ipython3"
  }
 },
 "nbformat": 4,
 "nbformat_minor": 5
}
