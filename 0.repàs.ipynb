{
 "cells": [
  {
   "cell_type": "markdown",
   "id": "df56e3ce-7e55-4e3a-9a63-e472a21a715a",
   "metadata": {},
   "source": [
    "# Repàs General"
   ]
  },
  {
   "cell_type": "markdown",
   "id": "3ad933a3-76a0-4376-b083-7f1d31bae0f0",
   "metadata": {},
   "source": [
    "## Comentaris\n",
    "\n",
    "+ Es marquen amb #\n",
    "+ Van fins al final de línia\n",
    "+ Es poden fer comentaris a partir d'strings, això permet comentaris múlti-línia amb cometes triples (normalment reservat per _docstrings_)"
   ]
  },
  {
   "cell_type": "code",
   "execution_count": null,
   "id": "758c001d-b471-418d-b2ea-5a1b7ec1c0a5",
   "metadata": {},
   "outputs": [],
   "source": [
    "# això és un comentari\n",
    "\n",
    "\"un string sense igual també és un comentari\"\n",
    "\n",
    "\"\"\"\n",
    "puc\n",
    "fer\n",
    "un\n",
    "comentari\n",
    "més\n",
    "llarg\n",
    "\"\"\""
   ]
  },
  {
   "cell_type": "markdown",
   "id": "26d25635-f743-478a-8f57-f4c72042616b",
   "metadata": {},
   "source": [
    "## Operacions"
   ]
  },
  {
   "cell_type": "code",
   "execution_count": null,
   "id": "47227fda-d947-489d-951c-eab5deba7c30",
   "metadata": {},
   "outputs": [],
   "source": [
    "a = 2 + 3\n",
    "b = 3 * 4\n",
    "c = 3 / 4\n",
    "d = 17 // 3\n",
    "e = 17 % 3\n",
    "f = 2**3\n",
    "\n",
    "a, b, c, d, e, f"
   ]
  },
  {
   "cell_type": "markdown",
   "id": "fec28446-a027-4775-929e-d41a9a3f3bb3",
   "metadata": {},
   "source": [
    "Python també té els operadors +=, -=, *= i /="
   ]
  },
  {
   "cell_type": "markdown",
   "id": "9767c3cb-bc73-4e2d-aa64-002f3f5ed295",
   "metadata": {},
   "source": [
    "## Condicions"
   ]
  },
  {
   "cell_type": "code",
   "execution_count": null,
   "id": "195f483b-1b48-4d6a-8d91-8d982f9f0543",
   "metadata": {},
   "outputs": [],
   "source": [
    "if a + b == c:\n",
    "    print(\"a + b = c\")\n",
    "elif a < b:\n",
    "    print(\"a < b\")\n",
    "else:\n",
    "    print(\"no\")"
   ]
  },
  {
   "cell_type": "markdown",
   "id": "290c95a9-8b94-47c6-af19-3daff81b76ed",
   "metadata": {},
   "source": [
    "## Relacions\n",
    "\n",
    "+ Operadors\n",
    "  + <\n",
    "  + \\>\n",
    "  + <=\n",
    "  + \\>=\n",
    "  + ==\n",
    "  + !=\n",
    "\n",
    "+ Expressions booleanes: and, or, not"
   ]
  },
  {
   "cell_type": "code",
   "execution_count": null,
   "id": "b9e3742a-e4ba-4d82-ae3f-6103cbf2b7a1",
   "metadata": {},
   "outputs": [],
   "source": [
    "if a >= c and a <= b:\n",
    "    print(\"a està entre b i c\")\n",
    "\n",
    "if not (a < c or a > b):\n",
    "    print(\"a encara està entre b i c\")"
   ]
  },
  {
   "cell_type": "markdown",
   "id": "1775f5eb-a374-418b-aa80-b09a1147f49e",
   "metadata": {},
   "source": [
    "## Bucles\n",
    "\n",
    "+ __while__ itera sobre una CONDICIÓ\n",
    "+ __for__ itera sobre elements\n",
    "+ __break__ acaba el bucle\n",
    "+ __continue__ passa a la següent iteració"
   ]
  },
  {
   "cell_type": "code",
   "execution_count": null,
   "id": "146a20b1-d921-4c4c-9882-551114c15a42",
   "metadata": {},
   "outputs": [],
   "source": [
    "count = 5\n",
    "while count > 0:\n",
    "    print(\"T-minus\", count)\n",
    "    count -= 1\n",
    "print(\"Boom!\")"
   ]
  },
  {
   "cell_type": "code",
   "execution_count": null,
   "id": "c4a8f7bb-7b8a-4ebc-9a1b-66e0cf5c698d",
   "metadata": {},
   "outputs": [],
   "source": [
    "nums = [1, 7, 10, 23]\n",
    "for x in nums:\n",
    "    print(x)\n",
    "\n",
    "paraula = \"logopèdia\"\n",
    "for ll in paraula:\n",
    "    if ll == \"è\":\n",
    "        continue\n",
    "    print(ll)\n",
    "    if ll == \"i\":\n",
    "        break"
   ]
  },
  {
   "cell_type": "markdown",
   "id": "6c2ed9c1-9cfd-4f3e-a7c4-e91cf176e3c1",
   "metadata": {},
   "source": [
    "# Objectes principals\n",
    "\n",
    "\n",
    "|Exemple|Tipus|\n",
    "| ------------- | ------------- |\n",
    "|None | Nothing, nada, nil, ...|\n",
    "|True | Boolean|\n",
    "|23 | Integer|\n",
    "|2.3 | Float|\n",
    "|2+3j | Complex|\n",
    "|'Hello World' | String (Unicode)|\n",
    "|('www.python.org', 80) | Tuple|\n",
    "|[1,2,3,4] | List|\n",
    "|{'name':'IBM', ... } | Dictionary|\n",
    "\n",
    "Cada objecte admet diferent operadors\n",
    "```\n",
    "a + b      # Addició\n",
    "x = a[i]   # Agafar un índex\n",
    "a[i] = val # Modificar un índex\n",
    "y = a[i:j] # Slicing\n",
    "x in a     # Presència d'un objecte dins un altre\n",
    "```\n",
    "\n",
    "i mètodes\n",
    "```\n",
    "a.split()\n",
    "b.append(2)\n",
    "```"
   ]
  },
  {
   "cell_type": "markdown",
   "id": "0c3aba69-07b1-4e1b-abf8-80929ee50fb6",
   "metadata": {},
   "source": [
    "## Strings\n",
    "\n",
    "Objecte de només lectura, no podem modificar-lo sense crear-ne un de nou"
   ]
  },
  {
   "cell_type": "code",
   "execution_count": null,
   "id": "941343ab-4c86-4418-90b0-244b40aad1e0",
   "metadata": {},
   "outputs": [],
   "source": [
    "sigles = (\"BOE\", \"DOGC\", \"DOUE\", \"TEDH\", \"TJUE\", \"UE\")\n",
    "sigles = \"BOE DOGC DOUE TEDH TJUE UE\""
   ]
  },
  {
   "cell_type": "markdown",
   "id": "b355b7a8-afba-4685-b82e-45729113351e",
   "metadata": {},
   "source": [
    "Podem:\n",
    "1. Extreure caràcters individuals, recorda que Python comença a comptar a 0"
   ]
  },
  {
   "cell_type": "code",
   "execution_count": null,
   "id": "27a4d548-5e14-47c5-8966-923da9dd7119",
   "metadata": {},
   "outputs": [],
   "source": [
    "(\n",
    "    sigles[0],\n",
    "    sigles[1],\n",
    "    sigles[-1],\n",
    "    sigles[-2],\n",
    ")"
   ]
  },
  {
   "cell_type": "markdown",
   "id": "2f8185db-b34c-4267-b438-de4c35cb30bc",
   "metadata": {},
   "source": [
    "2. Fer-ne un tall (_slicing_)"
   ]
  },
  {
   "cell_type": "code",
   "execution_count": null,
   "id": "a92e3240-3c47-4274-beba-ea98d6743160",
   "metadata": {},
   "outputs": [],
   "source": [
    "(\n",
    "    sigles[:8],\n",
    "    sigles[:-3],\n",
    "    sigles[-3:],\n",
    "    sigles[4:8],\n",
    ")"
   ]
  },
  {
   "cell_type": "markdown",
   "id": "00c8aa96-b224-403c-9c88-ad3c59c96736",
   "metadata": {},
   "source": [
    "3. Concatenar strings\n",
    "\n",
    "Estem creant objectes nous, no modificant-los. Podem veure si dos objectes són diferents amb `id`"
   ]
  },
  {
   "cell_type": "code",
   "execution_count": null,
   "id": "567f3f1b-e2db-4d1d-a1b4-1afe4a8cea31",
   "metadata": {},
   "outputs": [],
   "source": [
    "sigles2 = sigles\n",
    "id(sigles) == id(sigles2)"
   ]
  },
  {
   "cell_type": "code",
   "execution_count": null,
   "id": "ce29478b-cc09-43d9-a689-8df320fc8947",
   "metadata": {},
   "outputs": [],
   "source": [
    "sigles += \" EUA\"\n",
    "sigles, id(sigles)"
   ]
  },
  {
   "cell_type": "code",
   "execution_count": null,
   "id": "14b58f88-4aa7-4c8a-800c-113375001bf7",
   "metadata": {},
   "outputs": [],
   "source": [
    "sigles = \"TC \" + sigles\n",
    "sigles, id(sigles)"
   ]
  },
  {
   "cell_type": "markdown",
   "id": "b8279db9-fb2d-438a-a0e6-e64c3cc0b9e5",
   "metadata": {},
   "source": [
    "4. Pertinença (substrings)"
   ]
  },
  {
   "cell_type": "code",
   "execution_count": null,
   "id": "ba79c2be-b115-45fe-bc6d-546d3ca7930e",
   "metadata": {},
   "outputs": [],
   "source": [
    "(\"TJUE\" in sigles, \"CAT\" in sigles)"
   ]
  },
  {
   "cell_type": "markdown",
   "id": "392b2776-b54a-4d15-9666-c322aba64364",
   "metadata": {},
   "source": [
    "5. Llargada"
   ]
  },
  {
   "cell_type": "code",
   "execution_count": null,
   "id": "22bb4330-272b-45b1-ae91-13cc8d08ffbd",
   "metadata": {},
   "outputs": [],
   "source": [
    "len(sigles)"
   ]
  },
  {
   "cell_type": "markdown",
   "id": "196f4c9e-7265-4998-a9c3-00369c45d3db",
   "metadata": {},
   "source": [
    "6. Mètodes\n",
    "\n",
    "Hi ha molts mètodes per strings, n'anirem veient al llarg del curs. Alguns són:\n",
    "+ lower, upper i title\n",
    "+ strip\n",
    "+ count\n",
    "+ split\n",
    "+ replace\n",
    "+ join\n",
    "+ isupper, islower\n",
    "+ isalpha, isalnum, isdecimal, isspace\n",
    "+ startswith, endswith"
   ]
  },
  {
   "cell_type": "code",
   "execution_count": null,
   "id": "e03ea582-7c82-45f5-8e83-8809ecdd4761",
   "metadata": {},
   "outputs": [],
   "source": [
    "sigles.lower(), sigles.title()"
   ]
  },
  {
   "cell_type": "code",
   "execution_count": null,
   "id": "4311b8d3-5ec6-46fe-b1f7-711698347b91",
   "metadata": {},
   "outputs": [],
   "source": [
    "sigles.count(\"T\")"
   ]
  },
  {
   "cell_type": "code",
   "execution_count": null,
   "id": "567af560-7759-4f0b-82f7-ccbfbc936d99",
   "metadata": {},
   "outputs": [],
   "source": [
    "sigles.split()  # Per defecte separa espais"
   ]
  },
  {
   "cell_type": "code",
   "execution_count": null,
   "id": "61bafd8c-ccba-4645-9436-d1d0ca2683e0",
   "metadata": {},
   "outputs": [],
   "source": [
    "sigles.replace(\" \", \".\")"
   ]
  },
  {
   "cell_type": "code",
   "execution_count": null,
   "id": "456933e4-a743-43fd-9c62-c997bff5a7c4",
   "metadata": {},
   "outputs": [],
   "source": [
    "sigles.replace(\" \", \".\").split(\".\")"
   ]
  },
  {
   "cell_type": "code",
   "execution_count": null,
   "id": "dabb8f09-4d3e-429b-98a1-f696f396ce5a",
   "metadata": {},
   "outputs": [],
   "source": [
    "(\n",
    "    \"\".join((\"un\", \"dos\", \"tres\")),\n",
    "    \" \".join((\"un\", \"dos\", \"tres\")),\n",
    "    \", \".join((\"un\", \"dos\", \"tres\")),\n",
    ")"
   ]
  },
  {
   "cell_type": "code",
   "execution_count": null,
   "id": "ae544705-e9a7-4cf0-bb34-5bd8888ab399",
   "metadata": {},
   "outputs": [],
   "source": [
    "sigles.isupper(), sigles.isalpha(), \"123\".isalnum(), \"123!\".isalnum()"
   ]
  },
  {
   "cell_type": "markdown",
   "id": "722f3a20-1292-4554-be27-f96ec6f63335",
   "metadata": {},
   "source": [
    "### Caràcters especials"
   ]
  },
  {
   "cell_type": "code",
   "execution_count": null,
   "id": "c93659ea-8dda-43bb-b2c8-bafce987c10a",
   "metadata": {},
   "outputs": [],
   "source": [
    "print(\"a\\tb\")  # tabulador\n",
    "print(\"a\\nb\")  # línia\n",
    "\n",
    "# Alguns caràcters requereixen que els \"escapem\"\n",
    "# posant una barra inversa al davant\n",
    "\n",
    "print(\"\\\\\")\n",
    "\n",
    "# Per posar cometes dins a cometes es podria fer \"\\\"\" i '\\''\n",
    "# Però la manera senzilla és:\n",
    "print(\"'algo'\")\n",
    "print('\"algo\"')\n",
    "\n",
    "# Si volem les dues per algun motiu podem fer servir cometes triples\n",
    "print(\"\"\"Potser volem citar 'Una frase amb \"una cita\" interna'\"\"\")"
   ]
  },
  {
   "cell_type": "markdown",
   "id": "72dc1aa2-5447-4abd-afae-67d264396f54",
   "metadata": {},
   "source": [
    "### f-strings\n",
    "\n",
    "Per formatejar text podem fer servir f-strings\n",
    "\n",
    "+ Variables entre claus {}\n",
    "+ = imprimeix el nom de la variable i el valor\n",
    "+ Format després de dos punts :\n",
    "    + Per floats se sol indicar el nombre de decimals: .2f són 2 decimals \n",
    "    + El nombre de davant el punt indica el nombre de símbols (enters, punt i decimals)\n",
    "    + Per defecte es deixen espais en blanc si es demana més espai.\n",
    "    + Es poden posar zeros en comptes d'espais posant un zero al davant"
   ]
  },
  {
   "cell_type": "code",
   "execution_count": null,
   "id": "4d6c0938-e95e-405f-a422-106e8ab80328",
   "metadata": {},
   "outputs": [],
   "source": [
    "print(f\"Les variables {a=} i {b+c}\")\n",
    "\n",
    "num1 = 23.212123\n",
    "num2 = 2\n",
    "frase = \"una frase molt llarga\"\n",
    "print(f\"Els resultats són {num1:8.2f} i {num2:2d}\")\n",
    "print(f\"Els resultats són {num1*10:08.2f} i {num2:03d}\")"
   ]
  },
  {
   "cell_type": "code",
   "execution_count": null,
   "id": "1dfd2a59-b364-48b4-b75d-21aafb2910d2",
   "metadata": {},
   "outputs": [],
   "source": []
  }
 ],
 "metadata": {
  "kernelspec": {
   "display_name": "Python 3 (ipykernel)",
   "language": "python",
   "name": "python3"
  },
  "language_info": {
   "codemirror_mode": {
    "name": "ipython",
    "version": 3
   },
   "file_extension": ".py",
   "mimetype": "text/x-python",
   "name": "python",
   "nbconvert_exporter": "python",
   "pygments_lexer": "ipython3"
  }
 },
 "nbformat": 4,
 "nbformat_minor": 5
}
