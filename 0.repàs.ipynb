{
 "cells": [
  {
   "cell_type": "markdown",
   "id": "df56e3ce-7e55-4e3a-9a63-e472a21a715a",
   "metadata": {},
   "source": [
    "# Repàs General"
   ]
  },
  {
   "cell_type": "markdown",
   "id": "3ad933a3-76a0-4376-b083-7f1d31bae0f0",
   "metadata": {},
   "source": [
    "## Comentaris\n",
    "\n",
    "+ Es marquen amb #\n",
    "+ Van fins al final de línia\n",
    "+ Es poden fer comentaris a partir d'strings, això permet comentaris múlti-línia amb cometes triples (normalment reservat per _docstrings_)"
   ]
  },
  {
   "cell_type": "code",
   "execution_count": null,
   "id": "758c001d-b471-418d-b2ea-5a1b7ec1c0a5",
   "metadata": {},
   "outputs": [],
   "source": [
    "# això és un comentari\n",
    "\n",
    "\"un string sense igual també és un comentari\"\n",
    "\n",
    "\"\"\"\n",
    "puc\n",
    "fer\n",
    "un\n",
    "comentari\n",
    "més\n",
    "llarg\n",
    "\"\"\""
   ]
  },
  {
   "cell_type": "markdown",
   "id": "26d25635-f743-478a-8f57-f4c72042616b",
   "metadata": {},
   "source": [
    "## Operacions"
   ]
  },
  {
   "cell_type": "code",
   "execution_count": null,
   "id": "47227fda-d947-489d-951c-eab5deba7c30",
   "metadata": {},
   "outputs": [],
   "source": [
    "a = 2 + 3\n",
    "b = 3 * 4\n",
    "c = 3 / 4\n",
    "d = 17 // 3\n",
    "e = 17 % 3\n",
    "f = 2**3\n",
    "\n",
    "a, b, c, d, e, f"
   ]
  },
  {
   "cell_type": "markdown",
   "id": "fec28446-a027-4775-929e-d41a9a3f3bb3",
   "metadata": {},
   "source": [
    "Python també té els operadors +=, -=, *= i /="
   ]
  },
  {
   "cell_type": "markdown",
   "id": "9767c3cb-bc73-4e2d-aa64-002f3f5ed295",
   "metadata": {},
   "source": [
    "## Condicions"
   ]
  },
  {
   "cell_type": "code",
   "execution_count": null,
   "id": "195f483b-1b48-4d6a-8d91-8d982f9f0543",
   "metadata": {},
   "outputs": [],
   "source": [
    "if a + b == c:\n",
    "    print(\"a + b = c\")\n",
    "elif a < b:\n",
    "    print(\"a < b\")\n",
    "else:\n",
    "    print(\"no\")"
   ]
  },
  {
   "cell_type": "markdown",
   "id": "290c95a9-8b94-47c6-af19-3daff81b76ed",
   "metadata": {},
   "source": [
    "## Relacions\n",
    "\n",
    "+ Operadors\n",
    "  + <\n",
    "  + \\>\n",
    "  + <=\n",
    "  + \\>=\n",
    "  + ==\n",
    "  + !=\n",
    "\n",
    "+ Expressions booleanes: and, or, not"
   ]
  },
  {
   "cell_type": "code",
   "execution_count": null,
   "id": "b9e3742a-e4ba-4d82-ae3f-6103cbf2b7a1",
   "metadata": {},
   "outputs": [],
   "source": [
    "if a >= c and a <= b:\n",
    "    print(\"a està entre b i c\")\n",
    "\n",
    "if not (a < c or a > b):\n",
    "    print(\"a encara està entre b i c\")"
   ]
  },
  {
   "cell_type": "markdown",
   "id": "1775f5eb-a374-418b-aa80-b09a1147f49e",
   "metadata": {},
   "source": [
    "## Bucles\n",
    "\n",
    "+ __while__ itera sobre una CONDICIÓ\n",
    "+ __for__ itera sobre elements\n",
    "+ __break__ acaba el bucle\n",
    "+ __continue__ passa a la següent iteració"
   ]
  },
  {
   "cell_type": "code",
   "execution_count": null,
   "id": "146a20b1-d921-4c4c-9882-551114c15a42",
   "metadata": {},
   "outputs": [],
   "source": [
    "count = 5\n",
    "while count > 0:\n",
    "    print(\"T-minus\", count)\n",
    "    count -= 1\n",
    "print(\"Boom!\")"
   ]
  },
  {
   "cell_type": "code",
   "execution_count": null,
   "id": "c4a8f7bb-7b8a-4ebc-9a1b-66e0cf5c698d",
   "metadata": {},
   "outputs": [],
   "source": [
    "nums = [1, 7, 10, 23]\n",
    "for x in nums:\n",
    "    print(x)\n",
    "\n",
    "paraula = \"logopèdia\"\n",
    "for ll in paraula:\n",
    "    if ll == \"è\":\n",
    "        continue\n",
    "    print(ll)\n",
    "    if ll == \"i\":\n",
    "        break"
   ]
  },
  {
   "cell_type": "markdown",
   "id": "6c2ed9c1-9cfd-4f3e-a7c4-e91cf176e3c1",
   "metadata": {},
   "source": [
    "## Objectes principals\n",
    "\n",
    "\n",
    "|Exemple|Tipus|\n",
    "| ------------- | ------------- |\n",
    "|None | Nothing, nada, nil, ...|\n",
    "|True | Boolean|\n",
    "|23 | Integer|\n",
    "|2.3 | Float|\n",
    "|2+3j | Complex|\n",
    "|'Hello World' | String (Unicode)|\n",
    "|('www.python.org', 80) | Tuple|\n",
    "|[1,2,3,4] | List|\n",
    "|{'name':'IBM', ... } | Dictionary|\n",
    "\n",
    "Cada objecte admet diferent operadors\n",
    "```\n",
    "a + b      # Addició\n",
    "x = a[i]   # Agafar un índex\n",
    "a[i] = val # Modificar un índex\n",
    "y = a[i:j] # Slicing\n",
    "x in a     # Presència d'un objecte dins un altre\n",
    "```\n",
    "\n",
    "i mètodes\n",
    "```\n",
    "a.split()\n",
    "b.append(2)\n",
    "```"
   ]
  },
  {
   "cell_type": "markdown",
   "id": "0c3aba69-07b1-4e1b-abf8-80929ee50fb6",
   "metadata": {},
   "source": [
    "# Strings\n",
    "\n",
    "Objecte de només lectura, no podem modificar-lo sense crear-ne un de nou"
   ]
  },
  {
   "cell_type": "code",
   "execution_count": null,
   "id": "941343ab-4c86-4418-90b0-244b40aad1e0",
   "metadata": {},
   "outputs": [],
   "source": [
    "sigles = \"BOE DOGC DOUE TEDH TJUE UE\""
   ]
  },
  {
   "cell_type": "markdown",
   "id": "b355b7a8-afba-4685-b82e-45729113351e",
   "metadata": {},
   "source": [
    "Podem:\n",
    "1. Extreure caràcters individuals, recorda que Python comença a comptar a 0"
   ]
  },
  {
   "cell_type": "code",
   "execution_count": null,
   "id": "27a4d548-5e14-47c5-8966-923da9dd7119",
   "metadata": {},
   "outputs": [],
   "source": [
    "(\n",
    "    sigles[0],\n",
    "    sigles[1],\n",
    "    sigles[-1],\n",
    "    sigles[-2],\n",
    ")"
   ]
  },
  {
   "cell_type": "markdown",
   "id": "2f8185db-b34c-4267-b438-de4c35cb30bc",
   "metadata": {},
   "source": [
    "2. Fer-ne un tall (_slicing_)"
   ]
  },
  {
   "cell_type": "code",
   "execution_count": null,
   "id": "a92e3240-3c47-4274-beba-ea98d6743160",
   "metadata": {},
   "outputs": [],
   "source": [
    "(\n",
    "    sigles[:8],\n",
    "    sigles[:-3],\n",
    "    sigles[-3:],\n",
    "    sigles[4:8],\n",
    ")"
   ]
  },
  {
   "cell_type": "markdown",
   "id": "00c8aa96-b224-403c-9c88-ad3c59c96736",
   "metadata": {},
   "source": [
    "3. Concatenar strings\n",
    "\n",
    "Estem creant objectes nous, no modificant-los. Podem veure si dos objectes són diferents amb `id`"
   ]
  },
  {
   "cell_type": "code",
   "execution_count": null,
   "id": "567f3f1b-e2db-4d1d-a1b4-1afe4a8cea31",
   "metadata": {},
   "outputs": [],
   "source": [
    "sigles2 = sigles\n",
    "id(sigles) == id(sigles2)"
   ]
  },
  {
   "cell_type": "code",
   "execution_count": null,
   "id": "ce29478b-cc09-43d9-a689-8df320fc8947",
   "metadata": {},
   "outputs": [],
   "source": [
    "sigles += \" EUA\"\n",
    "sigles, id(sigles)"
   ]
  },
  {
   "cell_type": "code",
   "execution_count": null,
   "id": "14b58f88-4aa7-4c8a-800c-113375001bf7",
   "metadata": {},
   "outputs": [],
   "source": [
    "sigles = \"TC \" + sigles\n",
    "sigles, id(sigles)"
   ]
  },
  {
   "cell_type": "markdown",
   "id": "b8279db9-fb2d-438a-a0e6-e64c3cc0b9e5",
   "metadata": {},
   "source": [
    "4. Pertinença (substrings)"
   ]
  },
  {
   "cell_type": "code",
   "execution_count": null,
   "id": "ba79c2be-b115-45fe-bc6d-546d3ca7930e",
   "metadata": {},
   "outputs": [],
   "source": [
    "(\"TJUE\" in sigles, \"CAT\" in sigles)"
   ]
  },
  {
   "cell_type": "markdown",
   "id": "392b2776-b54a-4d15-9666-c322aba64364",
   "metadata": {},
   "source": [
    "5. Llargada"
   ]
  },
  {
   "cell_type": "code",
   "execution_count": null,
   "id": "22bb4330-272b-45b1-ae91-13cc8d08ffbd",
   "metadata": {},
   "outputs": [],
   "source": [
    "len(sigles)"
   ]
  },
  {
   "cell_type": "markdown",
   "id": "196f4c9e-7265-4998-a9c3-00369c45d3db",
   "metadata": {},
   "source": [
    "6. Mètodes\n",
    "\n",
    "Hi ha molts mètodes per strings, n'anirem veient al llarg del curs. Alguns són:\n",
    "+ lower, upper i title\n",
    "+ strip\n",
    "+ count\n",
    "+ split\n",
    "+ replace\n",
    "+ join\n",
    "+ isupper, islower\n",
    "+ isalpha, isalnum, isdecimal, isspace\n",
    "+ startswith, endswith"
   ]
  },
  {
   "cell_type": "code",
   "execution_count": null,
   "id": "e03ea582-7c82-45f5-8e83-8809ecdd4761",
   "metadata": {},
   "outputs": [],
   "source": [
    "sigles.lower(), sigles.title()"
   ]
  },
  {
   "cell_type": "code",
   "execution_count": null,
   "id": "4311b8d3-5ec6-46fe-b1f7-711698347b91",
   "metadata": {},
   "outputs": [],
   "source": [
    "sigles.count(\"T\")"
   ]
  },
  {
   "cell_type": "code",
   "execution_count": null,
   "id": "567af560-7759-4f0b-82f7-ccbfbc936d99",
   "metadata": {},
   "outputs": [],
   "source": [
    "sigles.split()  # Per defecte separa espais"
   ]
  },
  {
   "cell_type": "code",
   "execution_count": null,
   "id": "61bafd8c-ccba-4645-9436-d1d0ca2683e0",
   "metadata": {},
   "outputs": [],
   "source": [
    "sigles.replace(\" \", \".\")"
   ]
  },
  {
   "cell_type": "code",
   "execution_count": null,
   "id": "456933e4-a743-43fd-9c62-c997bff5a7c4",
   "metadata": {},
   "outputs": [],
   "source": [
    "sigles.replace(\" \", \".\").split(\".\")"
   ]
  },
  {
   "cell_type": "code",
   "execution_count": null,
   "id": "dabb8f09-4d3e-429b-98a1-f696f396ce5a",
   "metadata": {},
   "outputs": [],
   "source": [
    "(\n",
    "    \"\".join((\"un\", \"dos\", \"tres\")),\n",
    "    \" \".join((\"un\", \"dos\", \"tres\")),\n",
    "    \", \".join((\"un\", \"dos\", \"tres\")),\n",
    ")"
   ]
  },
  {
   "cell_type": "code",
   "execution_count": null,
   "id": "ae544705-e9a7-4cf0-bb34-5bd8888ab399",
   "metadata": {},
   "outputs": [],
   "source": [
    "sigles.isupper(), sigles.isalpha(), \"123\".isalnum(), \"123!\".isalnum()"
   ]
  },
  {
   "cell_type": "markdown",
   "id": "722f3a20-1292-4554-be27-f96ec6f63335",
   "metadata": {},
   "source": [
    "## Caràcters especials"
   ]
  },
  {
   "cell_type": "code",
   "execution_count": null,
   "id": "c93659ea-8dda-43bb-b2c8-bafce987c10a",
   "metadata": {},
   "outputs": [],
   "source": [
    "print(\"a\\tb\")  # tabulador\n",
    "print(\"a\\nb\")  # línia\n",
    "\n",
    "# Alguns caràcters requereixen que els \"escapem\"\n",
    "# posant una barra inversa al davant\n",
    "\n",
    "print(\"\\\\\")\n",
    "\n",
    "# Per posar cometes dins a cometes es podria fer \"\\\"\" i '\\''\n",
    "# Però la manera senzilla és:\n",
    "print(\"'algo'\")\n",
    "print('\"algo\"')\n",
    "\n",
    "# Si volem les dues per algun motiu podem fer servir cometes triples\n",
    "print(\"\"\"Potser volem citar 'Una frase amb \"una cita\" interna'\"\"\")"
   ]
  },
  {
   "cell_type": "markdown",
   "id": "72dc1aa2-5447-4abd-afae-67d264396f54",
   "metadata": {},
   "source": [
    "## f-strings\n",
    "\n",
    "Per formatejar text podem fer servir f-strings\n",
    "\n",
    "+ Variables entre claus {}\n",
    "+ = imprimeix el nom de la variable i el valor\n",
    "+ Format després de dos punts :\n",
    "    + Per floats se sol indicar el nombre de decimals: .2f són 2 decimals \n",
    "    + El nombre de davant el punt indica el nombre de símbols (enters, punt i decimals)\n",
    "    + Per defecte es deixen espais en blanc si es demana més espai.\n",
    "    + Es poden posar zeros en comptes d'espais posant un zero al davant"
   ]
  },
  {
   "cell_type": "code",
   "execution_count": null,
   "id": "4d6c0938-e95e-405f-a422-106e8ab80328",
   "metadata": {},
   "outputs": [],
   "source": [
    "print(f\"Les variables {a=} i {b+c}\")\n",
    "\n",
    "num1 = 23.212123\n",
    "num2 = 2\n",
    "frase = \"una frase molt llarga\"\n",
    "print(f\"Els resultats són {num1:8.2f} i {num2:2d}\")\n",
    "print(f\"Els resultats són {num1*10:08.2f} i {num2:03d}\")"
   ]
  },
  {
   "cell_type": "markdown",
   "id": "9c80d177-9687-4615-aefe-a17e7324f74d",
   "metadata": {},
   "source": [
    "# Llistes i tuples"
   ]
  },
  {
   "cell_type": "markdown",
   "id": "2c853082-9a90-43b6-a9b5-abdbe4003ff5",
   "metadata": {},
   "source": [
    "## Operacions bàsiques\n",
    "\n",
    "Poden contenir diferents objectes.\n",
    "Les llistes i les tuples comparteixen algunes operacions amb les strings:\n",
    "\n",
    "+ len\n",
    "+ concatenació amb \\+\n",
    "+ indexació i slicing\n",
    "+ `in` per veure si conté un element\n",
    "\n",
    "I en tenen d'altres pròpies, com `index`"
   ]
  },
  {
   "cell_type": "code",
   "execution_count": null,
   "id": "747ccab6-4f1d-4857-ae15-064b07dd22e2",
   "metadata": {},
   "outputs": [],
   "source": [
    "llista = sigles.split()\n",
    "llista[3] = 35\n",
    "llista[4] = (1, 3, 4)\n",
    "llista"
   ]
  },
  {
   "cell_type": "code",
   "execution_count": null,
   "id": "2c6c87c8-3d70-414e-b8b2-a2cb63264ad1",
   "metadata": {},
   "outputs": [],
   "source": [
    "llista.index(\"DOGC\")"
   ]
  },
  {
   "cell_type": "markdown",
   "id": "6128be9b-9b84-46fe-8a01-7c7ca0a77e86",
   "metadata": {},
   "source": [
    "Si volem veure l'índex d'un element que no estem segurs que existeixi, podem fer:"
   ]
  },
  {
   "cell_type": "code",
   "execution_count": null,
   "id": "4fb1b770-fcd0-4272-9938-8101004f3e1c",
   "metadata": {},
   "outputs": [],
   "source": [
    "\"UE\" in llista and llista.index(\"UE\")"
   ]
  },
  {
   "cell_type": "markdown",
   "id": "848285f4-bbf9-4614-8f44-0fffc37d3eb2",
   "metadata": {},
   "source": [
    "Si la primera condició és False la segona ja no s'evalua i no ens pot donar error"
   ]
  },
  {
   "cell_type": "code",
   "execution_count": null,
   "id": "13bb19cd-c7da-45dd-94f2-7bc4c1e3699a",
   "metadata": {},
   "outputs": [],
   "source": [
    "\"algo\" in llista and llista.index(\"algo\")"
   ]
  },
  {
   "cell_type": "markdown",
   "id": "6a2886e5-0862-4359-ad69-381cd7f6b5c4",
   "metadata": {},
   "source": [
    "Les tuples són immutables, mentre que les llistes es poden modificar. \n",
    "Això ens permet noves operacions:\n",
    "\n",
    "+ append\n",
    "+ insert\n",
    "+ remove\n",
    "+ sort"
   ]
  },
  {
   "cell_type": "code",
   "execution_count": null,
   "id": "96e7f85d-9784-4413-a448-f6f386f0352e",
   "metadata": {},
   "outputs": [],
   "source": [
    "llista.append([\"una\", \"altra\", \"llista\", [1, 3, 4.3]])\n",
    "llista.insert(3, \"pastís\")\n",
    "llista.remove(\"BOE\")\n",
    "llista"
   ]
  },
  {
   "cell_type": "markdown",
   "id": "340f1a50-4588-48d5-aa35-0b38b702d040",
   "metadata": {},
   "source": [
    "Si tenim llistes o tuples una dins de l'altra podem accedir a cada una indexant."
   ]
  },
  {
   "cell_type": "code",
   "execution_count": null,
   "id": "b55924c7-ce16-4eec-b5db-e22ede4e662b",
   "metadata": {},
   "outputs": [],
   "source": [
    "llista[-1][-1][2]"
   ]
  },
  {
   "cell_type": "code",
   "execution_count": null,
   "id": "e7e3cdef-a67b-45c4-a2fd-fef2697d8e59",
   "metadata": {},
   "outputs": [],
   "source": [
    "llista.remove(\"BOE\")  # No podem eliminar un element que no existeix (o ja hem borrat)"
   ]
  },
  {
   "cell_type": "code",
   "execution_count": null,
   "id": "84bb7679-e9e6-43c0-aa23-55cdf6694e1b",
   "metadata": {},
   "outputs": [],
   "source": [
    "llocs = [\"Mataró\", \"Banyoles\", \"Premià\", \"Girona\"]\n",
    "llocs.sort()  # no retorna res, però ha modificat l'objecte"
   ]
  },
  {
   "cell_type": "code",
   "execution_count": null,
   "id": "7204bc00-5e4c-4239-ba96-48642f72e908",
   "metadata": {},
   "outputs": [],
   "source": [
    "llocs"
   ]
  },
  {
   "cell_type": "code",
   "execution_count": null,
   "id": "5b19bda1-a134-4ad6-a7b7-cc180d04a6c8",
   "metadata": {},
   "outputs": [],
   "source": [
    "llocs.sort(reverse=True)\n",
    "llocs"
   ]
  },
  {
   "cell_type": "code",
   "execution_count": null,
   "id": "fce7c607-889c-4e7b-ac0a-94739a3002df",
   "metadata": {},
   "outputs": [],
   "source": [
    "llista.sort()  # no funciona barrejant text i nombres"
   ]
  },
  {
   "cell_type": "markdown",
   "id": "d08e4bf3-4b18-4024-9258-9576e8bd4cc2",
   "metadata": {},
   "source": [
    "### Exercici\n",
    "\n",
    "Tenim dues llistes de noms.\n",
    "\n",
    "Fes servir un bucle i el que hem vist a dalt per retornar en quin índex de la segona llista es troben els noms que existeixen també a la primera."
   ]
  },
  {
   "cell_type": "code",
   "execution_count": null,
   "id": "56d3f3a8-6c91-49c1-bed6-ae7918b88f35",
   "metadata": {},
   "outputs": [],
   "source": [
    "llista1 = [\n",
    "    \"ADIL\",\n",
    "    \"EDURNE\",\n",
    "    \"BRIAN\",\n",
    "    \"PALMIRA\",\n",
    "    \"IVETTE\",\n",
    "    \"HAFIDA\",\n",
    "    \"MARCELO\",\n",
    "    \"JUAN IGNACIO\",\n",
    "    \"MHAMED\",\n",
    "    \"MARWA\",\n",
    "    \"FLORENCIO\",\n",
    "    \"CLAUDIO\",\n",
    "    \"MAHAMADOU\",\n",
    "    \"IKRAM\",\n",
    "    \"FILOMENA\",\n",
    "    \"VASILE\",\n",
    "    \"FERNANDA\",\n",
    "    \"VIOLETA\",\n",
    "    \"YAGO\",\n",
    "    \"SAMIR\",\n",
    "    \"FATOUMATA\",\n",
    "    \"NOUR\",\n",
    "    \"MIREYA\",\n",
    "    \"CATERINA\",\n",
    "    \"HAMID\",\n",
    "    \"JOAN JOSEP\",\n",
    "    \"AMADOR\",\n",
    "    \"MÁXIMO\",\n",
    "    \"MARISOL\",\n",
    "    \"FLORA\",\n",
    "    \"IMAN\",\n",
    "    \"NABIL\",\n",
    "    \"ISIDRE\",\n",
    "    \"ZOHRA\",\n",
    "    \"ALINA\",\n",
    "    \"NAJAT\",\n",
    "    \"MAURO\",\n",
    "    \"PEDRO ANTONIO\",\n",
    "    \"LUNA\",\n",
    "    \"ALESSANDRO\",\n",
    "    \"CORAL\",\n",
    "    \"ZAHRA\",\n",
    "    \"DRISS\",\n",
    "    \"ELNA\",\n",
    "    \"ITZIAR\",\n",
    "]\n",
    "llista2 = [\n",
    "    \"Sebastià\",\n",
    "    \"Mauro\",\n",
    "    \"Florencio\",\n",
    "    \"Violeta\",\n",
    "    \"Jamila\",\n",
    "    \"Marwa\",\n",
    "    \"Amador\",\n",
    "    \"Jordina\",\n",
    "    \"Victoriano\",\n",
    "    \"Elna\",\n",
    "    \"Maryam\",\n",
    "    \"Souad\",\n",
    "    \"Fatoumata\",\n",
    "    \"Fidel\",\n",
    "    \"Marisol\",\n",
    "    \"Itziar\",\n",
    "    \"Josepa\",\n",
    "    \"Sira\",\n",
    "    \"Derek\",\n",
    "    \"Jofre\",\n",
    "    \"Caterina\",\n",
    "    \"Ivette\",\n",
    "    \"Mireya\",\n",
    "    \"Marcelo\",\n",
    "    \"Aziz\",\n",
    "    \"Flora\",\n",
    "    \"Amadeo\",\n",
    "    \"Nabil\",\n",
    "    \"Imane\",\n",
    "    \"Juan Ignacio\",\n",
    "    \"Hamid\",\n",
    "    \"Toni\",\n",
    "    \"Isidoro\",\n",
    "    \"Erica\",\n",
    "    \"Samir\",\n",
    "    \"Coral\",\n",
    "    \"Jon\",\n",
    "    \"Fatima Zohra\",\n",
    "    \"Luis Fernando\",\n",
    "    \"Pedro Antonio\",\n",
    "    \"Greta\",\n",
    "    \"Adelaida\",\n",
    "    \"Eudald\",\n",
    "    \"Ikram\",\n",
    "]"
   ]
  },
  {
   "cell_type": "code",
   "execution_count": null,
   "id": "53198cb2-fc3c-4091-abb6-f8a93aaab53f",
   "metadata": {},
   "outputs": [],
   "source": []
  },
  {
   "cell_type": "markdown",
   "id": "4def9193-651e-4c08-9052-b24af88a1003",
   "metadata": {},
   "source": [
    "## List Comprehensions\n",
    "\n",
    "```python\n",
    "[expression for item in sequence if condition]\n",
    "```\n",
    "\n",
    "és equivalent a\n",
    "\n",
    "```python\n",
    "result = []\n",
    "    for item in sequence:\n",
    "    if condition:\n",
    "        result.append(expression)\n",
    "```"
   ]
  },
  {
   "cell_type": "markdown",
   "id": "c886121b-86c2-4640-b07d-31c3ad01739c",
   "metadata": {},
   "source": [
    "Anem poc a poc:\n",
    "1. Agafem tots els elements, i ens quedem amb la mateixa llista"
   ]
  },
  {
   "cell_type": "code",
   "execution_count": null,
   "id": "ebd741d0-8510-4a5a-b489-b1cd5bc5fef5",
   "metadata": {},
   "outputs": [],
   "source": [
    "[s for s in llista1]"
   ]
  },
  {
   "cell_type": "markdown",
   "id": "7b89f560-2398-41a1-8815-0c63fd5ce0fd",
   "metadata": {},
   "source": [
    "2. Apliquem l'expressió que vulguem per modificar cada element"
   ]
  },
  {
   "cell_type": "code",
   "execution_count": null,
   "id": "8cff5dc1-83b7-4f91-bdd3-8e2c0477e46a",
   "metadata": {},
   "outputs": [],
   "source": [
    "[s.lower()[:5] for s in llista1]"
   ]
  },
  {
   "cell_type": "markdown",
   "id": "081c86d7-c3d5-4491-a429-52f318da72ce",
   "metadata": {},
   "source": [
    "3. Posem una condició (si volem)\n",
    "\n",
    "La condició s'aplica a l'element original.\n",
    "En el nostre cas hem de filtrar amb la lletra amb majúscula, ja que encara no l'hem pasat a minúscula"
   ]
  },
  {
   "cell_type": "code",
   "execution_count": null,
   "id": "14357382-da83-4a68-8f63-d13fc2a275d6",
   "metadata": {},
   "outputs": [],
   "source": [
    "[s.lower()[:5] for s in llista1 if s.startswith(\"M\")]"
   ]
  },
  {
   "cell_type": "markdown",
   "id": "f2e036ff-8244-4dc4-bbea-bfc6f2d2c9e6",
   "metadata": {},
   "source": [
    "### Mini exercici\n",
    "Fes servir la llista d'índexs de l'exercici anterior per imprimir els noms en comú a la primera llista."
   ]
  },
  {
   "cell_type": "code",
   "execution_count": null,
   "id": "961a6b8f-8aa9-423b-93d1-acc678923b09",
   "metadata": {},
   "outputs": [],
   "source": []
  },
  {
   "cell_type": "markdown",
   "id": "b3190c14-38b4-46bc-8f24-dfcdc9acfdbb",
   "metadata": {},
   "source": [
    "# Dades reals\n",
    "\n",
    "Suposem que tenim un conjunt de dades complexes.\n",
    "\n",
    "Ex: Accions a una empresa\n",
    "\n",
    "`100 accions de NVIDIA a 130,78$`\n",
    "\n",
    "Podem representar-ho en un objecte que tingui 3 parts:\n",
    "\n",
    "+ Nom de l'empresa (\"NVIDIA\", un string)\n",
    "+ Nombre d'accions (100, un enter)\n",
    "+ Preu (130.78, un float)"
   ]
  },
  {
   "cell_type": "code",
   "execution_count": null,
   "id": "b3537383-4932-4495-8ccd-a12e274d11dd",
   "metadata": {},
   "outputs": [],
   "source": [
    "# Tupla\n",
    "\n",
    "accio = (\"NVIDIA\", 100, 130.78)\n",
    "nom = accio[0]\n",
    "cost = accio[1] * accio[2]\n",
    "\n",
    "# Podem assignar les variables directament\n",
    "nom, n_accions, preu = accio"
   ]
  },
  {
   "cell_type": "code",
   "execution_count": null,
   "id": "556d716a-0f2b-4888-9db1-9bc7e25b95b9",
   "metadata": {},
   "outputs": [],
   "source": []
  },
  {
   "cell_type": "code",
   "execution_count": null,
   "id": "0a02c5d1-5a9d-4d1b-a4ef-eb9ec092f1ad",
   "metadata": {},
   "outputs": [],
   "source": []
  }
 ],
 "metadata": {
  "kernelspec": {
   "display_name": "Python 3 (ipykernel)",
   "language": "python",
   "name": "python3"
  },
  "language_info": {
   "codemirror_mode": {
    "name": "ipython",
    "version": 3
   },
   "file_extension": ".py",
   "mimetype": "text/x-python",
   "name": "python",
   "nbconvert_exporter": "python",
   "pygments_lexer": "ipython3"
  }
 },
 "nbformat": 4,
 "nbformat_minor": 5
}
