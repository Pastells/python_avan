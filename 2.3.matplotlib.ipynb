{
 "cells": [
  {
   "cell_type": "markdown",
   "id": "eba10c4e-8e69-41a3-bdbf-2d9ddfd800da",
   "metadata": {},
   "source": [
    "# Referències Visualització de dades"
   ]
  },
  {
   "cell_type": "markdown",
   "id": "d1f400d0-b01c-44db-b700-4d2fe6f8ae14",
   "metadata": {},
   "source": [
    "- [Documentació oficial de Matplotlib](https://matplotlib.org/stable/index.html)\n",
    "- [Xuletes](https://matplotlib.org/cheatsheets/)\n",
    "- [data-to-viz.com](https://www.data-to-viz.com/) - web fantàstica per decidir quin tipus de gràfic fer. Té exemples amb python de tots els gràfics.\n",
    "- [Rougier, Nicholas (2021). _Scientific Visualization: Python + Matplotlib_. HAL Open Science.](https://github.com/rougier/scientific-visualization-book?tab=readme-ov-file) - llibre molt complert.\n",
    "- [Wilke, Claus (2019). _Fundamentals of data visualization: a primer on making informative and compelling figures_. O'Reilly Media.](https://clauswilke.com/dataviz/) - Introducció a la visualització de dades. Pensat per R en lloc de Python, però amb coneixements molt generals."
   ]
  },
  {
   "cell_type": "markdown",
   "id": "49eacf2e-53df-4549-a8ce-b4c911d97322",
   "metadata": {},
   "source": [
    "# Primera introducció a Matplotlib"
   ]
  },
  {
   "cell_type": "code",
   "execution_count": null,
   "id": "11f5e4b2-9581-4eb1-b30a-484093d2d395",
   "metadata": {},
   "outputs": [],
   "source": [
    "import matplotlib.pyplot as plt\n",
    "import numpy as np\n",
    "\n",
    "# Per mostrar les imatges com a resultat de la cel·la (jupyter lab ja no ho necessita)\n",
    "%matplotlib inline\n",
    "\n",
    "# Perquè les imatges tinguin millor resolució\n",
    "%config InlineBackend.figure_format='retina'"
   ]
  },
  {
   "cell_type": "markdown",
   "id": "5eb3ef42-c4e1-44a7-869f-5ebe33ab0a1d",
   "metadata": {},
   "source": [
    "Per fer un gràfic ens calen dades. Per exemple cinc punts en dues dimensions"
   ]
  },
  {
   "cell_type": "code",
   "execution_count": null,
   "id": "7c43baff-f1ba-4f94-8b10-0043d2d7d3ca",
   "metadata": {},
   "outputs": [],
   "source": [
    "X = np.array([1, 2, 3, 4, 5])\n",
    "Y = X**3\n",
    "plt.plot(X, Y)\n",
    "# plt.show() # Si no fós un notebook caldria això"
   ]
  },
  {
   "cell_type": "markdown",
   "id": "c99c4b2d-b5ff-428b-9acd-47a321de1407",
   "metadata": {},
   "source": [
    "## Format de línia"
   ]
  },
  {
   "cell_type": "markdown",
   "id": "cae41ccb-7a96-4126-bcc8-187caf2fb6fe",
   "metadata": {},
   "source": [
    "Es pot canviar el format del marcador, línia i color ràpidament amb un tercer argument:\n",
    "\n",
    "    fmt = '[marcador][línia][color]'\n",
    "\n",
    "**Marcadors**\n",
    "\n",
    "| caràcter| marcador|\n",
    "|:---- |:---- |\n",
    "|``'.'``     |    punt|\n",
    "|``'o'``     |    cercle|\n",
    "|``'v'``     |    triangle cap avall|\n",
    "|``'^'``     |    triangle cap amunt|\n",
    "|``'s'``     |    quadrat|\n",
    "|``'*'``     |    estrella|\n",
    "|``'+'``     |    creu|\n",
    "|``'x'``     |    x|\n",
    "\n",
    "**Estils de línia**\n",
    "\n",
    "| caràcter| línia|\n",
    "|:---- |:---- |\n",
    "|``'-'``          |línia sòlida|\n",
    "|``'--'``         |línia discontínua|\n",
    "|``'-.'``         |línia de línies i punts|\n",
    "|``':'``          |línia de punts|\n",
    "\n",
    "\n",
    "**Colors**\n",
    "\n",
    "| caràcter|color|\n",
    "|:---- |:---- |\n",
    "|``'b'``     |blau|\n",
    "|``'g'``     |verd|\n",
    "|``'r'``     |vermell|\n",
    "|``'c'``     |    cyan|\n",
    "|``'m'``     |     magenta|\n",
    "|``'y'``     |groc|\n",
    "|``'k'``     |negre|\n",
    "|``'w'``     |blanc|\n",
    "\n",
    "Examples:\n",
    "\n",
    "    'b'    # color blau\n",
    "    'or'   # cercles vermells \n",
    "    '-g'   # línia verda \n",
    "    '--'   # línia discontínua \n",
    "    '^k:'  # triangle cap amunt negre amb línia de punts"
   ]
  },
  {
   "cell_type": "code",
   "execution_count": null,
   "id": "dbb3f580-5814-47ba-80e0-2f51bbba494f",
   "metadata": {},
   "outputs": [],
   "source": [
    "plt.plot(X, Y, \"o--g\")"
   ]
  },
  {
   "cell_type": "code",
   "execution_count": null,
   "id": "f89b76fc-24df-4552-944c-e4d21698ca5e",
   "metadata": {},
   "outputs": [],
   "source": [
    "plt.plot(X, Y, \"x:k\")"
   ]
  },
  {
   "cell_type": "markdown",
   "id": "8d17dddf-5684-46e6-b4af-c846624238dd",
   "metadata": {},
   "source": [
    "Aquests mateixos paràmetres es poden canviar amb els arguments `marker`, `linestyle`i `color`.\n",
    "\n",
    "- Per canviar el gruix de línia es fa servir `linewidth` (per defecte és 2)\n",
    "- Per canviar el tamany del marcador es fa servir `markersize` (per defecte és 5)"
   ]
  },
  {
   "cell_type": "code",
   "execution_count": null,
   "id": "afe8cdc1-8877-4a3e-9c0d-8a97b00f4e91",
   "metadata": {},
   "outputs": [],
   "source": [
    "plt.plot(X, Y, marker=\"v\", linestyle=\"-.\", color=\"grey\", linewidth=3, markersize=10)"
   ]
  },
  {
   "cell_type": "markdown",
   "id": "f9c190cc-0b82-4cb2-933b-e1d25a39ed8c",
   "metadata": {},
   "source": [
    "## Diverses línies en una mateixa figura"
   ]
  },
  {
   "cell_type": "markdown",
   "id": "b54054c8-708d-43a9-9cc6-105627a5f32a",
   "metadata": {},
   "source": [
    "Es poden fer tantes línies com vulguem dins un mateix gràfic."
   ]
  },
  {
   "cell_type": "code",
   "execution_count": null,
   "id": "08e36c17-5eee-4f0a-8787-039af6da4d56",
   "metadata": {},
   "outputs": [],
   "source": [
    "X = np.linspace(-np.pi, np.pi, 200)\n",
    "C, S = np.cos(X), np.sin(X)\n",
    "plt.plot(X, C)\n",
    "plt.plot(X, S)"
   ]
  },
  {
   "cell_type": "markdown",
   "id": "3f80bf59-63b0-452f-8456-2f6b7205cc98",
   "metadata": {},
   "source": [
    "També es poden crear varies línies dins un sol `plt.plot`, però no és recomanable"
   ]
  },
  {
   "cell_type": "code",
   "execution_count": null,
   "id": "548e4edf-38aa-4238-9d68-1f3ed9392ffd",
   "metadata": {},
   "outputs": [],
   "source": [
    "plt.plot(X, C, \"r-\", X, S, \"g--\")"
   ]
  },
  {
   "cell_type": "markdown",
   "id": "9917fb11-3de0-4433-9412-462489b6fd85",
   "metadata": {},
   "source": [
    "Si cridem `plt.show()` es comença un nou gràfic"
   ]
  },
  {
   "cell_type": "code",
   "execution_count": null,
   "id": "50c4f8e7-2588-4fd2-9dee-95de962fc7f8",
   "metadata": {},
   "outputs": [],
   "source": [
    "plt.plot(X, C)\n",
    "plt.show()\n",
    "plt.plot(X, S)\n",
    "plt.show()"
   ]
  },
  {
   "cell_type": "markdown",
   "id": "c92bc8a2-b412-4530-a55c-c694d8705740",
   "metadata": {},
   "source": [
    "## Eixos, títol i llegenda\n",
    "\n",
    "- `plt.xlabel` i  `plt.ylabel` controlen el nom dels eixos\n",
    "- `plt.title` posa un títol (no recomenat per publicacions acadèmiques)\n",
    "- `plt.legend` posa la llegenda. Els noms de la llegenda es poden posar un per un, o tots de cop"
   ]
  },
  {
   "cell_type": "code",
   "execution_count": null,
   "id": "324c8f36-583d-4b15-b031-f091e316ad14",
   "metadata": {},
   "outputs": [],
   "source": [
    "X = np.linspace(-np.pi, np.pi, 200)\n",
    "C, S = np.cos(X), np.sin(X)\n",
    "plt.plot(X, C, label=\"cosinus\")\n",
    "plt.plot(X, S, label=\"sinus\")\n",
    "\n",
    "plt.xlabel(\"Temps (s)\")\n",
    "plt.ylabel(\"Posició (m)\")\n",
    "plt.title(\"Les funcions trigonomètriques\")\n",
    "plt.legend()"
   ]
  },
  {
   "cell_type": "code",
   "execution_count": null,
   "id": "0922f1d5-d4bd-418d-a01e-ee8e24046f7d",
   "metadata": {},
   "outputs": [],
   "source": [
    "plt.plot(X, C)\n",
    "plt.plot(X, S)\n",
    "plt.legend(labels=[\"cosinus\", \"sinus\"])"
   ]
  },
  {
   "cell_type": "markdown",
   "id": "1f73196c-d79a-48de-bfb1-d4e82dda99a4",
   "metadata": {},
   "source": [
    "Es pot canviar la posició i aspecte de la llegenda"
   ]
  },
  {
   "cell_type": "code",
   "execution_count": null,
   "id": "20eb421b-a5d2-412b-bd70-224cd499dc35",
   "metadata": {},
   "outputs": [],
   "source": [
    "plt.plot(X, C)\n",
    "plt.plot(X, S)\n",
    "plt.legend(\n",
    "    labels=[\"cosinus\", \"sinus\"],\n",
    "    loc=\"upper right\",\n",
    "    frameon=False,\n",
    ")"
   ]
  },
  {
   "cell_type": "markdown",
   "id": "b894da85-acae-489b-be56-122310a03229",
   "metadata": {},
   "source": [
    "I podem canviar el tamany de la text a qualsevol posició (per defecte és 10)"
   ]
  },
  {
   "cell_type": "code",
   "execution_count": null,
   "id": "494903aa-be39-439a-8512-26b73caeadc3",
   "metadata": {},
   "outputs": [],
   "source": [
    "FONTSIZE = 15\n",
    "\n",
    "plt.plot(X, C)\n",
    "plt.plot(X, S)\n",
    "\n",
    "plt.xlabel(\"Temps (s)\", fontsize=FONTSIZE)\n",
    "plt.ylabel(\"Posició (m)\", fontsize=FONTSIZE)\n",
    "plt.title(\"Les funcions trigonomètriques\", fontsize=20)\n",
    "plt.legend(labels=[\"cosinus\", \"sinus\"], fontsize=FONTSIZE)"
   ]
  },
  {
   "cell_type": "markdown",
   "id": "16a436e6-a447-435e-857c-24e9e65fd92c",
   "metadata": {},
   "source": [
    "## Format de la figura\n",
    "\n",
    "Abans de començar la figura, podem canviar les opcions principals amb argument de `plt.figure()`, com el tamany i la resolució.\n",
    "\n",
    "La mida de la figura en pantalla ve determinada pel tamany (`figsize`, en polzades) multiplicat pel `dpi` (\"dots per inch\"), és a dir, píxels per polzada.\n",
    "\n",
    "Jugant amb aquest dos paràmetres tindrem figures amb línies més primes o gruixudes"
   ]
  },
  {
   "cell_type": "code",
   "execution_count": null,
   "id": "08e6a9f3-8b4e-4065-8664-32dd80932ff6",
   "metadata": {},
   "outputs": [],
   "source": [
    "X = np.linspace(-1, 2, 200)\n",
    "exp, arctan = np.exp(X), np.arctan(X)"
   ]
  },
  {
   "cell_type": "code",
   "execution_count": null,
   "id": "bd396ee1-717f-4ffe-8059-c7410aad67ab",
   "metadata": {},
   "outputs": [],
   "source": [
    "plt.figure(figsize=(5, 5), dpi=100)\n",
    "plt.plot(X, exp)\n",
    "plt.plot(X, arctan)"
   ]
  },
  {
   "cell_type": "code",
   "execution_count": null,
   "id": "07feabd4-bb57-4c46-a91c-00bcd6efa359",
   "metadata": {},
   "outputs": [],
   "source": [
    "plt.figure(figsize=(2.5, 2.5), dpi=200)\n",
    "plt.plot(X, exp)\n",
    "plt.plot(X, arctan)"
   ]
  },
  {
   "cell_type": "markdown",
   "id": "14e0a847-0cd3-47ab-8fe1-335e2174d065",
   "metadata": {},
   "source": [
    "`plt.grid()` mostra una graella"
   ]
  },
  {
   "cell_type": "code",
   "execution_count": null,
   "id": "758423b2-06b7-4dc0-9e5b-ebd70d2baaf6",
   "metadata": {},
   "outputs": [],
   "source": [
    "plt.figure(figsize=(4, 2), dpi=100)\n",
    "plt.plot(X, exp)\n",
    "plt.plot(X, arctan)\n",
    "plt.grid()"
   ]
  },
  {
   "cell_type": "markdown",
   "id": "df370e48-d8fe-4722-aa1c-514eaa395de2",
   "metadata": {},
   "source": [
    "`xlim` i `ylim` canvien els límits dels eixos"
   ]
  },
  {
   "cell_type": "code",
   "execution_count": null,
   "id": "d7a593aa-5b5d-460b-bbd1-3c2551de76c4",
   "metadata": {},
   "outputs": [],
   "source": [
    "plt.figure(figsize=(4, 2), dpi=100)\n",
    "plt.plot(X, exp)\n",
    "plt.plot(X, arctan)\n",
    "\n",
    "plt.xlim(-1.2, 2.2)\n",
    "plt.ylim(-1, 4)"
   ]
  },
  {
   "cell_type": "markdown",
   "id": "c960bf25-9f4e-4285-b3db-dd08f4aa3be7",
   "metadata": {},
   "source": [
    "`xticks` i `yticks` canvien la posició de les marques als eixos "
   ]
  },
  {
   "cell_type": "code",
   "execution_count": null,
   "id": "b17292c0-82e5-4190-8ab4-0a1a3935572c",
   "metadata": {},
   "outputs": [],
   "source": [
    "plt.figure(figsize=(4, 2), dpi=100)\n",
    "plt.plot(X, exp)\n",
    "plt.plot(X, arctan)\n",
    "\n",
    "plt.xticks([-1, 0, 1, 2])\n",
    "plt.yticks([1, 4, 7])"
   ]
  },
  {
   "cell_type": "markdown",
   "id": "44b82685-c7ec-421e-a2f4-5fdaa29c09f7",
   "metadata": {},
   "source": [
    "Finalment, el tamany del text dels propis eixos també es pot canviar"
   ]
  },
  {
   "cell_type": "code",
   "execution_count": null,
   "id": "8a16403e-e378-409c-ba28-849954cdb179",
   "metadata": {},
   "outputs": [],
   "source": [
    "plt.figure(figsize=(4, 2), dpi=100)\n",
    "plt.plot(X, exp)\n",
    "plt.plot(X, arctan)\n",
    "\n",
    "plt.xticks([-1, 0, 1, 2], fontsize=FONTSIZE)\n",
    "plt.yticks([1, 4, 7], fontsize=FONTSIZE)"
   ]
  },
  {
   "cell_type": "markdown",
   "id": "e750f979-e066-49a5-8dd8-cf2cd0d7823d",
   "metadata": {},
   "source": [
    "## Exercici\n",
    "\n",
    "Reprodueix la següent figura\n",
    "\n",
    "![exemple_potencies.png](imatges/exemple_potencies.png)"
   ]
  },
  {
   "cell_type": "code",
   "execution_count": null,
   "id": "82d93880-9f41-4385-bbd3-5c85825026aa",
   "metadata": {},
   "outputs": [],
   "source": [
    "X = np.linspace(-10, 10, 200)\n",
    "plt.plot(X, X**2, label=\"$x^2$\")\n",
    "plt.plot(X, X**3, label=\"$x^3$\")\n",
    "plt.plot(X, X**4, label=\"$x^4$\")"
   ]
  },
  {
   "cell_type": "markdown",
   "id": "b313b4b9-4603-413c-bddc-893d4bb0908e",
   "metadata": {},
   "source": [
    "## Tipus de gràfics"
   ]
  },
  {
   "cell_type": "markdown",
   "id": "f4e837d8-7079-4929-a529-05979f33d8c4",
   "metadata": {},
   "source": [
    "**De barres**"
   ]
  },
  {
   "cell_type": "code",
   "execution_count": null,
   "id": "1e567794-8059-4996-90da-ab742bed058f",
   "metadata": {},
   "outputs": [],
   "source": [
    "X = np.array([1, 2, 3, 4, 5])\n",
    "Y = X**3\n",
    "plt.bar(X, Y)"
   ]
  },
  {
   "cell_type": "code",
   "execution_count": null,
   "id": "0857c4d0-579e-404c-a200-dfc12343d4d2",
   "metadata": {},
   "outputs": [],
   "source": [
    "plt.barh(X, Y)"
   ]
  },
  {
   "cell_type": "markdown",
   "id": "144a125a-8965-44ea-b638-6798276ed1c0",
   "metadata": {},
   "source": [
    "**Núvol de punts**"
   ]
  },
  {
   "cell_type": "code",
   "execution_count": null,
   "id": "5bcf1963-3080-4c46-adb5-3a2c58d60c54",
   "metadata": {},
   "outputs": [],
   "source": [
    "plt.scatter(X, Y)"
   ]
  },
  {
   "cell_type": "markdown",
   "id": "7b98412c-bc02-468f-aabc-e194deb993e7",
   "metadata": {},
   "source": [
    "**Histograma**"
   ]
  },
  {
   "cell_type": "code",
   "execution_count": null,
   "id": "bd26f2cd-b832-45d7-b83f-340187b8b49c",
   "metadata": {},
   "outputs": [],
   "source": [
    "normal = np.random.normal(size=1000)\n",
    "plt.hist(normal)\n",
    "plt.show()"
   ]
  },
  {
   "cell_type": "code",
   "execution_count": null,
   "id": "2d70a963-8104-4f41-b291-047552f377fe",
   "metadata": {},
   "outputs": [],
   "source": [
    "plt.hist(normal, bins=20)\n",
    "plt.show()"
   ]
  },
  {
   "cell_type": "code",
   "execution_count": null,
   "id": "263057a1-c27f-4160-863c-0a99c6b94fd8",
   "metadata": {},
   "outputs": [],
   "source": [
    "plt.hist(normal, bins=50)\n",
    "plt.show()"
   ]
  },
  {
   "cell_type": "markdown",
   "id": "047a65b8-729f-48ff-8420-4b9c1de74658",
   "metadata": {},
   "source": [
    "Si volem superposar dos gràfics, podem canviar el paràmetre de transparència `alpha`."
   ]
  },
  {
   "cell_type": "code",
   "execution_count": null,
   "id": "38fcc00e-f34d-4578-9359-eeb2c87c6355",
   "metadata": {},
   "outputs": [],
   "source": [
    "normal2 = np.random.normal(size=1000)\n",
    "plt.hist(normal2, bins=20)\n",
    "normal3 = np.random.normal(size=1000)\n",
    "plt.hist(normal3, bins=20)\n",
    "plt.show()"
   ]
  },
  {
   "cell_type": "code",
   "execution_count": null,
   "id": "08b8aff6-311d-40a6-bb4d-7356e3ccf64c",
   "metadata": {},
   "outputs": [],
   "source": [
    "normal2 = np.random.normal(size=1000)\n",
    "plt.hist(normal2, bins=20, alpha=0.5)\n",
    "normal3 = np.random.normal(size=1000)\n",
    "plt.hist(normal3, bins=20, alpha=0.5)\n",
    "plt.show()"
   ]
  },
  {
   "cell_type": "markdown",
   "id": "72c320e4-fd88-425e-957c-2c3176ec19a4",
   "metadata": {},
   "source": [
    "Podem fer servir variables categòriques en comptes de numèriques"
   ]
  },
  {
   "cell_type": "code",
   "execution_count": null,
   "id": "57cdb184-f178-4b8c-a4e6-5d98928962ae",
   "metadata": {},
   "outputs": [],
   "source": [
    "noms = [\"group a\", \"grup B\", \"grup C\"]\n",
    "valors = [1, 10, 100]\n",
    "plt.bar(noms, valors)\n",
    "plt.show()\n",
    "plt.scatter(noms, valors)\n",
    "plt.show()\n",
    "plt.plot(noms, valors)"
   ]
  },
  {
   "cell_type": "markdown",
   "id": "d2e13ca6-f042-499b-9115-47ad3c4c6dd9",
   "metadata": {},
   "source": [
    "I combinar tipus de gràfic diferents (cal que tingui algun sentit)"
   ]
  },
  {
   "cell_type": "code",
   "execution_count": null,
   "id": "5c3c166a-b6f5-4729-b99b-1cd73a32e73f",
   "metadata": {},
   "outputs": [],
   "source": [
    "noms = [\"group a\", \"grup B\", \"grup C\"]\n",
    "valors = [1, 10, 100]\n",
    "plt.bar(noms, valors, alpha=0.8)\n",
    "plt.scatter(noms, valors)\n",
    "plt.plot(noms, valors, \"g\")"
   ]
  },
  {
   "cell_type": "markdown",
   "id": "4f986614-28f8-4a88-808c-198a1bc0721a",
   "metadata": {},
   "source": [
    "## Integració amb Pandas\n",
    "\n",
    "Pandas es basa en Numpy i Matplotlib. Es poden fer gràfics directament des de Pandas.\n",
    "\n",
    "En comptes de fer `plt.plot()`, es pot fer directament del DataFrame"
   ]
  },
  {
   "cell_type": "code",
   "execution_count": null,
   "id": "b29e7778-4107-49a6-a881-4dd23d5f3061",
   "metadata": {},
   "outputs": [],
   "source": [
    "import pandas as pd"
   ]
  },
  {
   "cell_type": "code",
   "execution_count": null,
   "id": "059126ec-d3df-455a-b8bb-5517b4ac6410",
   "metadata": {},
   "outputs": [],
   "source": [
    "dades = pd.read_csv(\"data/eulp2018/eulp2018.data.csv\", sep=\"\\t\")\n",
    "dades[\"ANY_NAIX\"].hist()"
   ]
  },
  {
   "cell_type": "markdown",
   "id": "0c86a127-b3ca-48f8-99d8-4ab48b1b4300",
   "metadata": {},
   "source": [
    "Alguna opció per defecte és diferent, però es pot modificar"
   ]
  },
  {
   "cell_type": "code",
   "execution_count": null,
   "id": "912abfbc-630d-4598-b04d-0906e20ebf12",
   "metadata": {},
   "outputs": [],
   "source": [
    "dades[\"ANY_NAIX\"].hist(color=\"green\")\n",
    "plt.grid(False)\n",
    "plt.xlabel(\"Any de naixament\")\n",
    "plt.ylabel(\"Freqüència absoluta\")"
   ]
  },
  {
   "cell_type": "markdown",
   "id": "b9169e52-6742-4df9-b65d-658f28b4f84d",
   "metadata": {},
   "source": [
    "I direu, quina tonteria, és el mateix que fer"
   ]
  },
  {
   "cell_type": "code",
   "execution_count": null,
   "id": "fc905a17-c232-489a-ac84-b0b80a01fd23",
   "metadata": {},
   "outputs": [],
   "source": [
    "plt.hist(dades[\"ANY_NAIX\"])\n",
    "plt.show()"
   ]
  },
  {
   "cell_type": "markdown",
   "id": "161f37db-0f91-42f9-a25c-8826a5862966",
   "metadata": {},
   "source": [
    "Però, la gràcia és que permet fer molts gràfics de cop (tot i que és sobretot per explorar les dades)"
   ]
  },
  {
   "cell_type": "code",
   "execution_count": null,
   "id": "41c4792b-97d7-4b04-af27-344d3520c536",
   "metadata": {},
   "outputs": [],
   "source": [
    "dades.hist(figsize=(20, 30))\n",
    "plt.show()"
   ]
  },
  {
   "cell_type": "markdown",
   "id": "871a6860-4611-4c72-a010-fb629c6b5860",
   "metadata": {},
   "source": [
    "## Solució"
   ]
  },
  {
   "cell_type": "code",
   "execution_count": null,
   "id": "992ee280-e7ef-49ef-82e5-ac20aee1bd79",
   "metadata": {},
   "outputs": [],
   "source": [
    "plt.figure(figsize=(10, 6), dpi=100)\n",
    "FONTSIZE = 15\n",
    "FONTSIZE2 = 20\n",
    "\n",
    "X = np.linspace(-10, 10, 200)\n",
    "plt.plot(X, X**2, label=\"$x^2$\", color=\"purple\", linewidth=1)\n",
    "plt.plot(X, X**3, label=\"$x^3$\", linestyle=\"--\")\n",
    "plt.plot(X, X**4, label=\"$x^4$\", linestyle=\":\", linewidth=4)\n",
    "\n",
    "plt.xticks(np.arange(-10, 11, 2.5), fontsize=FONTSIZE)\n",
    "plt.yticks([-20, -10, 0, 15, 40, 80], fontsize=FONTSIZE)\n",
    "\n",
    "plt.ylim([-20, 100])\n",
    "plt.xlabel(\"$x$\", fontsize=FONTSIZE2)\n",
    "plt.ylabel(\"$f(x)$\", fontsize=FONTSIZE2)\n",
    "plt.title(\"Potències\", fontsize=FONTSIZE)\n",
    "plt.legend(loc=\"lower right\", fontsize=FONTSIZE)\n",
    "plt.savefig(\"imatges/exemple_potencies.png\")"
   ]
  },
  {
   "cell_type": "markdown",
   "id": "e575a102-c58f-4cdf-812b-2f71768995e7",
   "metadata": {},
   "source": [
    "# API orientada a objectes de Matplotlib"
   ]
  },
  {
   "cell_type": "code",
   "execution_count": null,
   "id": "921cc01a-a097-4aaf-8baf-1368428d3513",
   "metadata": {},
   "outputs": [],
   "source": [
    "import matplotlib.pyplot as plt\n",
    "import numpy as np\n",
    "import pandas as pd\n",
    "\n",
    "# per dades d'exemple\n",
    "from matplotlib.cbook import get_sample_data\n",
    "\n",
    "%matplotlib inline\n",
    "%config InlineBackend.figure_format='retina'"
   ]
  },
  {
   "cell_type": "markdown",
   "id": "a58dd90b-f99d-43ae-9448-fc1492a34751",
   "metadata": {},
   "source": [
    "Ja hem vist Matplotlib, però resulta que té dues interfícies:\n",
    "- La de pyplot. Tot es fa amb `plt.`\n",
    "- L'orientada a objectes, que es basa en els objectes `Figure` i `Axes`"
   ]
  },
  {
   "cell_type": "code",
   "execution_count": null,
   "id": "ed9c6269-e522-466d-9d9b-7b9da42bac2b",
   "metadata": {},
   "outputs": [],
   "source": [
    "# Creem els objectes Figure i Axes\n",
    "fig, ax = plt.subplots()\n",
    "\n",
    "# En comptes de plt.plot fem ax.plot\n",
    "ax.plot(\n",
    "    [1, 2, 3, 4, 5, 6],\n",
    "    [1, 4, 2, 3, 1, 7],\n",
    ")"
   ]
  },
  {
   "cell_type": "code",
   "execution_count": null,
   "id": "c06cc155-0eb7-4bc4-a425-7201e8fc64dd",
   "metadata": {},
   "outputs": [],
   "source": [
    "type(fig), type(ax)"
   ]
  },
  {
   "cell_type": "code",
   "execution_count": null,
   "id": "0fc18068-c74e-4c7c-a746-3b91b0869e80",
   "metadata": {},
   "outputs": [],
   "source": [
    "fig"
   ]
  },
  {
   "cell_type": "markdown",
   "id": "d141190f-d019-4860-a7c1-b76ca4aaf16a",
   "metadata": {},
   "source": [
    "## set"
   ]
  },
  {
   "cell_type": "code",
   "execution_count": null,
   "id": "d4543edc-83ec-4675-9dfc-6b98b4c995d8",
   "metadata": {},
   "outputs": [],
   "source": [
    "# Els arguments que passàvem a plt.figure ara els passem a plt.subplots\n",
    "fig, ax = plt.subplots(figsize=(5, 3))\n",
    "\n",
    "FONTSIZE = 15\n",
    "FONTSIZE2 = 20\n",
    "\n",
    "X = np.linspace(-10, 10, 200)\n",
    "ax.plot(X, X**2, label=\"$x^2$\", color=\"purple\", linewidth=1)\n",
    "ax.plot(X, X**3, label=\"$x^3$\", linestyle=\"--\")\n",
    "ax.plot(X, X**4, label=\"$x^4$\", linestyle=\":\", linewidth=4)\n",
    "\n",
    "# Molts dels canvis que feiem (x/ylim, x/ylabel, title...) ara porten \"set_\" a davant\n",
    "ax.set_ylim([-20, 100])\n",
    "ax.set_xlabel(\"$x$\", fontsize=FONTSIZE2)\n",
    "ax.set_ylabel(\"$f(x)$\", fontsize=FONTSIZE2)\n",
    "ax.set_title(\"Potències\", fontsize=FONTSIZE)\n",
    "\n",
    "# Els xticks i yticks no agafemn fontsize\n",
    "ax.set_xticks(np.arange(-10, 11, 3))\n",
    "ax.set_yticks([-20, 0, 20, 40, 80])\n",
    "\n",
    "# Sinó que es fa amb tick_params\n",
    "ax.tick_params(axis=\"x\", labelsize=FONTSIZE)\n",
    "ax.tick_params(axis=\"y\", labelsize=FONTSIZE)\n",
    "\n",
    "# legend funciona igual\n",
    "plt.legend(loc=\"lower right\", fontsize=FONTSIZE)\n",
    "\n",
    "fig.savefig(\"imatges/exemple_potencies2.png\")"
   ]
  },
  {
   "cell_type": "code",
   "execution_count": null,
   "id": "8b54401d-f2a3-44c5-993c-1c5c33cc16d9",
   "metadata": {},
   "outputs": [],
   "source": [
    "fig, ax = plt.subplots(figsize=(4, 2), dpi=100)\n",
    "ax.plot(X, X**2, label=\"$x^2$\", color=\"purple\", linewidth=1)\n",
    "ax.plot(X, X**3, label=\"$x^3$\", linestyle=\"--\")\n",
    "ax.plot(X, X**4, label=\"$x^4$\", linestyle=\":\", linewidth=4)\n",
    "\n",
    "# Podem simplificar tots els set_ a un sol mètode amb arguments\n",
    "ax.set(\n",
    "    ylim=[-20, 100],\n",
    "    xlabel=\"$x$\",\n",
    "    ylabel=\"$f(x)$\",\n",
    "    title=\"Potències\",\n",
    "    xticks=np.arange(-10, 11, 2.5),\n",
    "    yticks=[-20, -10, 0, 15, 40, 80],\n",
    ")\n",
    "\n",
    "# Però llavors hem de modificar a part altres arguments, com fontsize\n",
    "ax.xaxis.label.set_size(FONTSIZE2)\n",
    "ax.yaxis.label.set_size(FONTSIZE2)\n",
    "ax.title.set_size(FONTSIZE)\n",
    "\n",
    "# plt.show no canvia a fig.show\n",
    "plt.show()"
   ]
  },
  {
   "cell_type": "code",
   "execution_count": null,
   "id": "afc115d8-62b3-4cc5-91c1-667cc3028e33",
   "metadata": {},
   "outputs": [],
   "source": [
    "fig, ax = plt.subplots(figsize=(4, 2), dpi=100)\n",
    "ax.plot(X, X**2, label=\"$x^2$\", color=\"purple\", linewidth=1)\n",
    "ax.plot(X, X**3, label=\"$x^3$\", linestyle=\"--\")\n",
    "ax.plot(X, X**4, label=\"$x^4$\", linestyle=\":\", linewidth=4)\n",
    "\n",
    "# podem barrejar les dues maneres de treballar, però NO ÉS RECOMANABLE\n",
    "plt.ylim([-20, 100])\n",
    "ax.set_xlabel(\"$x$\", fontsize=FONTSIZE2)\n",
    "plt.ylabel(\"$f(x)$\", fontsize=FONTSIZE2)\n",
    "ax.set_title(\"Potències\", fontsize=FONTSIZE)"
   ]
  },
  {
   "cell_type": "markdown",
   "id": "3c17fd16-7ce3-48a0-9d07-7063d7255684",
   "metadata": {},
   "source": [
    "## Subplots\n",
    "\n",
    "`plt.subplots()` es diu així perquè permet dividir una figura en diverses"
   ]
  },
  {
   "cell_type": "code",
   "execution_count": null,
   "id": "5481d51e-0b94-4e4c-adf1-8204152d5227",
   "metadata": {},
   "outputs": [],
   "source": [
    "# Quan fem subplots se sol dir axs o axes el segon objecte\n",
    "fig, axes = plt.subplots(nrows=1, ncols=2)\n",
    "\n",
    "# veiem que és un array\n",
    "axes"
   ]
  },
  {
   "cell_type": "code",
   "execution_count": null,
   "id": "49b75528-19cb-4381-b9c9-9d374f8f9e0a",
   "metadata": {},
   "outputs": [],
   "source": [
    "# fem servir aquestes dades\n",
    "df = pd.read_csv(\"data/efecte_stroop.csv\")\n",
    "df.head()"
   ]
  },
  {
   "cell_type": "code",
   "execution_count": null,
   "id": "049c5bd7-d924-4827-9b9a-b363fed5ed8b",
   "metadata": {},
   "outputs": [],
   "source": [
    "fig, axes = plt.subplots(nrows=1, ncols=2, figsize=(8, 3), dpi=100)\n",
    "\n",
    "# Per cada Axes podem fer plots independents\n",
    "axes[0].hist(df.Edat)\n",
    "axes[1].scatter(df[\"Temps experiment 1\"], df[\"Temps experiment 2\"])\n",
    "\n",
    "# I cambiar el que vulguem sense importar l'ordre\n",
    "axes[0].set(xlabel=\"Edat\", ylabel=\"Freqüència absoluta\")\n",
    "axes[1].set(xlabel=\"Temps 1\", ylabel=\"Temps 2\")"
   ]
  },
  {
   "cell_type": "code",
   "execution_count": null,
   "id": "0f2df7d0-b11b-46c2-8911-5b9f906d2aef",
   "metadata": {},
   "outputs": [],
   "source": [
    "# Segons la mida de la figura es poden solapar les subfigures!\n",
    "fig, axes = plt.subplots(nrows=1, ncols=2, figsize=(4, 3), dpi=100)\n",
    "axes[0].hist(df.Edat)\n",
    "axes[1].scatter(df[\"Temps experiment 1\"], df[\"Temps experiment 2\"])\n",
    "\n",
    "axes[0].set(xlabel=\"Edat\", ylabel=\"Freqüència absoluta\")\n",
    "axes[1].set(xlabel=\"Temps 1\", ylabel=\"Temps 2\")"
   ]
  },
  {
   "cell_type": "code",
   "execution_count": null,
   "id": "427d2f8a-78ae-4e0b-8c83-2bbf9b9a0929",
   "metadata": {},
   "outputs": [],
   "source": [
    "# Ho podem arreglar manualment\n",
    "# O fer servir layout=\"constrained\" - funciona molt bé però amb excepcions\n",
    "# https://matplotlib.org/stable/users/explain/axes/constrainedlayout_guide.html\n",
    "\n",
    "fig, axes = plt.subplots(nrows=1, ncols=2, layout=\"constrained\", figsize=(4, 3), dpi=100)\n",
    "axes[0].hist(df.Edat)\n",
    "axes[1].scatter(df[\"Temps experiment 1\"], df[\"Temps experiment 2\"])\n",
    "\n",
    "axes[0].set(xlabel=\"Edat\", ylabel=\"Freqüència absoluta\")\n",
    "axes[1].set(xlabel=\"Temps 1\", ylabel=\"Temps 2\")"
   ]
  },
  {
   "cell_type": "code",
   "execution_count": null,
   "id": "5e961fcd-6403-4513-a9c2-ccd59f029fe7",
   "metadata": {},
   "outputs": [],
   "source": [
    "# Els podem posar un sobre l'altre\n",
    "fig, axes = plt.subplots(nrows=2, ncols=1, figsize=(4, 7), dpi=100)\n",
    "axes[0].hist(df.Edat)\n",
    "axes[1].scatter(df[\"Temps experiment 1\"], df[\"Temps experiment 2\"])"
   ]
  },
  {
   "cell_type": "code",
   "execution_count": null,
   "id": "b8b58d7b-5f72-4e4f-b923-e5d6c1542b28",
   "metadata": {},
   "outputs": [],
   "source": [
    "fig, axes = plt.subplots(nrows=2, ncols=1, figsize=(4, 7), dpi=100)\n",
    "\n",
    "# Si volem fer els gràfics directament des de Pandas, hem de passar\n",
    "# el subplot on volem la figura amb \"ax=axes[INDEX]\"\n",
    "df.Edat.hist(ax=axes[0])\n",
    "df.plot.scatter(x=\"Temps experiment 1\", y=\"Temps experiment 2\", ax=axes[1])"
   ]
  },
  {
   "cell_type": "code",
   "execution_count": null,
   "id": "02771575-526a-47f9-a172-caade76d8c28",
   "metadata": {},
   "outputs": [],
   "source": [
    "fig, axes = plt.subplots(nrows=2, ncols=2, figsize=(8, 6), dpi=100)\n",
    "\n",
    "# Si fem servir dues dimensions, per defecte axes també tindrà 2 dimensions\n",
    "axes"
   ]
  },
  {
   "cell_type": "code",
   "execution_count": null,
   "id": "871a600f-d4d7-436a-88aa-e8f89169d26c",
   "metadata": {},
   "outputs": [],
   "source": [
    "fig, axes = plt.subplots(nrows=2, ncols=2, layout=\"constrained\", figsize=(8, 6), dpi=100)\n",
    "\n",
    "axes[0, 0].hist(np.random.normal(size=1000), bins=20)\n",
    "axes[0, 1].hist(np.random.gamma(1, size=1000), bins=20, color=\"green\")\n",
    "axes[1, 0].hist(np.random.beta(1, 2, size=1000), bins=20, color=\"red\")\n",
    "axes[1, 1].hist(np.random.beta(2, 1, size=1000), bins=20, color=\"orange\")\n",
    "\n",
    "# Podem posar una llegenda global\n",
    "fig.legend(labels=[\"normal\", \"gamma 1\", \"beta 1 2\", \"beta 2 1\"])\n",
    "\n",
    "plt.show()"
   ]
  },
  {
   "cell_type": "code",
   "execution_count": null,
   "id": "93bf5284-e269-44a9-a3e4-dd70ca6db9c5",
   "metadata": {},
   "outputs": [],
   "source": [
    "# Si volem que comparteixin els eixos podem fer sevir sharex i/o sharey\n",
    "fig, axes = plt.subplots(nrows=2, ncols=2, sharex=True, sharey=True, figsize=(8, 6), dpi=100)\n",
    "\n",
    "gamma = np.random.gamma(1, size=10000)\n",
    "axes[0, 0].hist(gamma, bins=10)\n",
    "axes[0, 0].hist(gamma - 1, bins=10, alpha=0.5)\n",
    "axes[0, 1].hist(gamma, bins=20)\n",
    "axes[1, 0].hist(gamma, bins=30)\n",
    "axes[1, 1].hist(gamma, bins=40)\n",
    "\n",
    "# I també podem posar llegendes individuals\n",
    "axes[0, 0].legend([\"gamma\", \"gamma-1\"])\n",
    "\n",
    "plt.show()"
   ]
  },
  {
   "cell_type": "markdown",
   "id": "cb612b6a-80e0-4873-a409-cc038d3282de",
   "metadata": {},
   "source": [
    "A part del títol i noms del eixos per cada subfigura, també en podem posar de generals amb:\n",
    "\n",
    "- `suptitle`\n",
    "- `supxlabel`\n",
    "- `supylabel`\n",
    "\n",
    "Exemples de https://matplotlib.org/stable/gallery/subplots_axes_and_figures/figure_title.html"
   ]
  },
  {
   "cell_type": "code",
   "execution_count": null,
   "id": "99ff7b2d-f121-40ef-be0a-35149687a4bc",
   "metadata": {},
   "outputs": [],
   "source": [
    "x = np.linspace(0.0, 5.0, 501)\n",
    "\n",
    "fig, (ax1, ax2) = plt.subplots(1, 2, layout=\"constrained\", sharey=True)\n",
    "ax1.plot(x, np.cos(6 * x) * np.exp(-x))\n",
    "ax1.set_title(\"damped\")\n",
    "ax1.set_xlabel(\"time (s)\")\n",
    "ax1.set_ylabel(\"amplitude\")\n",
    "\n",
    "ax2.plot(x, np.cos(6 * x))\n",
    "ax2.set_xlabel(\"time (s)\")\n",
    "ax2.set_title(\"undamped\")\n",
    "\n",
    "fig.suptitle(\"Different types of oscillations\", fontsize=16)"
   ]
  },
  {
   "cell_type": "code",
   "execution_count": null,
   "id": "20df3eb0-7d61-4b97-9fa1-cf3227c25b72",
   "metadata": {},
   "outputs": [],
   "source": [
    "with get_sample_data(\"Stocks.csv\") as file:\n",
    "    stocks = np.genfromtxt(\n",
    "        file, delimiter=\",\", names=True, dtype=None, converters={0: lambda x: np.datetime64(x, \"D\")}, skip_header=1\n",
    "    )\n",
    "\n",
    "fig, axs = plt.subplots(4, 2, figsize=(9, 5), layout=\"constrained\", sharex=True, sharey=True, dpi=100)\n",
    "\n",
    "# flat retorna un iterador, mentre que flatten crea un nou array\n",
    "for nn, ax in enumerate(axs.flat):\n",
    "    column_name = stocks.dtype.names[1 + nn]\n",
    "    y = stocks[column_name]\n",
    "    ax.plot(stocks[\"Date\"], y / np.nanmax(y))\n",
    "\n",
    "    # Bon exemple de títol\n",
    "    # De fet, es poden posar fins a 3 títols: un a l'esquerra, un al mig i un a la dreta\n",
    "    ax.set_title(column_name, fontsize=\"small\", loc=\"left\")\n",
    "\n",
    "fig.supxlabel(\"Year\")\n",
    "fig.supylabel(\"Stock price relative to max\")\n",
    "\n",
    "plt.show()"
   ]
  },
  {
   "cell_type": "markdown",
   "id": "10c76f66-a5cb-404d-80fa-2d95af0ad908",
   "metadata": {},
   "source": [
    "### Estructures més complexes"
   ]
  },
  {
   "cell_type": "code",
   "execution_count": null,
   "id": "93146301-b96c-41bf-8c5a-8d5830576cdf",
   "metadata": {},
   "outputs": [],
   "source": [
    "axd = plt.figure(constrained_layout=True).subplot_mosaic(\n",
    "    \"\"\"\n",
    "    ABD\n",
    "    CCD\n",
    "    CC.\n",
    "    \"\"\"\n",
    ")\n",
    "\n",
    "# axd retorna un diccionari\n",
    "axd"
   ]
  },
  {
   "cell_type": "code",
   "execution_count": null,
   "id": "d2a0c3c9-aa79-40f4-9e7a-0b8d3851c06a",
   "metadata": {},
   "outputs": [],
   "source": [
    "axd = plt.figure(constrained_layout=True).subplot_mosaic(\n",
    "    \"\"\"\n",
    "    ABD\n",
    "    CCD\n",
    "    CC.\n",
    "    \"\"\"\n",
    ")\n",
    "\n",
    "# recordeu que podem passar arguments amb un diccionari\n",
    "kw = dict(ha=\"center\", va=\"center\", fontsize=60, color=\"darkgrey\")\n",
    "for k, ax in axd.items():\n",
    "    ax.text(0.5, 0.5, k, **kw)"
   ]
  },
  {
   "cell_type": "code",
   "execution_count": null,
   "id": "477a16f8-09ce-4d74-8c44-7e7f29484d1d",
   "metadata": {},
   "outputs": [],
   "source": [
    "axd = plt.figure(constrained_layout=True).subplot_mosaic(\n",
    "    \"\"\"\n",
    "    ABD\n",
    "    CCD\n",
    "    CC.\n",
    "    \"\"\"\n",
    ")\n",
    "\n",
    "axd[\"A\"].scatter(np.random.normal(size=100), np.random.normal(size=100))\n",
    "axd[\"B\"].scatter(np.random.normal(size=100), np.random.normal(size=100))\n",
    "axd[\"C\"].scatter(np.random.normal(size=100), np.random.normal(size=100))\n",
    "axd[\"D\"].scatter(np.random.lognormal(size=100), np.random.lognormal(size=100))"
   ]
  },
  {
   "cell_type": "code",
   "execution_count": null,
   "id": "3ee80c70-910a-4e25-9b01-b96ec7c16190",
   "metadata": {},
   "outputs": [],
   "source": []
  }
 ],
 "metadata": {
  "kernelspec": {
   "display_name": "Python 3 (ipykernel)",
   "language": "python",
   "name": "python3"
  },
  "language_info": {
   "codemirror_mode": {
    "name": "ipython",
    "version": 3
   },
   "file_extension": ".py",
   "mimetype": "text/x-python",
   "name": "python",
   "nbconvert_exporter": "python",
   "pygments_lexer": "ipython3"
  }
 },
 "nbformat": 4,
 "nbformat_minor": 5
}
