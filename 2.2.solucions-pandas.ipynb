{
 "cells": [
  {
   "cell_type": "markdown",
   "id": "18035530-24f0-4034-9a2c-59ce9c0d8f94",
   "metadata": {},
   "source": [
    "# Pandas (1)"
   ]
  },
  {
   "cell_type": "code",
   "execution_count": null,
   "id": "73e4598f-d1d5-43b4-a9c0-c751d797fa2a",
   "metadata": {},
   "outputs": [],
   "source": [
    "import pandas as pd"
   ]
  },
  {
   "cell_type": "markdown",
   "id": "58238a34-6a32-47e5-b288-274b52f972ca",
   "metadata": {},
   "source": [
    "Els objectes principals de Pandas són els `DataFrames` --- venen a ser taules de dades amb files i columnes."
   ]
  },
  {
   "cell_type": "markdown",
   "id": "f894fb4d-3627-4c07-9dc2-21d1490524ca",
   "metadata": {},
   "source": [
    "Agafem les dades de les línies de bus que ja coneixem "
   ]
  },
  {
   "cell_type": "code",
   "execution_count": null,
   "id": "b4a9c5c9-1c45-4beb-b33c-1fb008ccf47d",
   "metadata": {},
   "outputs": [],
   "source": [
    "df = pd.read_csv(\"data/ctabus.csv\")\n",
    "df"
   ]
  },
  {
   "cell_type": "markdown",
   "id": "56073de1-7efa-4890-8f84-91487457e478",
   "metadata": {},
   "source": [
    "## Veure les dades"
   ]
  },
  {
   "cell_type": "markdown",
   "id": "587b1c1a-1b4f-4013-afbf-7b11e4385156",
   "metadata": {},
   "source": [
    "Mètodes per explorar un `DataFrame`:\n",
    "\n",
    "- `head(n)`-  Mostra les n primeres columnes\n",
    "- `tail(n)`-  Mostra les n últimes columnes\n",
    "- `info` - Ens dius quantes entrades no buides hi ha, i el tipus de variable de cada columna\n",
    "- `describe` - Mostra estadístiques bàsiques de les columnes numèriques"
   ]
  },
  {
   "cell_type": "code",
   "execution_count": null,
   "id": "c4c72b2b-6254-482c-8dc9-8554a4250d20",
   "metadata": {},
   "outputs": [],
   "source": [
    "df.head()"
   ]
  },
  {
   "cell_type": "code",
   "execution_count": null,
   "id": "e74f44c2-ae88-45e5-9bc7-2924dc797e3b",
   "metadata": {},
   "outputs": [],
   "source": [
    "# Dtype object vol dir string per Pandas df.info()"
   ]
  },
  {
   "cell_type": "code",
   "execution_count": null,
   "id": "8dec1059-f18b-4ed9-8dc3-c5d150926d42",
   "metadata": {},
   "outputs": [],
   "source": [
    "df.describe()"
   ]
  },
  {
   "cell_type": "markdown",
   "id": "ab817daa-a676-4c85-b0e0-4c554eb4d7fa",
   "metadata": {},
   "source": [
    "Com que Pandas fa servir NumPy, podem fer servir els mètodes i atributs de NumPy\n",
    "\n",
    "A més, anirem veient altres atributs interessants, com `columns`"
   ]
  },
  {
   "cell_type": "code",
   "execution_count": null,
   "id": "e9828313-9e0d-47b9-89bb-8cb95bd94e3f",
   "metadata": {},
   "outputs": [],
   "source": [
    "(\n",
    "    df.shape,\n",
    "    df.size,\n",
    "    df.ndim,\n",
    "    len(df),\n",
    ")"
   ]
  },
  {
   "cell_type": "code",
   "execution_count": null,
   "id": "76434e09-3279-43e1-8279-4dd0487c5769",
   "metadata": {},
   "outputs": [],
   "source": [
    "df.columns"
   ]
  },
  {
   "cell_type": "markdown",
   "id": "2cbba2e4-ad97-4ceb-93e5-b97d069fbd2b",
   "metadata": {},
   "source": [
    "## Indexar\n",
    "\n",
    "S'indexa una sola columna igual que un diccionari. El resultat és una `Series` de Pandas."
   ]
  },
  {
   "cell_type": "code",
   "execution_count": null,
   "id": "b5733dfd-9415-406a-a64d-45ef0361b101",
   "metadata": {},
   "outputs": [],
   "source": [
    "# Agafem 5 files per no imprimir tant\n",
    "df = df[75:80]"
   ]
  },
  {
   "cell_type": "code",
   "execution_count": null,
   "id": "822afcf4-530c-4098-af26-33ca986092c1",
   "metadata": {},
   "outputs": [],
   "source": [
    "df[\"route\"]"
   ]
  },
  {
   "cell_type": "markdown",
   "id": "dfb5c026-f614-46c5-81d5-bbe78197e3f4",
   "metadata": {},
   "source": [
    "També es pot indexar com si fós un atribut (si el nom no té espais)"
   ]
  },
  {
   "cell_type": "code",
   "execution_count": null,
   "id": "0a094963-6d96-4522-862f-7ea89e27766a",
   "metadata": {},
   "outputs": [],
   "source": [
    "df.route"
   ]
  },
  {
   "cell_type": "markdown",
   "id": "9b38da4f-1c6b-46f1-9f98-75dee92cbd35",
   "metadata": {},
   "source": [
    "Si volem indexar diverses columnes, ens cal una llista"
   ]
  },
  {
   "cell_type": "code",
   "execution_count": null,
   "id": "e9797bfa-dd6c-401f-b8f5-694059f253a2",
   "metadata": {},
   "outputs": [],
   "source": [
    "cols = [\"route\", \"rides\"]\n",
    "df[cols]"
   ]
  },
  {
   "cell_type": "code",
   "execution_count": null,
   "id": "566dceb4-6477-44ec-bc84-91ad74a941fa",
   "metadata": {},
   "outputs": [],
   "source": [
    "# O el que és el mateix\n",
    "df[[\"route\", \"rides\"]]"
   ]
  },
  {
   "cell_type": "markdown",
   "id": "17fba414-9c1a-4976-b452-08f02e0c067d",
   "metadata": {},
   "source": [
    "Per **indexar files** farem servir `.loc`"
   ]
  },
  {
   "cell_type": "code",
   "execution_count": null,
   "id": "5f0a1fb3-19ba-440c-a2cd-79eb34520be2",
   "metadata": {},
   "outputs": [],
   "source": [
    "# Una sola fila també retorna una `Series`\n",
    "df.loc[75]"
   ]
  },
  {
   "cell_type": "code",
   "execution_count": null,
   "id": "01f5c3ac-782b-42e6-ac78-ad973912579d",
   "metadata": {},
   "outputs": [],
   "source": [
    "df.loc[[75, 76, 78]]"
   ]
  },
  {
   "cell_type": "code",
   "execution_count": null,
   "id": "d4aff3f9-13b3-446b-a6d1-e67db135201b",
   "metadata": {},
   "outputs": [],
   "source": [
    "# Podem fer servir rangs (però cal tenir compte!). Què hi veieu?\n",
    "df.loc[:77]"
   ]
  },
  {
   "cell_type": "markdown",
   "id": "9bebb0c6-928a-4fd9-80a5-5a3f79072cbc",
   "metadata": {},
   "source": [
    "Els índexs no tenen per què ser números, per això els rangs amb `loc` són inclusius.\n",
    "\n",
    "Per exemple, podem fer servir una columna com a índex amb `set_index`"
   ]
  },
  {
   "cell_type": "code",
   "execution_count": null,
   "id": "d55e9ce3-a9a1-427c-b8ed-570a644152b5",
   "metadata": {},
   "outputs": [],
   "source": [
    "route_df = df.set_index(\"route\")\n",
    "route_df"
   ]
  },
  {
   "cell_type": "code",
   "execution_count": null,
   "id": "ab1eb9f1-9018-4d6c-a57c-f5b2a704eb6d",
   "metadata": {},
   "outputs": [],
   "source": [
    "route_df.loc[\"49B\"]"
   ]
  },
  {
   "cell_type": "code",
   "execution_count": null,
   "id": "726dd1e5-4647-4ff7-9729-0799f1370495",
   "metadata": {},
   "outputs": [],
   "source": [
    "route_df.loc[\"52A\":\"54B\"]"
   ]
  },
  {
   "cell_type": "markdown",
   "id": "9d469ce5-d78d-4daa-a00d-4ffdcb8ee4cb",
   "metadata": {},
   "source": [
    "Per 'recuperar' l'índex com a columna fem `.reset_index()`"
   ]
  },
  {
   "cell_type": "code",
   "execution_count": null,
   "id": "4781cbd6-7542-4f70-8e4f-cb0c2e696d9a",
   "metadata": {},
   "outputs": [],
   "source": [
    "route_df.reset_index()"
   ]
  },
  {
   "cell_type": "markdown",
   "id": "59737633-9090-4ac4-885f-51e3d816ec7a",
   "metadata": {},
   "source": [
    "Fixeu-vos que les operacions no canvien l'objecte si no fem un ="
   ]
  },
  {
   "cell_type": "code",
   "execution_count": null,
   "id": "2eb5372d-13c9-4505-b50f-d453b52ca07d",
   "metadata": {},
   "outputs": [],
   "source": [
    "route_df"
   ]
  },
  {
   "cell_type": "markdown",
   "id": "30f014dd-cd8a-49db-9b58-50affc851f00",
   "metadata": {},
   "source": [
    "Si en canvi volem indexar numèricament, sense fixar-nos en el nom de l'índex o les columnes, farem servir `iloc`"
   ]
  },
  {
   "cell_type": "code",
   "execution_count": null,
   "id": "f6c4d36c-23d7-4345-8041-501e7278bb22",
   "metadata": {},
   "outputs": [],
   "source": [
    "df.iloc[0]"
   ]
  },
  {
   "cell_type": "code",
   "execution_count": null,
   "id": "6e5575c0-2d22-40e6-a85b-7108e39abac4",
   "metadata": {},
   "outputs": [],
   "source": [
    "df.iloc[:3]"
   ]
  },
  {
   "cell_type": "code",
   "execution_count": null,
   "id": "27482bf6-33ef-45aa-9d37-af1c530d622e",
   "metadata": {},
   "outputs": [],
   "source": [
    "df.iloc[:3, 1:]"
   ]
  },
  {
   "cell_type": "markdown",
   "id": "2d9bb46c-ee65-4b9c-b582-d2bb82acac42",
   "metadata": {},
   "source": [
    "**Resum**\n",
    "\n",
    "\n",
    "+ `[]` per selccionar columnes \n",
    "+ `.loc[noms_files, noms_columnes]` per indexar per nom\n",
    "+ `.iloc[poscio_files, posicio_columnes]` per indexar per posició"
   ]
  },
  {
   "cell_type": "markdown",
   "id": "dced6a0d-44a4-47e9-b1fd-bc09a5400f5f",
   "metadata": {},
   "source": [
    "### Exercici 0\n",
    "\n",
    "Posa-ho tot junt. Selecciona les primeres 500 files senars (de l'índex 1 al 999) i les columnes \"route\", \"date\" i \"rides\""
   ]
  },
  {
   "cell_type": "code",
   "execution_count": null,
   "id": "acb61620",
   "metadata": {},
   "outputs": [],
   "source": [
    "df = pd.read_csv(\"data/ctabus.csv\")"
   ]
  },
  {
   "cell_type": "code",
   "execution_count": null,
   "id": "94656a37-4ee6-42a2-9cb1-492236c1bce9",
   "metadata": {},
   "outputs": [],
   "source": []
  },
  {
   "cell_type": "markdown",
   "id": "9d2e0e33-ace6-49db-a9a8-48fa66f588fe",
   "metadata": {},
   "source": [
    "## Series\n",
    "\n",
    "Les columnes d'un DataFrame són `Series` i tenen mètodes específics.\n",
    "\n",
    "- `unique()` - elements únics (el que fèiem amb un set)\n",
    "- `nunique()` - nombre d'elements únics\n",
    "- `value_counts()` - recompte d'elements (el que fèiem amb un Counter)"
   ]
  },
  {
   "cell_type": "code",
   "execution_count": null,
   "id": "e5e0bc09-37fa-42d0-98c5-8a083e51c7f2",
   "metadata": {},
   "outputs": [],
   "source": [
    "df.route.nunique()"
   ]
  },
  {
   "cell_type": "code",
   "execution_count": null,
   "id": "16b7ef17-1abd-449d-8120-a94b058340c3",
   "metadata": {},
   "outputs": [],
   "source": [
    "df.daytype.unique()"
   ]
  },
  {
   "cell_type": "markdown",
   "id": "4b1d9dff-1675-4da5-8cc6-b13c0fb232d5",
   "metadata": {},
   "source": [
    "De fet, `np.unique` és també una funció de NumPy"
   ]
  },
  {
   "cell_type": "code",
   "execution_count": null,
   "id": "1a89d3dc-3ee6-42a6-8cdb-618a51e90ed7",
   "metadata": {},
   "outputs": [],
   "source": [
    "import numpy as np\n",
    "\n",
    "np.unique(np.array([1, 1, 2, 2, 3, 3, 4, 5]))"
   ]
  },
  {
   "cell_type": "markdown",
   "id": "4b64a531-d436-492a-8444-3528f45df030",
   "metadata": {},
   "source": [
    "I `.nunique()` serveix també per tot un `DataFrame` senser"
   ]
  },
  {
   "cell_type": "code",
   "execution_count": null,
   "id": "a4610c2d-af56-428a-ba52-85c628430f72",
   "metadata": {},
   "outputs": [],
   "source": [
    "df.nunique()"
   ]
  },
  {
   "cell_type": "markdown",
   "id": "b69a4254-69d9-4db1-beae-d37f51dc68c5",
   "metadata": {},
   "source": [
    "## Modificar les dades"
   ]
  },
  {
   "cell_type": "code",
   "execution_count": null,
   "id": "e12ec5e0-e40a-4cd4-87d1-34c513fc59a2",
   "metadata": {},
   "outputs": [],
   "source": [
    "df = pd.read_csv(\"data/ctabus.csv\")"
   ]
  },
  {
   "cell_type": "markdown",
   "id": "5e5b4667-1f94-43ef-b030-727e6e2cdf33",
   "metadata": {},
   "source": [
    "### Crear i modificar "
   ]
  },
  {
   "cell_type": "markdown",
   "id": "46dfd669-bb41-4379-849b-10695461c518",
   "metadata": {},
   "source": [
    "És fàcil crear columnes diferents a partir de les ja existents"
   ]
  },
  {
   "cell_type": "code",
   "execution_count": null,
   "id": "55869857-ef83-4319-82d2-67854fb29d3d",
   "metadata": {},
   "outputs": [],
   "source": [
    "df[\"rides_milers\"] = df.rides / 1000\n",
    "df[\"ruta_dia\"] = df[\"route\"] + \"_\" + df[\"date\"]\n",
    "df.head()"
   ]
  },
  {
   "cell_type": "markdown",
   "id": "e65b78d2-b097-4952-848c-5daa00d1e639",
   "metadata": {},
   "source": [
    "Per fer servir funcions relacionades amb strings, hem de fer primer `.str`"
   ]
  },
  {
   "cell_type": "code",
   "execution_count": null,
   "id": "e2ae6bce-b3ee-406e-82ce-8e802a823be4",
   "metadata": {},
   "outputs": [],
   "source": [
    "df.date.str.replace(\"20\", \"\").head()"
   ]
  },
  {
   "cell_type": "code",
   "execution_count": null,
   "id": "c0c6bd5e-f400-4605-8108-1352b14c2737",
   "metadata": {},
   "outputs": [],
   "source": [
    "df.date.str.split(\"/\").head()"
   ]
  },
  {
   "cell_type": "markdown",
   "id": "218062d7-8882-4dec-a076-7394baa5e936",
   "metadata": {},
   "source": [
    "Si volem canviar un valor a la mateixa columna la reassignem"
   ]
  },
  {
   "cell_type": "code",
   "execution_count": null,
   "id": "7c1b9f4d-6cf3-4848-aac4-c1e5a136c63e",
   "metadata": {},
   "outputs": [],
   "source": [
    "df.date = df.date.str.replace(\"20\", \"\").str.split(\"/\")\n",
    "df.head()"
   ]
  },
  {
   "cell_type": "markdown",
   "id": "f5a775a8-86b6-4289-a20f-3948236eb0f4",
   "metadata": {},
   "source": [
    "És fàcil modificar una columna sencera"
   ]
  },
  {
   "cell_type": "code",
   "execution_count": null,
   "id": "2a65318a-7103-4da8-9fc3-106cb6df303c",
   "metadata": {},
   "outputs": [],
   "source": [
    "df.rides = 3\n",
    "df.head()"
   ]
  },
  {
   "cell_type": "markdown",
   "id": "63364940-ad3b-406e-9e9a-14c21a38f9cb",
   "metadata": {},
   "source": [
    "Però, un 'error' molt típic a Pandas apareix quan volem modificar certes posicions.\n",
    "\n",
    "Llegeix-lo"
   ]
  },
  {
   "cell_type": "code",
   "execution_count": null,
   "id": "1a650b10-b92d-49a9-9404-0b3ca23ba54f",
   "metadata": {},
   "outputs": [],
   "source": [
    "df.rides.loc[:5] = 3"
   ]
  },
  {
   "cell_type": "code",
   "execution_count": null,
   "id": "ec485db8-3bf0-4369-9f2c-d285e6784da2",
   "metadata": {},
   "outputs": [],
   "source": [
    "df.loc[:5, \"rides\"] = 5\n",
    "df.head(10)"
   ]
  },
  {
   "cell_type": "markdown",
   "id": "e7b5f625-8297-436c-b501-118eaf21c48f",
   "metadata": {},
   "source": [
    "### Esborrar"
   ]
  },
  {
   "cell_type": "markdown",
   "id": "455ec035-d198-40cc-a790-0f6bffc82371",
   "metadata": {},
   "source": [
    "Per esborrar files o columnes es fa servir `.drop()`"
   ]
  },
  {
   "cell_type": "code",
   "execution_count": null,
   "id": "60b7d6fb-86ae-4e99-b695-9830106303eb",
   "metadata": {},
   "outputs": [],
   "source": [
    "df.drop(range(5))  # axis=0 per defecte (files)"
   ]
  },
  {
   "cell_type": "code",
   "execution_count": null,
   "id": "b921ec40-52f2-4955-90cd-bf360401f3d1",
   "metadata": {},
   "outputs": [],
   "source": [
    "df.drop(\"daytype\", axis=1).head()  # per borrar columnes cal axis=1"
   ]
  },
  {
   "cell_type": "code",
   "execution_count": null,
   "id": "e7e3f0d1-ecdd-42a5-8fb9-7d678a3781eb",
   "metadata": {},
   "outputs": [],
   "source": [
    "df.drop([\"daytype\", \"route\"], axis=1).head()"
   ]
  },
  {
   "cell_type": "markdown",
   "id": "cf64a05c-6b74-4290-9f35-9209724b9665",
   "metadata": {},
   "source": [
    "### Canviar nom columnes\n",
    "\n",
    "`df.rename(columns={\"columna vella\": \"columna nova\"})`"
   ]
  },
  {
   "cell_type": "code",
   "execution_count": null,
   "id": "616b900d-5ed1-48fb-a9c5-befd1dbe1efa",
   "metadata": {},
   "outputs": [],
   "source": [
    "df.rename(columns={\"route\": \"ruta\", \"date\": \"data\", \"daytype\": \"tipus de dia\", \"rides\": \"viatgers\"}).head()"
   ]
  },
  {
   "cell_type": "markdown",
   "id": "d12d6608-2982-417f-8e61-ca6b7e32bfa1",
   "metadata": {},
   "source": [
    "## Ordenar i agrupar"
   ]
  },
  {
   "cell_type": "markdown",
   "id": "2c943cf3-1cd7-4402-aeb8-6e8edbf993d5",
   "metadata": {},
   "source": [
    "### Ordenar\n",
    "\n",
    "Un DataFrame s'ordena per una (o vàries) columnes amb `sort_values`. Per defecte l'ordre és ascendent, però el podem girar amb `ascending=False`"
   ]
  },
  {
   "cell_type": "code",
   "execution_count": null,
   "id": "9c274102-69ae-4a80-90a3-f186c13be540",
   "metadata": {},
   "outputs": [],
   "source": [
    "df.sort_values(by=\"rides\")"
   ]
  },
  {
   "cell_type": "code",
   "execution_count": null,
   "id": "20ea991b-ed36-40aa-8330-53f12f61ee9a",
   "metadata": {},
   "outputs": [],
   "source": [
    "df.sort_values(by=\"rides\", ascending=False)"
   ]
  },
  {
   "cell_type": "code",
   "execution_count": null,
   "id": "e88a3350-17e0-4611-be39-14af43a4a10b",
   "metadata": {},
   "outputs": [],
   "source": [
    "df.sort_values(by=[\"rides\", \"daytype\"])"
   ]
  },
  {
   "cell_type": "code",
   "execution_count": null,
   "id": "5fa24619-6d93-444b-a98c-300f9a4af504",
   "metadata": {},
   "outputs": [],
   "source": [
    "df.sort_values(by=[\"rides\", \"daytype\"], ascending=False)"
   ]
  },
  {
   "cell_type": "code",
   "execution_count": null,
   "id": "f3e8b534-171d-48ad-ad42-fb4731053e3a",
   "metadata": {},
   "outputs": [],
   "source": [
    "# es pot ordenar per vàries columnes amb diferent ordre\n",
    "df.sort_values(by=[\"rides\", \"daytype\"], ascending=[True, False])"
   ]
  },
  {
   "cell_type": "markdown",
   "id": "f7a9c6ae-9182-4907-aceb-90d87f446f73",
   "metadata": {},
   "source": [
    "Les `Series` s'ordenen igual, però no cal passar cap argument, ja que no tenen columnes"
   ]
  },
  {
   "cell_type": "code",
   "execution_count": null,
   "id": "b42571e6-f8ee-4c4d-8a29-665258ac678e",
   "metadata": {},
   "outputs": [],
   "source": [
    "df.route.sort_values()"
   ]
  },
  {
   "cell_type": "markdown",
   "id": "04424768-3edd-4468-9249-1d109fb94702",
   "metadata": {},
   "source": [
    "### Agrupar\n",
    "\n",
    "`groupby` agrupa per columnes. Si el fem servir sol només retorna un objecte de pandas, però sense cap informació.\n",
    "Cal aplicar-hi una operació per tenir algun resultat. Les operacions típiques que ens poden interessar són: \n",
    "\n",
    "`count()`, `sum()`, `mean()`, `median()` i `std()`.\n",
    "\n",
    "Si no volem aplicar aquesta operació a totes les columnes haurem de seleccionar les que volem **abans** de l'operació, per ser més eficients."
   ]
  },
  {
   "cell_type": "code",
   "execution_count": null,
   "id": "e9cbbed6-6381-4c2e-8fbf-d372e0d86a0a",
   "metadata": {},
   "outputs": [],
   "source": [
    "df.groupby(\"route\")[\"rides\"].median()"
   ]
  },
  {
   "cell_type": "markdown",
   "id": "08d01c9a-082c-49e6-9b33-bfac42976032",
   "metadata": {},
   "source": [
    "Si volem vàries operacions alhora hem de fer servir `.agg()`"
   ]
  },
  {
   "cell_type": "code",
   "execution_count": null,
   "id": "ca71766f-9d50-409d-9fcc-264be68c5d46",
   "metadata": {},
   "outputs": [],
   "source": [
    "df.groupby(\"route\")[\"rides\"].agg([\"count\", \"mean\", \"std\"])"
   ]
  },
  {
   "cell_type": "markdown",
   "id": "be21438a-8a6b-4353-814d-f809ad54a244",
   "metadata": {},
   "source": [
    "## Exercici 1"
   ]
  },
  {
   "cell_type": "markdown",
   "id": "3472483f-96c1-413e-bdd8-bfa68f980adb",
   "metadata": {},
   "source": [
    "1. Canvia el nom de les dues últimes columnes perquè no tinguin espais\n",
    "2. Crea una columna \"ratio\" que sigui el temps del segons experiment dividit pel temps del primer.\n",
    "3. Esborra la columna timestamp\n",
    "4. Ordena el df per gènere i edat (en aquest ordre), el dos en ordre ascendent.\n",
    "5. Agrupa per gènere i mostra la mitja i la desviació estàndard dels dos temps i del ràtio."
   ]
  },
  {
   "cell_type": "code",
   "execution_count": null,
   "id": "bd601337-9c05-4c64-90f9-afb21928fdb0",
   "metadata": {},
   "outputs": [],
   "source": [
    "df = pd.read_csv(\"data/efecte_stroop.csv\")\n",
    "df.head()"
   ]
  },
  {
   "cell_type": "markdown",
   "id": "203ee279-9514-4038-8384-d9be665c3b44",
   "metadata": {},
   "source": [
    "### Solució"
   ]
  },
  {
   "cell_type": "code",
   "execution_count": null,
   "id": "770f82b2-6fd6-4e04-b848-cdd39971dc2a",
   "metadata": {},
   "outputs": [],
   "source": [
    "df = (\n",
    "    pd.read_csv(\"data/efecte_stroop.csv\")\n",
    "    .rename(columns={\"Temps experiment 1\": \"experiment_1\", \"Temps experiment 2\": \"experiment_2\"})\n",
    "    .drop(\"Timestamp\", axis=1)\n",
    "    .sort_values(by=[\"Gènere\", \"Edat\"])\n",
    ")\n",
    "\n",
    "df[\"ratio\"] = df[\"experiment_2\"] / df[\"experiment_1\"]\n",
    "df"
   ]
  },
  {
   "cell_type": "code",
   "execution_count": null,
   "id": "06c78b22-f5f5-4e9e-9e6d-ba307d5a3d63",
   "metadata": {},
   "outputs": [],
   "source": [
    "df.groupby(\"Gènere\")[[\"experiment_1\", \"experiment_2\", \"ratio\"]].agg([\"mean\", \"std\"])"
   ]
  },
  {
   "cell_type": "markdown",
   "id": "5d294ef8-b07a-4db2-9801-0983aaf582a9",
   "metadata": {},
   "source": [
    "## Llegir i escriure fitxers"
   ]
  },
  {
   "cell_type": "markdown",
   "id": "ef94ea88-7b68-49a5-bd92-298edd9aacc2",
   "metadata": {},
   "source": [
    "Podem llegir dades d'un CSV, Excel, SQL, JSON ...\n",
    "\n",
    "Les funcions són bastant similars: `pd.read_csv`, `pd.read_excel`...\n",
    "\n",
    "Segons el format que vulguem llegir i el nostre sistema operatiu és possible que calgui instalar algun altre paquet."
   ]
  },
  {
   "cell_type": "markdown",
   "id": "29a97f65-6922-44d9-931b-41680ef1db72",
   "metadata": {},
   "source": [
    "Ens centrarem en fitxers `csv`.\n",
    "Tot i que el nom ve de \"comma separated values\", el separador pot ser diferent d'una coma. Canviant l'argument `sep` es poden llegir fitxers amb diferents separadors, com tabuladors \"\\t\" (sovint amb fitxers '.tsv')."
   ]
  },
  {
   "cell_type": "code",
   "execution_count": null,
   "id": "ae30a88a-9b54-4374-b459-31f007738f8a",
   "metadata": {},
   "outputs": [],
   "source": [
    "# Hi ha moltes opcions\n",
    "pd.read_csv?"
   ]
  },
  {
   "cell_type": "markdown",
   "id": "f407fc06-4d42-4f0e-bbec-79237051c559",
   "metadata": {},
   "source": [
    "Per escriure fitxer, igualment hi ha una funció per cada tipus de dades: `pd.to_csv`, `pd.to_excel`, `to.to_latex`..."
   ]
  },
  {
   "cell_type": "markdown",
   "id": "c919f7cb-3d52-46e3-a490-65e8aa617f08",
   "metadata": {},
   "source": [
    "## Crear un `DataFrame` \n",
    "\n",
    "També podem crear un `DataFrame`a partir d'un diccionari, llista, ser, array ..."
   ]
  },
  {
   "cell_type": "markdown",
   "id": "c7e14ee6-8dcf-46ea-ac9f-2c4af8c953bf",
   "metadata": {},
   "source": [
    "### `DataFrame` des d'un diccionari"
   ]
  },
  {
   "cell_type": "markdown",
   "id": "d03df076-a1f9-4d01-991f-49f8ac68e0b8",
   "metadata": {},
   "source": [
    "#### Cada clau és una columna"
   ]
  },
  {
   "cell_type": "code",
   "execution_count": null,
   "id": "d12dcd1b-d197-4048-b496-da7907584927",
   "metadata": {},
   "outputs": [],
   "source": [
    "dict_estudiants = {\"nom\": [\"Maria\", \"Berta\", \"Edu\", \"Arnau\"], \"edat\": [20, 21, 19, 23], \"nota\": [8.5, 7.7, 9.4, 5.9]}\n",
    "df_estudiants = pd.DataFrame(dict_estudiants)\n",
    "df_estudiants"
   ]
  },
  {
   "cell_type": "code",
   "execution_count": null,
   "id": "c4937c16-b119-4f03-821c-26d61a811c54",
   "metadata": {},
   "outputs": [],
   "source": [
    "df = pd.DataFrame({\"X\": [78, 85, 96, 80, 86], \"Y\": [84, 94, 89, 83, 86], \"Z\": [86, 97, 96, 72, 83]})\n",
    "df"
   ]
  },
  {
   "cell_type": "markdown",
   "id": "b0d063ff-7b29-4c02-b107-270eab8d0f19",
   "metadata": {},
   "source": [
    "Si ens volem quedar només amb unes quantes columnes, les podem seleccionar amb `columns=['col1', 'col2']`"
   ]
  },
  {
   "cell_type": "code",
   "execution_count": null,
   "id": "6d18d17c-80ad-4ae8-adda-42491dc11282",
   "metadata": {},
   "outputs": [],
   "source": [
    "df_estudiants = pd.DataFrame(dict_estudiants, columns=[\"nom\", \"nota\"])\n",
    "df_estudiants"
   ]
  },
  {
   "cell_type": "markdown",
   "id": "8d09786e-9828-41b7-b48b-acf9954c417b",
   "metadata": {},
   "source": [
    "Per defecte, es crea una primera columna, _l'índex_, amb nombres naturals"
   ]
  },
  {
   "cell_type": "code",
   "execution_count": null,
   "id": "ae01858a-6073-477e-8c8f-292004c619b8",
   "metadata": {},
   "outputs": [],
   "source": [
    "df_estudiants.index"
   ]
  },
  {
   "cell_type": "markdown",
   "id": "01f70274-db6c-47a2-a3df-d723b1264dd3",
   "metadata": {},
   "source": [
    "El podem modificar quan creem el `DataFrame` amb `index=['index1','index2']`"
   ]
  },
  {
   "cell_type": "code",
   "execution_count": null,
   "id": "9c291f28-c3f3-44a8-b35e-d408b0d77bd0",
   "metadata": {},
   "outputs": [],
   "source": [
    "df_estudiants = pd.DataFrame(dict_estudiants, index=[\"est1\", \"est2\", \"est3\", \"est4\"])\n",
    "df_estudiants"
   ]
  },
  {
   "cell_type": "code",
   "execution_count": null,
   "id": "26694356-1856-494a-911d-f5ba753b80fb",
   "metadata": {},
   "outputs": [],
   "source": [
    "df_estudiants.index"
   ]
  },
  {
   "cell_type": "markdown",
   "id": "6831be89-d839-4df7-92c2-e9d3f1f391f2",
   "metadata": {},
   "source": [
    "#### Cada clau és una fila"
   ]
  },
  {
   "cell_type": "code",
   "execution_count": null,
   "id": "7df21412-ff0e-450e-aa2d-6a433faa9acd",
   "metadata": {},
   "outputs": [],
   "source": [
    "dict_estudiants = {\n",
    "    \"Maria\": 8.5,\n",
    "    \"Berta\": 7.7,\n",
    "    \"Edu\": 9.4,\n",
    "    \"Arnau\": 5.9,\n",
    "}\n",
    "df_estudiants = pd.DataFrame(dict_estudiants.items())\n",
    "df_estudiants"
   ]
  },
  {
   "cell_type": "markdown",
   "id": "92b7dc8a-ef0f-490f-ba12-b9db14999425",
   "metadata": {},
   "source": [
    "Ara Pandas no sap quin nom posar a les columnes, així que hi ha posat números. Posa-hi noms"
   ]
  },
  {
   "cell_type": "code",
   "execution_count": null,
   "id": "b7ba42f6-081e-4b50-ab83-1970afe09320",
   "metadata": {},
   "outputs": [],
   "source": [
    "student_dict = {\"Grade A\": [\"Joe\", \"Harry\"], \"Grade B\": [\"Nat\"]}\n",
    "print(student_dict)\n",
    "\n",
    "student_df = pd.DataFrame.from_dict(student_dict, \"index\").stack().reset_index(level=0)\n",
    "student_df"
   ]
  },
  {
   "cell_type": "markdown",
   "id": "ec26f5bf-07c8-4c3a-bf4e-d684692cadde",
   "metadata": {},
   "source": [
    "### `DataFrame` des d'una llista"
   ]
  },
  {
   "cell_type": "code",
   "execution_count": null,
   "id": "a4cb09cd-e98b-457a-9401-f0ae318d715a",
   "metadata": {},
   "outputs": [],
   "source": [
    "llista_fruites = [\"Poma\", \"Mango\", \"Meló\", \"Cireres\"]\n",
    "df_fruites = pd.DataFrame(llista_fruites, columns=[\"Fruites\"])\n",
    "df_fruites"
   ]
  },
  {
   "cell_type": "code",
   "execution_count": null,
   "id": "fe66e0b0",
   "metadata": {},
   "outputs": [],
   "source": [
    "llista_fruites = [[\"Poma\", 1], [\"Mango\", 1.5], [\"Meló\", 1.2], [\"Cireres\", 2.3]]\n",
    "df_fruites = pd.DataFrame(llista_fruites, columns=[\"Fruites\", \"Preu\"])\n",
    "df_fruites"
   ]
  },
  {
   "cell_type": "markdown",
   "id": "d929a3cd-c677-4c0d-a0b3-ca65fb91c612",
   "metadata": {},
   "source": [
    "En realitat, quan hem creat un `DataFrame` a partir dels items d'un diccionari, l'estructurura era la mateixa "
   ]
  },
  {
   "cell_type": "code",
   "execution_count": null,
   "id": "e1e0adb7-d9ca-4ab5-8eb1-4fd866e127cf",
   "metadata": {},
   "outputs": [],
   "source": [
    "dict_estudiants.items()"
   ]
  },
  {
   "cell_type": "markdown",
   "id": "50c358e7-7c2b-4ced-b9f7-0d0537f82b90",
   "metadata": {},
   "source": [
    "Si partim de dues o més llistes, les podem posar amb el format adequat amb zip"
   ]
  },
  {
   "cell_type": "code",
   "execution_count": null,
   "id": "ef39cf11-ccbd-420a-b4e9-892bfcad425f",
   "metadata": {},
   "outputs": [],
   "source": [
    "llista_fruites = [\"Poma\", \"Mango\", \"Meló\", \"Cireres\"]\n",
    "llista_preus = [1, 1.5, 1.2, 2.3]\n",
    "df_fruites = pd.DataFrame(list(zip(llista_fruites, llista_preus)), columns=[\"Fruites\", \"Preu\"])\n",
    "df_fruites"
   ]
  },
  {
   "cell_type": "markdown",
   "id": "ed66c31f-0cc1-481a-ab0c-5d19d2391fea",
   "metadata": {},
   "source": [
    "## Concatenar operacions"
   ]
  },
  {
   "cell_type": "markdown",
   "id": "7ef90cc9-c89d-485c-84e1-be14c50b4b7a",
   "metadata": {},
   "source": [
    "Pandas permet fer línies molt llargues concatenant operacions, en comptes de reassignar el resultat cada vegada.\n",
    "\n",
    "Perquè sigui més llegible se sol posar cada operació en una nova línia dins de parèntesis ()"
   ]
  },
  {
   "cell_type": "code",
   "execution_count": null,
   "id": "a4f3b2a4-04a1-474d-a8f2-ced87e69d8a0",
   "metadata": {},
   "outputs": [],
   "source": [
    "df = pd.read_csv(\"data/ctabus.csv\")\n",
    "df = df.rename(columns={\"route\": \"ruta\", \"date\": \"data\", \"daytype\": \"tipus de dia\", \"rides\": \"viatgers\"})\n",
    "df = df.drop(\"tipus de dia\", axis=1)\n",
    "df.head()"
   ]
  },
  {
   "cell_type": "code",
   "execution_count": null,
   "id": "072c8b79-cbd5-48ac-8926-59fb3cc51961",
   "metadata": {},
   "outputs": [],
   "source": [
    "df = (\n",
    "    pd.read_csv(\"data/ctabus.csv\")\n",
    "    .rename(columns={\"route\": \"ruta\", \"date\": \"data\", \"daytype\": \"tipus de dia\", \"rides\": \"viatgers\"})\n",
    "    .drop(\"tipus de dia\", axis=1)\n",
    ")\n",
    "df.head()"
   ]
  },
  {
   "cell_type": "markdown",
   "id": "4776106c-02b1-4fd3-a0c8-752bfef66aae",
   "metadata": {},
   "source": [
    "## Exercici 2"
   ]
  },
  {
   "cell_type": "code",
   "execution_count": null,
   "id": "4352f641-6dc8-42c5-b52c-175ad5fa37a7",
   "metadata": {},
   "outputs": [],
   "source": [
    "df = pd.read_csv(\"data/ctabus.csv\")"
   ]
  },
  {
   "cell_type": "markdown",
   "id": "ede0e693-87ad-4cd8-b8c3-0d0f12b52806",
   "metadata": {},
   "source": [
    "Refés les següent preguntes de l'exercici final del primer notebook, ara amb Pandas:\n",
    "\n",
    "1. Quants dies hi ha de cada tipus?\n",
    "2. Quants viatgers totals hi ha a les dades per cada línia?\n",
    "3. Quines són les 5 línies amb més viatgers totals?"
   ]
  },
  {
   "cell_type": "markdown",
   "id": "6a9d4c58-18d4-4ef3-a0c2-fd3c20cdbf79",
   "metadata": {},
   "source": [
    "4. Quantes persones van anar a l'autobús número 22 el 2 de febrer de 2011? Fes una funció per qualsevol altre dia i ruta.\n",
    "5. *Quines 5 línies han incrementat més el seu volum de viatgers entre el 2001 i el 2011?"
   ]
  },
  {
   "cell_type": "markdown",
   "id": "59a7ac3e-39da-4818-a585-1d11e86a93f4",
   "metadata": {},
   "source": [
    "### Solució"
   ]
  },
  {
   "cell_type": "code",
   "execution_count": null,
   "id": "3b1ed8d2-ca74-4056-9397-30da3658eab7",
   "metadata": {},
   "outputs": [],
   "source": [
    "# 1. Nombre de dies de cada tipus\n",
    "df.daytype.value_counts()"
   ]
  },
  {
   "cell_type": "code",
   "execution_count": null,
   "id": "a564b15b-dd8a-4429-8fb5-cbcf3735142e",
   "metadata": {},
   "outputs": [],
   "source": [
    "# 2.\n",
    "viatges_totals = df.groupby(\"route\")[\"rides\"].sum()\n",
    "viatges_totals"
   ]
  },
  {
   "cell_type": "code",
   "execution_count": null,
   "id": "c57ea105-3a7c-439d-9120-32378f067244",
   "metadata": {},
   "outputs": [],
   "source": [
    "# 3. Línies amb més viatges\n",
    "viatges_totals.sort_values()[-5:]"
   ]
  },
  {
   "cell_type": "code",
   "execution_count": null,
   "id": "44e06eb1-52ea-414a-a5fb-0bb2ad224780",
   "metadata": {},
   "outputs": [],
   "source": [
    "# 4. Línia i dia concrets\n",
    "df[(df.route == \"22\") & (df.date == \"02/02/2011\")].rides"
   ]
  },
  {
   "cell_type": "markdown",
   "id": "636c7f71-6a12-45d3-9b4f-3e9ad453dd8b",
   "metadata": {},
   "source": [
    "L'última pregunta és una mica difícil.\n",
    "\n",
    "Si intentem fer el mateix que amb un Counter, al restar surten NaNs, ja que hi ha algunes línies que només estan a un dels dos anys.\n",
    "\n",
    "Aquest és el cas de la línia \"15\", que hauria de ser la primera, però no ens surt"
   ]
  },
  {
   "cell_type": "code",
   "execution_count": null,
   "id": "cb1a3ada-511d-4f50-9ead-676d35f8f8f7",
   "metadata": {},
   "outputs": [],
   "source": [
    "viatges_2001 = df[df.date.str.contains(\"2001\")].groupby(\"route\")[\"rides\"].sum()\n",
    "viatges_2011 = df[df.date.str.contains(\"2011\")].groupby(\"route\")[\"rides\"].sum()\n",
    "\n",
    "diff = viatges_2011 - viatges_2001\n",
    "diff.sort_values(ascending=False)"
   ]
  },
  {
   "cell_type": "markdown",
   "id": "41a1ebbc-b048-4376-aa79-dbf194c7e3bc",
   "metadata": {},
   "source": [
    "El que hem de fer és crear un segon DataFrame amb el nombre de viatgers per any com a columes.\n",
    "Hi ha vàries maneres de fer-ho. Una és amb `pd.concat`.\n",
    "\n",
    "Un cop ho tenim junt hi seguirà havent NaNs, però ara els podem convertir a 0 i després fer la resta"
   ]
  },
  {
   "cell_type": "code",
   "execution_count": null,
   "id": "a268d30f-285f-4900-8bc5-be2ee6a6af98",
   "metadata": {},
   "outputs": [],
   "source": [
    "df_anys = pd.concat((viatges_2001, viatges_2011), axis=1, keys=[\"2001\", \"2011\"])\n",
    "df_anys[df_anys.isna()] = 0\n",
    "df_anys[\"diff\"] = df_anys[\"2011\"] - df_anys[\"2001\"]\n",
    "df_anys.sort_values(by=\"diff\")"
   ]
  }
 ],
 "metadata": {
  "kernelspec": {
   "display_name": "Python 3 (ipykernel)",
   "language": "python",
   "name": "python3"
  },
  "language_info": {
   "codemirror_mode": {
    "name": "ipython",
    "version": 3
   },
   "file_extension": ".py",
   "mimetype": "text/x-python",
   "name": "python",
   "nbconvert_exporter": "python",
   "pygments_lexer": "ipython3"
  }
 },
 "nbformat": 4,
 "nbformat_minor": 5
}
