{
 "cells": [
  {
   "cell_type": "markdown",
   "id": "a61a38a6-1066-49b5-bcfa-9a0889da639c",
   "metadata": {},
   "source": [
    "# Jupyter lab\n",
    "\n",
    "Què permet fer:\n",
    "- Executar codi a la terminal amb !\n",
    "- Veure argument de funcions amb Shift+Tab\n",
    "- Docstings amb ? i codi amb ??\n",
    "- Moure i copiar cel·les amb el ratolí\n",
    "- Amagar les cel·les i els header de markdown\n",
    "- Es crea un índex amb els headers de markdown\n",
    "\n",
    "Contres:\n",
    "- És fàcil perdre's\n",
    "- Tendència a errors de context per executar cel·les en ordre diferent"
   ]
  },
  {
   "cell_type": "markdown",
   "id": "d70e4ce5-f4de-405b-b05f-295063532e8e",
   "metadata": {},
   "source": [
    "## Màgia\n",
    "\n",
    "iPython té funcions 'màgiques'.\n",
    "\n",
    "Farem servir %%time i %%timeit per veure els temps d'execució d'una cel·la.\n",
    "\n",
    "%time i %timeit fan el mateix per una sola línia."
   ]
  },
  {
   "cell_type": "code",
   "execution_count": null,
   "id": "99fcd9be-b05b-43d0-b02d-ef971ad5a7f9",
   "metadata": {},
   "outputs": [],
   "source": [
    "%%time\n",
    "1 + 1"
   ]
  },
  {
   "cell_type": "code",
   "execution_count": null,
   "id": "8254e0a5-9794-4abf-bb7e-bd3e4bc10060",
   "metadata": {},
   "outputs": [],
   "source": [
    "%%timeit\n",
    "1 + 1"
   ]
  }
 ],
 "metadata": {
  "kernelspec": {
   "display_name": "Python 3 (ipykernel)",
   "language": "python",
   "name": "python3"
  },
  "language_info": {
   "codemirror_mode": {
    "name": "ipython",
    "version": 3
   },
   "file_extension": ".py",
   "mimetype": "text/x-python",
   "name": "python",
   "nbconvert_exporter": "python",
   "pygments_lexer": "ipython3"
  }
 },
 "nbformat": 4,
 "nbformat_minor": 5
}
