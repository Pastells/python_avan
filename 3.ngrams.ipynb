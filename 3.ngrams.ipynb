{
 "cells": [
  {
   "cell_type": "markdown",
   "id": "2614b68e",
   "metadata": {},
   "source": [
    "# Models del llenguatge amb n-grames "
   ]
  },
  {
   "cell_type": "markdown",
   "id": "46cb2418",
   "metadata": {},
   "source": [
    "## Imports"
   ]
  },
  {
   "cell_type": "code",
   "execution_count": null,
   "id": "98b3873b",
   "metadata": {},
   "outputs": [],
   "source": [
    "import matplotlib.pyplot as plt\n",
    "import numpy as np\n",
    "import pandas as pd\n",
    "\n",
    "plt.rcParams[\"figure.dpi\"] = 100\n",
    "%matplotlib inline\n",
    "%config InlineBackend.figure_format='retina'"
   ]
  },
  {
   "cell_type": "code",
   "execution_count": null,
   "id": "97d6480a",
   "metadata": {},
   "outputs": [],
   "source": [
    "df = pd.read_csv(\"data/noms_net.csv\", keep_default_na=False)\n",
    "df[\"nom#\"] = \"#\" + df[\"Nom\"] + \"#\"\n",
    "noms = df[\"nom#\"].tolist()\n",
    "noms[:5]"
   ]
  },
  {
   "cell_type": "code",
   "execution_count": null,
   "id": "548655a1",
   "metadata": {},
   "outputs": [],
   "source": [
    "df[df.Nom.str.contains(\"'\")]"
   ]
  },
  {
   "cell_type": "markdown",
   "id": "33d3eb80",
   "metadata": {},
   "source": [
    "Treballarem a nivell de caràcters, farem servir `#` per marcar inici i fi dels noms.\n",
    "\n",
    "Creem una llista amb els caràcters possibles i diccionaris per passar de caràcter a enter i al revés"
   ]
  },
  {
   "cell_type": "code",
   "execution_count": null,
   "id": "993f3bba",
   "metadata": {},
   "outputs": [],
   "source": [
    "chars = [\"#\"] + sorted(list(set(\"\".join(df.Nom))))\n",
    "nchar = len(chars)\n",
    "c2i = {c: i for i, c in enumerate(chars)}\n",
    "i2c = {i: c for i, c in enumerate(chars)}\n",
    "c2i"
   ]
  },
  {
   "cell_type": "markdown",
   "id": "6645117c",
   "metadata": {},
   "source": [
    "## Llei de Zipf"
   ]
  },
  {
   "cell_type": "code",
   "execution_count": null,
   "id": "570b4fd9",
   "metadata": {},
   "outputs": [],
   "source": [
    "N1 = np.zeros(nchar, dtype=np.int32)\n",
    "for nom in noms:\n",
    "    for (ch,) in nom:\n",
    "        N1[c2i[ch]] += 1\n",
    "\n",
    "P1 = N1 / N1.sum()\n",
    "sorted_indices = np.argsort(P1)[::-1]\n",
    "\n",
    "P1 = P1[sorted_indices]\n",
    "chars_sorted = [chars[i] for i in sorted_indices]\n",
    "\n",
    "plt.scatter(chars_sorted, np.log(P1))"
   ]
  },
  {
   "cell_type": "code",
   "execution_count": null,
   "id": "bf196bb1",
   "metadata": {},
   "outputs": [],
   "source": [
    "from sklearn.linear_model import LinearRegression\n",
    "\n",
    "X = np.arange(nchar).reshape(-1, 1)\n",
    "y = np.log(P1)\n",
    "reg = LinearRegression().fit(X, y)\n",
    "reg2 = LinearRegression().fit(X[:-4], y[:-4])"
   ]
  },
  {
   "cell_type": "code",
   "execution_count": null,
   "id": "79bd0560",
   "metadata": {},
   "outputs": [],
   "source": [
    "plt.scatter(X, y)\n",
    "plt.plot(X, reg.predict(X), color=\"grey\")\n",
    "plt.plot(X, reg2.predict(X), color=\"k\")"
   ]
  },
  {
   "cell_type": "markdown",
   "id": "682160b4",
   "metadata": {},
   "source": [
    "D'aquí uns dies veurem com fer regressions fàcilment amb seaborn"
   ]
  },
  {
   "cell_type": "markdown",
   "id": "bed41103",
   "metadata": {},
   "source": [
    "## Model amb recompte de bigrames"
   ]
  },
  {
   "cell_type": "markdown",
   "id": "bb097c3b",
   "metadata": {},
   "source": [
    "Podem fer servir zip per crear una llista de bigrames"
   ]
  },
  {
   "cell_type": "code",
   "execution_count": null,
   "id": "14dd440c",
   "metadata": {},
   "outputs": [],
   "source": [
    "noms[0], list(zip(noms[0], noms[0][1:]))"
   ]
  },
  {
   "cell_type": "markdown",
   "id": "2f39a7d3",
   "metadata": {},
   "source": [
    "Agafant la llista de noms, fem una matriu amb totes les possiblitats de dos caràcters, per ara plena de zeros.\n",
    "\n",
    "Com que volem fer comptar el nombre d'aparicions de cada bigrama farem servir enters (per defecte np.zeros fa servir reals). Podríem fer `dtype=int` o `dtype=np.int64`, que és el mateix, però com que no ens calen nombres enormes, farem servir `dtype=int32`, que ocupa menys espai en memòria.\n",
    "\n",
    "Podeu veure els nombres mínim i màxim que pot representar un tipus de dades de numpy amb `np.iinfo` per enters o `np.finfo` per floats."
   ]
  },
  {
   "cell_type": "code",
   "execution_count": null,
   "id": "5965b508",
   "metadata": {},
   "outputs": [],
   "source": [
    "N = np.zeros((nchar, nchar), dtype=np.int32)\n",
    "np.iinfo(np.int32)"
   ]
  },
  {
   "cell_type": "markdown",
   "id": "668fdf42",
   "metadata": {},
   "source": [
    "Emplenem la matriu amb el nombre de vegades que apareix cada combinació i ho visualitzem"
   ]
  },
  {
   "cell_type": "code",
   "execution_count": null,
   "id": "83fae6a1",
   "metadata": {},
   "outputs": [],
   "source": [
    "for nom in noms:\n",
    "    for ch1, ch2 in zip(nom, nom[1:]):\n",
    "        ix1 = c2i[ch1]\n",
    "        ix2 = c2i[ch2]\n",
    "        N[ix1, ix2] += 1"
   ]
  },
  {
   "cell_type": "code",
   "execution_count": null,
   "id": "b08a4353",
   "metadata": {},
   "outputs": [],
   "source": [
    "plt.figure(figsize=(18, 18))\n",
    "plt.imshow(N, cmap=\"Blues\")\n",
    "for i in range(len(i2c)):\n",
    "    for j in range(len(i2c)):\n",
    "        chstr = i2c[i] + i2c[j]\n",
    "        plt.text(j, i, chstr, ha=\"center\", va=\"bottom\")\n",
    "        plt.text(j, i, N[i, j].item(), ha=\"center\", va=\"top\")"
   ]
  },
  {
   "cell_type": "markdown",
   "id": "98868c3d",
   "metadata": {},
   "source": [
    "Anem a generar nous noms a partir d'aquestes freqüències.\n",
    "\n",
    "Per cada nom que generem, comencem amb '#' i mirem quina probabilitat hi ha per la següent caràcter, fins que ens surti un altre '#' final.\n",
    "\n",
    "N[0] (fila 0 de la matriu N, com podem veure a la figura superior) ens diu el recompte dels caràcters que segueixen '#'. Per exemple veiem que no va mai seguit d'un altre '#', espai o apòstrof."
   ]
  },
  {
   "cell_type": "code",
   "execution_count": null,
   "id": "d23f5ee9",
   "metadata": {},
   "outputs": [],
   "source": [
    "N[0]"
   ]
  },
  {
   "cell_type": "markdown",
   "id": "8560b82e",
   "metadata": {},
   "source": [
    "Si ens interessa, podem fer un gràfic de quins caràcters solen seguir quins altres, o predecedir-los (canvieu `N[i]` per `N[:, i]`)"
   ]
  },
  {
   "cell_type": "code",
   "execution_count": null,
   "id": "280556db",
   "metadata": {},
   "outputs": [],
   "source": [
    "c = \"#\"\n",
    "i = c2i[c]\n",
    "plt.bar(np.arange(nchar), N[i])\n",
    "plt.title(f\"{i2c[i]} va seguit de...\")\n",
    "for i, value in enumerate(N[i]):\n",
    "    plt.text(i, value, i2c[i], ha=\"center\", va=\"bottom\")"
   ]
  },
  {
   "cell_type": "markdown",
   "id": "7d3375d4",
   "metadata": {},
   "source": [
    "El que volem és **normalitzar** aquest recompte per obtenir freqüències, que interpretarem com a probabilitats"
   ]
  },
  {
   "cell_type": "code",
   "execution_count": null,
   "id": "9ad1febd",
   "metadata": {},
   "outputs": [],
   "source": [
    "N[0] / N[0].sum()"
   ]
  },
  {
   "cell_type": "markdown",
   "id": "6a94fb86",
   "metadata": {},
   "source": [
    "Com que haurem de fer aquesta operació per totes les possibles combinacions creem una nova matriu P amb les files normalitzades"
   ]
  },
  {
   "cell_type": "code",
   "execution_count": null,
   "id": "39c50372",
   "metadata": {},
   "outputs": [],
   "source": [
    "N.sum(axis=1, keepdims=True).shape  # vector columna"
   ]
  },
  {
   "cell_type": "code",
   "execution_count": null,
   "id": "9c27a4c2",
   "metadata": {},
   "outputs": [],
   "source": [
    "P = N / N.sum(axis=1, keepdims=True)  # normalitzem"
   ]
  },
  {
   "cell_type": "markdown",
   "id": "d2cff5ef",
   "metadata": {},
   "source": [
    "Comprovem que la fila és la mateixa"
   ]
  },
  {
   "cell_type": "code",
   "execution_count": null,
   "id": "998376e4",
   "metadata": {},
   "outputs": [],
   "source": [
    "P[0]"
   ]
  },
  {
   "cell_type": "code",
   "execution_count": null,
   "id": "3253a2c3",
   "metadata": {},
   "outputs": [],
   "source": [
    "# P = np.ones((nchar, nchar)) / nchar  # comparació amb model aleatori"
   ]
  },
  {
   "cell_type": "code",
   "execution_count": null,
   "id": "b1d5df10",
   "metadata": {},
   "outputs": [],
   "source": [
    "for i in range(10):\n",
    "    ix = 0\n",
    "    nom = \"\"\n",
    "    while True:\n",
    "        ix = np.argmax(np.random.multinomial(1, P[ix]))\n",
    "        if ix == 0:\n",
    "            break\n",
    "        nom += i2c[ix]\n",
    "    print(nom)"
   ]
  },
  {
   "cell_type": "markdown",
   "id": "dc9b1df4",
   "metadata": {},
   "source": [
    "Són molt dolents!\n",
    "\n",
    "Es veu que fer servir bigrames no ens dona resultats massa bons.\n",
    "\n",
    "Ara bé, si ho comparem amb una distribució totalment aleatòria, donant el mateix pes a totes les combinacions la cosa és horrible, així que estem fent algo bé.\n",
    "Comprova-ho descomentant la cel·la de dalt amb `np.ones` i refent la generació"
   ]
  },
  {
   "cell_type": "markdown",
   "id": "db0db6b0",
   "metadata": {},
   "source": [
    "## Ho podem fer millor?"
   ]
  },
  {
   "cell_type": "markdown",
   "id": "caa1fdd8",
   "metadata": {},
   "source": [
    "Per ara hem considerat tots els noms de la mateixa manera. Podem incorporar la freqüència que apareix a les dades originals per fer que els bigrames més comuns apareguin més."
   ]
  },
  {
   "cell_type": "code",
   "execution_count": null,
   "id": "3ef005c9",
   "metadata": {},
   "outputs": [],
   "source": [
    "freqs = df.freq.to_numpy()\n",
    "freqs"
   ]
  },
  {
   "cell_type": "code",
   "execution_count": null,
   "id": "ee60afcd",
   "metadata": {},
   "outputs": [],
   "source": [
    "N2 = np.zeros((nchar, nchar), dtype=np.int32)\n",
    "for i, nom in enumerate(noms):\n",
    "    for ch1, ch2 in zip(nom, nom[1:]):\n",
    "        ix1 = c2i[ch1]\n",
    "        ix2 = c2i[ch2]\n",
    "        N2[ix1, ix2] += freqs[i]"
   ]
  },
  {
   "cell_type": "code",
   "execution_count": null,
   "id": "975b2aee",
   "metadata": {},
   "outputs": [],
   "source": [
    "P2 = N2 / N2.sum(axis=1, keepdims=True)"
   ]
  },
  {
   "cell_type": "code",
   "execution_count": null,
   "id": "7408fb3b",
   "metadata": {},
   "outputs": [],
   "source": [
    "for i in range(10):\n",
    "    ix = 0\n",
    "    nom = \"\"\n",
    "    while True:\n",
    "        ix = np.argmax(np.random.multinomial(1, P[ix]))\n",
    "        if ix == 0:\n",
    "            break\n",
    "        nom += i2c[ix]\n",
    "    print(nom)"
   ]
  },
  {
   "cell_type": "markdown",
   "id": "6b8192bb",
   "metadata": {},
   "source": [
    "Potser són una mica millors, però molts segueixen siguent dolents. Considerar només dos caràcters és molt limitant"
   ]
  },
  {
   "cell_type": "markdown",
   "id": "f395dca2",
   "metadata": {},
   "source": [
    "## Trigrames"
   ]
  },
  {
   "cell_type": "markdown",
   "id": "40f289f0",
   "metadata": {},
   "source": [
    "Fins ara hem fet els bigrames amb un simple zip de python.\n",
    "\n",
    "Ara passem a fer servir la funció `ngrams` de `nltk` per no complicar-nos la vida"
   ]
  },
  {
   "cell_type": "code",
   "execution_count": null,
   "id": "377bd894",
   "metadata": {},
   "outputs": [],
   "source": [
    "from nltk import ngrams"
   ]
  },
  {
   "cell_type": "code",
   "execution_count": null,
   "id": "244376ac",
   "metadata": {},
   "outputs": [],
   "source": [
    "N3 = np.zeros((nchar, nchar, nchar), dtype=np.int32)\n",
    "for i, nom in enumerate(noms):\n",
    "    for ch1, ch2, ch3 in ngrams(nom, 3):\n",
    "        N3[c2i[ch1], c2i[ch2], c2i[ch3]] += freqs[i]"
   ]
  },
  {
   "cell_type": "markdown",
   "id": "7532f2df",
   "metadata": {},
   "source": [
    "Ara cal fixar-nos en els 2 caràcters anteriors per generar el següent. També farem ús del model de bigrames per generar el primer caràcter de tots.\n",
    "\n",
    "Hem de normalitzar el recompte de caràcters que segueixen qualsevols dos caràcters, per exemple \"ma\""
   ]
  },
  {
   "cell_type": "code",
   "execution_count": null,
   "id": "387e5366",
   "metadata": {},
   "outputs": [],
   "source": [
    "c2i[\"m\"], c2i[\"a\"]"
   ]
  },
  {
   "cell_type": "code",
   "execution_count": null,
   "id": "9f59fb8e",
   "metadata": {},
   "outputs": [],
   "source": [
    "N3[15, 3]"
   ]
  },
  {
   "cell_type": "code",
   "execution_count": null,
   "id": "2de5728b",
   "metadata": {},
   "outputs": [],
   "source": [
    "plt.bar(np.arange(nchar), N3[15, 3])\n",
    "for i, value in enumerate(N3[15, 3]):\n",
    "    plt.text(i, value, i2c[i], ha=\"center\", va=\"bottom\")"
   ]
  },
  {
   "cell_type": "code",
   "execution_count": null,
   "id": "34d097a2",
   "metadata": {},
   "outputs": [],
   "source": [
    "N3[15, 3] / N3[15, 3].sum()"
   ]
  },
  {
   "cell_type": "markdown",
   "id": "c4aa860f",
   "metadata": {},
   "source": [
    "Com haviem fet pels bigrames, fem totes les operacions de cop"
   ]
  },
  {
   "cell_type": "code",
   "execution_count": null,
   "id": "eed7a0ce",
   "metadata": {},
   "outputs": [],
   "source": [
    "N3.sum(axis=2, keepdims=True).shape"
   ]
  },
  {
   "cell_type": "code",
   "execution_count": null,
   "id": "76e87689",
   "metadata": {},
   "outputs": [],
   "source": [
    "P3 = N3 / N3.sum(axis=2, keepdims=True)\n",
    "P3[0, 0]"
   ]
  },
  {
   "cell_type": "markdown",
   "id": "93cf428c",
   "metadata": {},
   "source": [
    "Veiem que ens surt un error. És degut a una divisió entre 0, que dona `nan` com a resultat.\n",
    "\n",
    "Podríem no fer-ne cas, ja que precisament no farem servir les combinacions que mai apareixen. El que farem, però, és fer servir `np.divide`, que ens permetrà obtenir zeros en comptes de `nan`."
   ]
  },
  {
   "cell_type": "code",
   "execution_count": null,
   "id": "6422683c",
   "metadata": {},
   "outputs": [],
   "source": [
    "N3_sum = N3.sum(axis=2, keepdims=True)\n",
    "P3 = np.divide(N3, N3_sum, out=np.zeros(N3.shape, dtype=float), where=N3_sum != 0)\n",
    "P3[0, 0]"
   ]
  },
  {
   "cell_type": "markdown",
   "id": "759de74a",
   "metadata": {},
   "source": [
    "I comprovem que el resultat és el mateix que a dalt"
   ]
  },
  {
   "cell_type": "code",
   "execution_count": null,
   "id": "43f7c9ba",
   "metadata": {},
   "outputs": [],
   "source": [
    "P3[15, 3]"
   ]
  },
  {
   "cell_type": "markdown",
   "id": "871cacd9",
   "metadata": {},
   "source": [
    "Fins ara hem generat resultats aleatoris no reproduïbles, si volem fer un experiment o obtenir dades per un article, és bona idea fixar una llavor (seed), que ens permeti reproduir els resultats.\n",
    "\n",
    "Segons d'on provingui l'aleatorietat caldrà veure com es fixa la llavor. Per numpy es fa amb `np.random.seed`"
   ]
  },
  {
   "cell_type": "code",
   "execution_count": null,
   "id": "20cbde81",
   "metadata": {},
   "outputs": [],
   "source": [
    "np.random.seed(42)"
   ]
  },
  {
   "cell_type": "code",
   "execution_count": null,
   "id": "2a2f2205",
   "metadata": {},
   "outputs": [],
   "source": [
    "for i in range(10):\n",
    "    # Primer caràcter a partir de bigrames\n",
    "    ix1 = 0\n",
    "    ix2 = np.argmax(np.random.multinomial(1, P2[ix1]))\n",
    "    nom = i2c[ix2]\n",
    "\n",
    "    # Resta amb trigrames\n",
    "    while True:\n",
    "        ix3 = np.argmax(np.random.multinomial(1, P3[ix1, ix2]))\n",
    "        if ix3 == 0:\n",
    "            break\n",
    "        nom += i2c[ix3]\n",
    "        ix1 = ix2\n",
    "        ix2 = ix3\n",
    "\n",
    "    print(nom)"
   ]
  },
  {
   "cell_type": "markdown",
   "id": "43b05a1b",
   "metadata": {},
   "source": [
    "## Exercici 1: adapta el codi de generació de noms amb trigrames perquè generi noms d'home o de dona\n",
    "\n",
    "Crea una funció `genera_noms` que rebi un sol argument `sexe` i retorni un únic nom\n",
    "\n",
    "Deixarem les matrius de probabilitat com a variables globals.\n",
    "\n",
    "Et caldran dues matrius per homes (PH2, PH3) i dues per dones (PD2, PD3).\n"
   ]
  },
  {
   "cell_type": "code",
   "execution_count": null,
   "id": "b4d5f8ad-14ca-4915-9147-d33f176e071b",
   "metadata": {},
   "outputs": [],
   "source": []
  },
  {
   "cell_type": "markdown",
   "id": "7d8e6ebe",
   "metadata": {},
   "source": [
    "## Exercici 2: amplia la funció `genera_noms` perquè faci servir 4-grames"
   ]
  },
  {
   "cell_type": "code",
   "execution_count": null,
   "id": "09106479-5e06-4ed5-8cc0-9b6b0601b33a",
   "metadata": {},
   "outputs": [],
   "source": []
  },
  {
   "cell_type": "markdown",
   "id": "f419eb54",
   "metadata": {},
   "source": [
    "## *Exercici 3: amplia la funció `genera_noms` perquè faci servir n-grames\n",
    "\n",
    "Com que generar les matrius de probabilitat pot ser un procés lent, busca com es fa servir el paquet `tqdm` per mostrar una barra amb el progrés.\n",
    "\n",
    "Fes el codi en general, i prova'l amb 5-grames.\n",
    "\n",
    "1. Fes primer una funció `get_Pn` que retorni les matrius de probabilitat corresponents a n-grames, partint de `get_P4`.\n",
    "2. Genera i guarda les matrius de P2 a P5 corresponents a homes i dones en un vector per cada sexe (PnsH, PnsD).\n",
    "3. Crea la funció `genera_noms(Pns, n)`, que rebi com a input Pns i el nombre d'ngrames que farà servir per la generació. \n",
    " "
   ]
  },
  {
   "cell_type": "code",
   "execution_count": null,
   "id": "03d938dd-6449-4e6b-be00-54196ded3f77",
   "metadata": {},
   "outputs": [],
   "source": []
  },
  {
   "cell_type": "markdown",
   "id": "a6d9d252",
   "metadata": {},
   "source": [
    "### Pistes"
   ]
  },
  {
   "cell_type": "markdown",
   "id": "82203b18",
   "metadata": {},
   "source": [
    "1. Per `genera_noms`, pots fer servir `deque` per guardar els indexs ix1, ix2... en un array que automàticament mantingui només `n-1` índexs."
   ]
  },
  {
   "cell_type": "code",
   "execution_count": null,
   "id": "cc45944a",
   "metadata": {},
   "outputs": [],
   "source": [
    "from collections import deque\n",
    "\n",
    "ixs = deque([0], maxlen=3)\n",
    "ixs.append(1)\n",
    "print(ixs)\n",
    "ixs.append(2)\n",
    "print(ixs)\n",
    "ixs.append(15)\n",
    "print(ixs)\n",
    "ixs.append(3)\n",
    "print(ixs)\n",
    "ixs.append(14)\n",
    "print(ixs)"
   ]
  },
  {
   "cell_type": "markdown",
   "id": "1fa8d39f",
   "metadata": {},
   "source": [
    "2. Pots indexar un array de numpy amb una tuple"
   ]
  },
  {
   "cell_type": "code",
   "execution_count": null,
   "id": "0b6b4323",
   "metadata": {},
   "outputs": [],
   "source": [
    "PH4[tuple(ixs)]"
   ]
  },
  {
   "cell_type": "markdown",
   "id": "413e3ad5",
   "metadata": {},
   "source": [
    "3. Fixa't en què es repeteix a `genera_noms` de l'exercici 2. Agrupa-ho dins un `while True` amb un únic `return nom`"
   ]
  }
 ],
 "metadata": {
  "kernelspec": {
   "display_name": "Python 3 (ipykernel)",
   "language": "python",
   "name": "python3"
  },
  "language_info": {
   "codemirror_mode": {
    "name": "ipython",
    "version": 3
   },
   "file_extension": ".py",
   "mimetype": "text/x-python",
   "name": "python",
   "nbconvert_exporter": "python",
   "pygments_lexer": "ipython3"
  }
 },
 "nbformat": 4,
 "nbformat_minor": 5
}
