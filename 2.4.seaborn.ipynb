{
 "cells": [
  {
   "cell_type": "markdown",
   "id": "80ef72a7-1ff9-4af7-9288-c94e92d59f23",
   "metadata": {},
   "source": [
    "# Seaborn"
   ]
  },
  {
   "cell_type": "markdown",
   "id": "9a2f1d35-9e0a-4d8f-ad0a-c63c44e0fad1",
   "metadata": {},
   "source": [
    "## Aspecte gràfics "
   ]
  },
  {
   "cell_type": "markdown",
   "id": "f4c425bb-9e94-4d6c-b433-617b430699d0",
   "metadata": {},
   "source": [
    "Farem servir unes quantes línies per canviar l'aspecte dels gràfics\n",
    "\n",
    "Encara que no fem servir explícitament Seaborn, el podem fer servir per modificar l'aspecte dels gràfics de matplotlib."
   ]
  },
  {
   "cell_type": "code",
   "execution_count": null,
   "id": "abfae2b3-8dd5-416e-a98b-f0bac194a372",
   "metadata": {},
   "outputs": [],
   "source": [
    "import matplotlib.pyplot as plt\n",
    "import numpy as np\n",
    "import pandas as pd\n",
    "import seaborn as sns\n",
    "\n",
    "# paràmetres comuns de Matplotlib i Seaborn\n",
    "FIG_PARAMS = {\n",
    "    \"font.size\": 10,\n",
    "    \"savefig.dpi\": 150,\n",
    "    \"figure.figsize\": (5, 4),\n",
    "    \"lines.linewidth\": 2,\n",
    "}\n",
    "plt.rcParams.update(FIG_PARAMS)\n",
    "sns.set_theme(rc=FIG_PARAMS)\n",
    "\n",
    "sns.set_style(\"white\")  # Per defecte Seaborn té el fons gris\n",
    "\n",
    "# paper/notebook/talk/poster, font_scale engrandeix el text\n",
    "sns.set_context(\"notebook\", font_scale=1.8)\n",
    "sns.set_palette(\"colorblind\")  # paleta de colors\n",
    "\n",
    "%matplotlib inline\n",
    "%config InlineBackend.figure_format='retina'"
   ]
  },
  {
   "cell_type": "code",
   "execution_count": null,
   "id": "2499b0c3-43de-42dd-9ce9-1490d61acd9d",
   "metadata": {},
   "outputs": [],
   "source": [
    "def savefig(name):\n",
    "    sns.despine()\n",
    "    plt.tight_layout()  # semblant a layout=\"constrained\"\n",
    "    plt.savefig(name, bbox_inches=\"tight\")  # treu tot l'espai blanc del voltant"
   ]
  },
  {
   "cell_type": "markdown",
   "id": "2346f3ef-c8e5-4e09-bac5-6e16753d2433",
   "metadata": {},
   "source": [
    "## Gràfics amb Seaborn"
   ]
  },
  {
   "cell_type": "markdown",
   "id": "eda5ea9c-9ae9-4476-886b-a0973bd650af",
   "metadata": {},
   "source": [
    "Seaborn és bo si voleu fer un gràfic a partir de les \"tidy data\", on teniu una fila per observació i una columna per variable.\n",
    "\n",
    "Per tant, va molt bé amb DataFrames de Pandas"
   ]
  },
  {
   "cell_type": "code",
   "execution_count": null,
   "id": "438fb686-f16f-4fe4-b846-e363be4625d9",
   "metadata": {},
   "outputs": [],
   "source": [
    "penguins = sns.load_dataset(\"penguins\").dropna()"
   ]
  },
  {
   "cell_type": "code",
   "execution_count": null,
   "id": "4a356195-0240-4185-ae99-9653fc220a9e",
   "metadata": {},
   "outputs": [],
   "source": [
    "penguins.head()"
   ]
  },
  {
   "cell_type": "code",
   "execution_count": null,
   "id": "07cc1523-9680-4726-a84e-341565a148d5",
   "metadata": {},
   "outputs": [],
   "source": [
    "penguins.info()"
   ]
  },
  {
   "cell_type": "code",
   "execution_count": null,
   "id": "de4f522c-cb34-414e-8e83-34378612947c",
   "metadata": {},
   "outputs": [],
   "source": [
    "penguins.species.unique()"
   ]
  },
  {
   "cell_type": "code",
   "execution_count": null,
   "id": "6ab53e8b-c654-4924-a917-088bb3766cf4",
   "metadata": {},
   "outputs": [],
   "source": [
    "penguins.island.unique()"
   ]
  },
  {
   "cell_type": "code",
   "execution_count": null,
   "id": "c0740b77-3366-48d2-bc7c-893a6c3a606a",
   "metadata": {},
   "outputs": [],
   "source": [
    "penguins.sex.unique()"
   ]
  },
  {
   "cell_type": "code",
   "execution_count": null,
   "id": "67787038-ba9e-4de3-a817-f9d379eb0fc8",
   "metadata": {},
   "outputs": [],
   "source": [
    "penguins[[\"species\", \"island\", \"sex\"]].value_counts()"
   ]
  },
  {
   "cell_type": "markdown",
   "id": "8ddb9d99-853d-48c3-a9ee-c0bcafb9cec8",
   "metadata": {},
   "source": [
    "## Scatterplot"
   ]
  },
  {
   "cell_type": "markdown",
   "id": "00dd5b72-efbe-40c5-80e5-8a1791b90a89",
   "metadata": {},
   "source": [
    "Els plots de seaborn esperen un DataFrame com a primer argument i el nom de les columnes pels eixos.\n",
    "Automàticament ens posa el nom dels eixos igual al nom de les columnes. Per tant, podem canviar el nom directament al df, o com feiem amb plt."
   ]
  },
  {
   "cell_type": "code",
   "execution_count": null,
   "id": "e3887c9a-2f13-4937-a84c-85f25d1d1b2a",
   "metadata": {},
   "outputs": [],
   "source": [
    "sns.scatterplot(penguins, x=\"bill_length_mm\", y=\"bill_depth_mm\")"
   ]
  },
  {
   "cell_type": "markdown",
   "id": "a7a06a27-b5f3-4b4c-adcb-ab120eac1772",
   "metadata": {},
   "source": [
    "Segons el tipus de gràfic podem passar altres columnes per distingir-les d'alguna manera.\n",
    "\n",
    "Per exemple amb el color, fent servir l'argument `hue`.\n",
    "\n",
    "Si la variable que fem servir té pocs valor farà servir una paleta de colors discreta"
   ]
  },
  {
   "cell_type": "code",
   "execution_count": null,
   "id": "f60766cf-94c9-474c-b3fc-e40cfa03447d",
   "metadata": {},
   "outputs": [],
   "source": [
    "sns.scatterplot(penguins, x=\"bill_length_mm\", y=\"bill_depth_mm\", hue=\"species\")"
   ]
  },
  {
   "cell_type": "code",
   "execution_count": null,
   "id": "1f102804-03b1-4c37-a1a5-189100ebf5ea",
   "metadata": {},
   "outputs": [],
   "source": [
    "sns.scatterplot(penguins, x=\"bill_length_mm\", y=\"bill_depth_mm\", hue=\"sex\")"
   ]
  },
  {
   "cell_type": "markdown",
   "id": "42a50aae-51d6-4683-b8f9-1baad3dc2abf",
   "metadata": {},
   "source": [
    "En canvi, si hi ha molts valors, farà servir un paleta contínua."
   ]
  },
  {
   "cell_type": "code",
   "execution_count": null,
   "id": "2b81e2b5-0f9e-4092-aa52-5b21d318134a",
   "metadata": {},
   "outputs": [],
   "source": [
    "sns.scatterplot(penguins, x=\"bill_length_mm\", y=\"bill_depth_mm\", hue=\"body_mass_g\")"
   ]
  },
  {
   "cell_type": "markdown",
   "id": "5a8ebaa3-83c6-4107-ba34-8504b4d8742e",
   "metadata": {},
   "source": [
    "**Llegenda (matplotlib)**"
   ]
  },
  {
   "cell_type": "markdown",
   "id": "c01afd61-63d0-476d-bf00-d41573f8a7b4",
   "metadata": {},
   "source": [
    "La llegenda queda una mica al mig, a part de la posició, podem posar-la fora de la figura amb `bbox_to_anchor`, que indica les coordenades on volem posar la llegenda. Valors més petits de 0 o més grans que 1 la posaran fora dels requadre"
   ]
  },
  {
   "cell_type": "code",
   "execution_count": null,
   "id": "5adacc29-93f8-42f9-8260-25c16a59d4c5",
   "metadata": {},
   "outputs": [],
   "source": [
    "sns.scatterplot(penguins, x=\"bill_length_mm\", y=\"bill_depth_mm\", hue=\"body_mass_g\")\n",
    "plt.legend(bbox_to_anchor=(1.05, 1))"
   ]
  },
  {
   "cell_type": "markdown",
   "id": "9f0764e9-9316-4f93-9cc0-1021e9681504",
   "metadata": {},
   "source": [
    "També s'hi pot posar un títol"
   ]
  },
  {
   "cell_type": "code",
   "execution_count": null,
   "id": "f684f1ba-4544-44d2-93a2-11794db08e77",
   "metadata": {},
   "outputs": [],
   "source": [
    "sns.scatterplot(\n",
    "    penguins,\n",
    "    x=\"bill_length_mm\",\n",
    "    y=\"bill_depth_mm\",\n",
    "    hue=\"body_mass_g\",\n",
    ")\n",
    "plt.legend(bbox_to_anchor=(1.05, 1), title=\"Body Mass (g)\")"
   ]
  },
  {
   "cell_type": "markdown",
   "id": "dc5ea11d-bc4b-46d7-8a7c-d39921c22183",
   "metadata": {},
   "source": [
    "Un altre manera de representar una variable és la mida `size`"
   ]
  },
  {
   "cell_type": "code",
   "execution_count": null,
   "id": "8ffefe7b-9fd3-4de1-bde7-189c5df13c33",
   "metadata": {},
   "outputs": [],
   "source": [
    "sns.scatterplot(\n",
    "    penguins,\n",
    "    x=\"bill_length_mm\",\n",
    "    y=\"bill_depth_mm\",\n",
    "    size=\"body_mass_g\",\n",
    ")\n",
    "plt.legend(bbox_to_anchor=(1.05, 1), title=\"Body Mass (g)\")"
   ]
  },
  {
   "cell_type": "markdown",
   "id": "8c6f20a4-f8bc-4c27-8cf9-05afb8934f3e",
   "metadata": {},
   "source": [
    "Es poden combinar `hue` i `size`"
   ]
  },
  {
   "cell_type": "code",
   "execution_count": null,
   "id": "a327f982-7eca-46cb-8f7c-5f076ae470df",
   "metadata": {},
   "outputs": [],
   "source": [
    "sns.scatterplot(\n",
    "    penguins,\n",
    "    x=\"bill_length_mm\",\n",
    "    y=\"bill_depth_mm\",\n",
    "    hue=\"species\",\n",
    "    size=\"body_mass_g\",\n",
    ")\n",
    "plt.legend(bbox_to_anchor=(1.05, 1))"
   ]
  },
  {
   "cell_type": "markdown",
   "id": "3acc088f-d643-41a0-a200-b943752eb9a0",
   "metadata": {},
   "source": [
    "Finalment, scatterplot té també l'argument `style`"
   ]
  },
  {
   "cell_type": "code",
   "execution_count": null,
   "id": "4ee72a05-06b9-40f0-8519-4751746df47c",
   "metadata": {},
   "outputs": [],
   "source": [
    "sns.scatterplot(\n",
    "    penguins,\n",
    "    x=\"bill_length_mm\",\n",
    "    y=\"bill_depth_mm\",\n",
    "    hue=\"species\",\n",
    "    style=\"sex\",\n",
    ")\n",
    "plt.legend(bbox_to_anchor=(1.05, 1))"
   ]
  },
  {
   "cell_type": "markdown",
   "id": "b6d997b3-1327-411e-add5-f21fc31cf34e",
   "metadata": {},
   "source": [
    "`hue`, `size` i `style` produeixen ordres arbitraris a la llegenda. Es poden ordenar amb `hue_order`..."
   ]
  },
  {
   "cell_type": "code",
   "execution_count": null,
   "id": "03dd593e-7106-4b83-b74f-3d2438f925cb",
   "metadata": {},
   "outputs": [],
   "source": [
    "sns.scatterplot(\n",
    "    penguins,\n",
    "    x=\"bill_length_mm\",\n",
    "    y=\"bill_depth_mm\",\n",
    "    hue=\"species\",\n",
    "    style=\"sex\",\n",
    "    style_order=[\"Female\", \"Male\"],\n",
    ")\n",
    "plt.legend(bbox_to_anchor=(1.05, 1))"
   ]
  },
  {
   "cell_type": "markdown",
   "id": "a022014c-8296-4e21-ac94-33b394ee0320",
   "metadata": {},
   "source": [
    "## Exercici 1"
   ]
  },
  {
   "cell_type": "markdown",
   "id": "54c0c29f-ed48-4faa-8c51-29183f15bff6",
   "metadata": {},
   "source": [
    "Visualitza les següents dades amb un `scatterplot`.\n",
    "\n",
    "Prova de fer servir diferents variable per `hue`, `style` i/o `size`"
   ]
  },
  {
   "cell_type": "code",
   "execution_count": null,
   "id": "841f5b9c-95da-400a-9e28-22dd07174a85",
   "metadata": {},
   "outputs": [],
   "source": [
    "tips = sns.load_dataset(\"tips\")\n",
    "tips.head()"
   ]
  },
  {
   "cell_type": "markdown",
   "id": "39cd26bc-d839-4004-bbb4-54840d03d935",
   "metadata": {},
   "source": [
    "## Altres tipus de plots"
   ]
  },
  {
   "cell_type": "markdown",
   "id": "a6ece7f3-60ed-4887-b61f-e155e9d58da1",
   "metadata": {},
   "source": [
    "### regplot"
   ]
  },
  {
   "cell_type": "code",
   "execution_count": null,
   "id": "bce95be1-c705-4731-a623-72000fc81e75",
   "metadata": {},
   "outputs": [],
   "source": [
    "# Calcula i mostra una regressió lineal\n",
    "# Malauradament no permet mostrar l'equació de la línia ni cap coeficient de la regressió\n",
    "sns.regplot(tips, x=\"total_bill\", y=\"tip\")"
   ]
  },
  {
   "cell_type": "markdown",
   "id": "e7d79bd9-22e6-4a06-bc94-18afa0570a28",
   "metadata": {},
   "source": [
    "### histplot"
   ]
  },
  {
   "cell_type": "code",
   "execution_count": null,
   "id": "402ddb50-1d55-4609-99b1-89ac5528d22e",
   "metadata": {},
   "outputs": [],
   "source": [
    "# Molt semblant al de Matplotlib\n",
    "sns.histplot(tips, x=\"total_bill\")"
   ]
  },
  {
   "cell_type": "code",
   "execution_count": null,
   "id": "4ae2050c-2163-41c5-8ff1-acb5570a7a46",
   "metadata": {},
   "outputs": [],
   "source": [
    "# Però té la opció `hue`\n",
    "sns.histplot(\n",
    "    tips,\n",
    "    x=\"total_bill\",\n",
    "    bins=20,\n",
    "    hue=\"smoker\",\n",
    ")"
   ]
  },
  {
   "cell_type": "markdown",
   "id": "7e74c0fb-7b69-43e3-abe9-d628a643b938",
   "metadata": {},
   "source": [
    "### Kernel Density Estimation (KDE)"
   ]
  },
  {
   "cell_type": "code",
   "execution_count": null,
   "id": "b3accce2-6d60-49d8-b4fd-5b2db9c30d7b",
   "metadata": {},
   "outputs": [],
   "source": [
    "# En comptes de l'histograma podem estimar la distribució\n",
    "sns.kdeplot(data=penguins, x=\"flipper_length_mm\")"
   ]
  },
  {
   "cell_type": "code",
   "execution_count": null,
   "id": "a06d84c8-c5eb-4730-9b4d-8afff35c8477",
   "metadata": {},
   "outputs": [],
   "source": [
    "# I és molt millor mostrar varies distribucions que pas histogrames solapats\n",
    "sns.kdeplot(data=penguins, x=\"flipper_length_mm\", hue=\"species\")\n",
    "\n",
    "# En aquest cas per moure la llegenda cal especificar el hue_order igual que els labels (no es generen per defecte)\n",
    "species = [\"Adelie\", \"Chinstrap\", \"Gentoo\"]\n",
    "plt.legend(species, bbox_to_anchor=(1.05, 1))"
   ]
  },
  {
   "cell_type": "code",
   "execution_count": null,
   "id": "8d388d23-01bc-4575-bf60-7d0a82e33edd",
   "metadata": {},
   "outputs": [],
   "source": [
    "# Podem indicar que els posi un sobre l'altre\n",
    "sns.kdeplot(data=penguins, x=\"flipper_length_mm\", hue=\"species\", hue_order=species, multiple=\"stack\")\n",
    "plt.legend(species, bbox_to_anchor=(1.05, 1))"
   ]
  },
  {
   "cell_type": "markdown",
   "id": "af5b3c4a-ab7a-4294-bade-afd93d0eb9fe",
   "metadata": {},
   "source": [
    "### Boxplot"
   ]
  },
  {
   "cell_type": "code",
   "execution_count": null,
   "id": "16615c43-b79b-44eb-bb90-319ec52d064f",
   "metadata": {},
   "outputs": [],
   "source": [
    "sns.boxplot(penguins, x=\"species\", y=\"flipper_length_mm\")"
   ]
  },
  {
   "cell_type": "code",
   "execution_count": null,
   "id": "86e95df1-2503-4920-8907-d3a0378e68b1",
   "metadata": {},
   "outputs": [],
   "source": [
    "sns.boxplot(penguins, x=\"species\", y=\"flipper_length_mm\", hue=\"sex\")\n",
    "plt.legend(bbox_to_anchor=(1.05, 1))"
   ]
  },
  {
   "cell_type": "markdown",
   "id": "ec06204b-037e-4d29-98f2-2b2baa40d979",
   "metadata": {},
   "source": [
    "### Violinplot"
   ]
  },
  {
   "cell_type": "code",
   "execution_count": null,
   "id": "9f74475d-4c55-456f-b28b-e940d1f35685",
   "metadata": {},
   "outputs": [],
   "source": [
    "sns.violinplot(tips, x=\"smoker\", y=\"tip\")"
   ]
  },
  {
   "cell_type": "markdown",
   "id": "0355896b-73a3-4d3b-9358-8afb1c9d7185",
   "metadata": {},
   "source": [
    "## Gràfics combinats "
   ]
  },
  {
   "cell_type": "markdown",
   "id": "c9bcf196-33c8-4647-b5f6-71d08d5c9589",
   "metadata": {},
   "source": [
    "### Jointplot"
   ]
  },
  {
   "cell_type": "markdown",
   "id": "0aedd700-c898-4dc9-99d2-ba190a40f72c",
   "metadata": {},
   "source": [
    "Fa un regplot en 2 dimensions i dos histogrames marginals per cada eix"
   ]
  },
  {
   "cell_type": "code",
   "execution_count": null,
   "id": "d9bae751-ce9b-4cb8-af98-1cc4f4e1ffd4",
   "metadata": {},
   "outputs": [],
   "source": [
    "sns.jointplot(penguins, x=\"flipper_length_mm\", y=\"bill_length_mm\")"
   ]
  },
  {
   "cell_type": "markdown",
   "id": "e926285a-cc51-46ce-bd63-252bd2427e71",
   "metadata": {},
   "source": [
    "Amb `hue` fa kdeplots en comptes de histogrames marginals"
   ]
  },
  {
   "cell_type": "code",
   "execution_count": null,
   "id": "f2f36674-6610-49c0-a490-d473b6cd9ec5",
   "metadata": {},
   "outputs": [],
   "source": [
    "sns.jointplot(penguins, x=\"flipper_length_mm\", y=\"bill_length_mm\", hue=\"species\")\n",
    "plt.legend(bbox_to_anchor=(1.05, 1))"
   ]
  },
  {
   "cell_type": "markdown",
   "id": "63aa3fde-06a5-436b-a55b-6c0d5b695974",
   "metadata": {},
   "source": [
    "A més permet altres tipus de representacions"
   ]
  },
  {
   "cell_type": "code",
   "execution_count": null,
   "id": "cac93b62-fc51-437c-93c5-20cad2b6c884",
   "metadata": {},
   "outputs": [],
   "source": [
    "sns.jointplot(penguins, x=\"flipper_length_mm\", y=\"bill_length_mm\", hue=\"species\", kind=\"hist\")\n",
    "species = [\"Adelie\", \"Chinstrap\", \"Gentoo\"]\n",
    "plt.legend(species, bbox_to_anchor=(1.05, 1))"
   ]
  },
  {
   "cell_type": "code",
   "execution_count": null,
   "id": "524b9685-8de6-4829-94c6-e2a30b09010d",
   "metadata": {},
   "outputs": [],
   "source": [
    "sns.jointplot(penguins, x=\"flipper_length_mm\", y=\"bill_length_mm\", hue=\"species\", kind=\"kde\")\n",
    "species = [\"Adelie\", \"Chinstrap\", \"Gentoo\"]\n",
    "plt.legend(species, bbox_to_anchor=(1.05, 1))"
   ]
  },
  {
   "cell_type": "markdown",
   "id": "3912133a-fc91-46d0-82a4-5dd3a5e25f7f",
   "metadata": {},
   "source": [
    "### Pairplot"
   ]
  },
  {
   "cell_type": "markdown",
   "id": "3ca9b48a-5880-4f18-9f2a-2c0a3b32c7ec",
   "metadata": {},
   "source": [
    "Semblant a quan fèiem `df.hist`, genera un histograma per a cada variable i un scatterplot per a cada combinació."
   ]
  },
  {
   "cell_type": "code",
   "execution_count": null,
   "id": "b6b9208b-5f80-42d5-800b-076e7e32cc29",
   "metadata": {},
   "outputs": [],
   "source": [
    "sns.pairplot(data=penguins)"
   ]
  },
  {
   "cell_type": "code",
   "execution_count": null,
   "id": "3ed72e4f-d22a-4cba-a61c-399fd3f06268",
   "metadata": {},
   "outputs": [],
   "source": [
    "I també accepta `hue`"
   ]
  },
  {
   "cell_type": "code",
   "execution_count": null,
   "id": "013257a2-60a4-4084-b63e-ff38254264cb",
   "metadata": {},
   "outputs": [],
   "source": [
    "sns.pairplot(data=penguins, hue=\"species\")"
   ]
  },
  {
   "cell_type": "markdown",
   "id": "1829422a-4192-4416-8238-bb060d6e728c",
   "metadata": {},
   "source": [
    "## Subplots"
   ]
  },
  {
   "cell_type": "markdown",
   "id": "1a39ece1-7a62-4387-a726-4f388452b7d1",
   "metadata": {},
   "source": [
    "De la mateixa manera que amb Pandas, si creem un subplot, l'argument `ax` indica quin gràfic estem creant"
   ]
  },
  {
   "cell_type": "code",
   "execution_count": null,
   "id": "e8b40fd2-2956-49a1-8ad0-cc5a9de79cdc",
   "metadata": {},
   "outputs": [],
   "source": [
    "fig, axes = plt.subplots(nrows=2, ncols=1, figsize=(3, 6))\n",
    "\n",
    "sns.scatterplot(penguins, x=\"bill_length_mm\", y=\"bill_depth_mm\", ax=axes[0])\n",
    "sns.scatterplot(penguins, x=\"bill_length_mm\", y=\"flipper_length_mm\", ax=axes[1])"
   ]
  },
  {
   "cell_type": "markdown",
   "id": "8ba6f173-8c86-447e-b729-5962195c3e63",
   "metadata": {},
   "source": [
    "Seaborn ens també ens facilita la creació de subplots estructurats amb `FacetGrid`."
   ]
  },
  {
   "cell_type": "code",
   "execution_count": null,
   "id": "e42dd43b-090f-42ad-ae6a-6b2bb8761a44",
   "metadata": {},
   "outputs": [],
   "source": [
    "g = sns.FacetGrid(tips, col=\"time\")\n",
    "g.map(sns.histplot, \"tip\")"
   ]
  },
  {
   "cell_type": "code",
   "execution_count": null,
   "id": "a23afa18-fc87-4578-ade5-112afbaf5659",
   "metadata": {},
   "outputs": [],
   "source": [
    "# En comptes de figsize, es canvia el tamany amb height i aspect\n",
    "g = sns.FacetGrid(tips, col=\"time\", height=4, aspect=1.2)\n",
    "g.map(sns.histplot, \"tip\")"
   ]
  },
  {
   "cell_type": "code",
   "execution_count": null,
   "id": "b3899497-1cbb-44ba-bb02-916bdce111b8",
   "metadata": {},
   "outputs": [],
   "source": [
    "g = sns.FacetGrid(tips, col=\"sex\", row=\"time\", hue=\"smoker\", height=3.5, aspect=1.2)\n",
    "g.map(sns.scatterplot, \"total_bill\", \"tip\", alpha=0.7)\n",
    "g.add_legend()"
   ]
  },
  {
   "cell_type": "code",
   "execution_count": null,
   "id": "7841adf4-25ef-4cba-8804-db3f63be548b",
   "metadata": {},
   "outputs": [],
   "source": [
    "g = sns.FacetGrid(tips, col=\"day\", height=4, aspect=0.5)\n",
    "g.map(sns.barplot, \"sex\", \"total_bill\", order=[\"Male\", \"Female\"])"
   ]
  }
 ],
 "metadata": {
  "kernelspec": {
   "display_name": "Python 3 (ipykernel)",
   "language": "python",
   "name": "python3"
  },
  "language_info": {
   "codemirror_mode": {
    "name": "ipython",
    "version": 3
   },
   "file_extension": ".py",
   "mimetype": "text/x-python",
   "name": "python",
   "nbconvert_exporter": "python",
   "pygments_lexer": "ipython3"
  }
 },
 "nbformat": 4,
 "nbformat_minor": 5
}
