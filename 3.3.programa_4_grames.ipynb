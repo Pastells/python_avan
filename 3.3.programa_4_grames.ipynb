{
 "cells": [
  {
   "cell_type": "markdown",
   "id": "84aaa6ea-7c71-440e-b080-3f7bc7f6298c",
   "metadata": {},
   "source": [
    "Aquest quadern és una versió neta del model amb 4-grames.\n",
    "\n",
    "El podem exportar a un executable (.py) amb `File > Save and Export Notebook As > Executable Script`"
   ]
  },
  {
   "cell_type": "code",
   "execution_count": null,
   "id": "2a23d982-7f97-4ab8-8256-2d8311bc5d87",
   "metadata": {},
   "outputs": [],
   "source": [
    "import matplotlib.pyplot as plt\n",
    "import numpy as np\n",
    "import pandas as pd\n",
    "from nltk import ngrams"
   ]
  },
  {
   "cell_type": "code",
   "execution_count": null,
   "id": "80d94b12-5894-4511-bd38-48d02cdbdc29",
   "metadata": {},
   "outputs": [],
   "source": [
    "df = pd.read_csv(\"data/noms_net.csv\", keep_default_na=False)\n",
    "df[\"nom#\"] = \"#\" +df[\"Nom\"] +\"#\"\n",
    "\n",
    "chars = [\"#\"] + sorted(list(set(\"\".join(df.Nom))))\n",
    "nchar = len(chars)\n",
    "c2i = {c: i for i, c in enumerate(chars)}\n",
    "i2c = {i: c for i, c in enumerate(chars)}"
   ]
  },
  {
   "cell_type": "code",
   "execution_count": null,
   "id": "61a892ff-d3f7-4643-971f-a4a521a22362",
   "metadata": {},
   "outputs": [],
   "source": [
    "noms_home = df[df.Sexe == \"H\"][\"nom#\"].to_list()\n",
    "noms_dona = df[df.Sexe == \"D\"][\"nom#\"].to_list()\n",
    "\n",
    "freqs_home = df[df.Sexe == \"H\"][\"freq\"].to_list()\n",
    "freqs_dona = df[df.Sexe == \"D\"][\"freq\"].to_list()"
   ]
  },
  {
   "cell_type": "code",
   "execution_count": null,
   "id": "2dad3dc5",
   "metadata": {},
   "outputs": [],
   "source": [
    "def get_P2(noms, freqs, c2i):\n",
    "    nchar = len(c2i)\n",
    "    N2 = np.zeros((nchar, nchar), dtype=np.int32)\n",
    "    for i, nom in enumerate(noms):\n",
    "        for ch1, ch2 in zip(nom, nom[1:]):\n",
    "            N2[c2i[ch1], c2i[ch2]] += freqs[i]\n",
    "\n",
    "    N2_sum = N2.sum(axis=1, keepdims=True)\n",
    "    P2 = np.divide(N2, N2_sum, out=np.zeros(N2.shape, dtype=float), where=N2_sum != 0)\n",
    "    return P2"
   ]
  },
  {
   "cell_type": "code",
   "execution_count": null,
   "id": "4f3f60d7",
   "metadata": {},
   "outputs": [],
   "source": [
    "def get_P3(noms, freqs, c2i):\n",
    "    nchar = len(c2i)\n",
    "    N3 = np.zeros((nchar, nchar, nchar), dtype=np.int32)\n",
    "    for i, nom in enumerate(noms):\n",
    "        for ch1, ch2, ch3 in ngrams(nom, 3):\n",
    "            N3[c2i[ch1], c2i[ch2], c2i[ch3]] += freqs[i]\n",
    "\n",
    "    N3_sum = N3.sum(axis=2, keepdims=True)\n",
    "    P3 = np.divide(N3, N3_sum, out=np.zeros(N3.shape, dtype=float), where=N3_sum != 0)\n",
    "    return P3"
   ]
  },
  {
   "cell_type": "code",
   "execution_count": null,
   "id": "7698aded",
   "metadata": {},
   "outputs": [],
   "source": [
    "def get_P4(noms, freqs, c2i):\n",
    "    nchar = len(c2i)\n",
    "    N4 = np.zeros((nchar,) * 4, dtype=np.int32)\n",
    "    for i, nom in enumerate(noms):\n",
    "        for ch1, ch2, ch3, ch4 in ngrams(nom, 4):\n",
    "            N4[c2i[ch1], c2i[ch2], c2i[ch3], c2i[ch4]] += freqs[i]\n",
    "\n",
    "    N4_sum = N4.sum(axis=3, keepdims=True)\n",
    "    P4 = np.divide(N4, N4_sum, out=np.zeros(N4.shape, dtype=float), where=N4_sum != 0)\n",
    "    return P4"
   ]
  },
  {
   "cell_type": "code",
   "execution_count": null,
   "id": "b6e253dc",
   "metadata": {},
   "outputs": [],
   "source": [
    "# Deixem les matrius de probabilitat com a variables globals\n",
    "PH2 = get_P2(noms_home, freqs_home, c2i)\n",
    "PH3 = get_P3(noms_home, freqs_home, c2i)\n",
    "PH4 = get_P4(noms_home, freqs_home, c2i)\n",
    "\n",
    "PD2 = get_P2(noms_dona, freqs_dona, c2i)\n",
    "PD3 = get_P3(noms_dona, freqs_dona, c2i)\n",
    "PD4 = get_P4(noms_dona, freqs_dona, c2i)"
   ]
  },
  {
   "cell_type": "code",
   "execution_count": null,
   "id": "ea92a9ac",
   "metadata": {},
   "outputs": [],
   "source": [
    "def genera_noms(sexe):\n",
    "    if sexe == \"H\":\n",
    "        P2 = PH2\n",
    "        P3 = PH3\n",
    "        P4 = PH4\n",
    "    elif sexe == \"D\":\n",
    "        P2 = PD2\n",
    "        P3 = PD3\n",
    "        P4 = PD4\n",
    "    else:\n",
    "        raise ValueError(\"sexe ha de ser H o D\")\n",
    "\n",
    "    # Primer caràcter a partir de bigrames\n",
    "    ix1 = 0\n",
    "    ix2 = np.argmax(np.random.multinomial(1, P2[ix1]))\n",
    "    nom = i2c[ix2]\n",
    "\n",
    "    # Segon caràcter a partir de trigrames\n",
    "    ix3 = np.argmax(np.random.multinomial(1, P3[ix1, ix2]))\n",
    "    if ix3 == 0:\n",
    "        return nom\n",
    "    else:\n",
    "        nom += i2c[ix3]\n",
    "\n",
    "    # Resta amb 4-grames\n",
    "    while True:\n",
    "        ix4 = np.argmax(np.random.multinomial(1, P4[ix1, ix2, ix3]))\n",
    "        if ix4 == 0:\n",
    "            return nom\n",
    "        nom += i2c[ix4]\n",
    "        ix1 = ix2\n",
    "        ix2 = ix3\n",
    "        ix3 = ix4"
   ]
  },
  {
   "cell_type": "code",
   "execution_count": null,
   "id": "ebf9fe1d-c8fc-4f09-ad8c-31cba5f0e7b2",
   "metadata": {},
   "outputs": [],
   "source": [
    "np.random.seed(42)"
   ]
  },
  {
   "cell_type": "code",
   "execution_count": null,
   "id": "4f17b86b-7515-43ec-ab29-474f445cdd17",
   "metadata": {},
   "outputs": [],
   "source": [
    "noms = df.Nom.tolist()\n",
    "for _ in range(10):\n",
    "    nom = genera_noms(\"D\")\n",
    "    print(nom, nom in noms)\n",
    "\n",
    "print()\n",
    "\n",
    "for _ in range(10):\n",
    "    nom = genera_noms(\"H\")\n",
    "    print(nom, nom in noms)"
   ]
  }
 ],
 "metadata": {
  "kernelspec": {
   "display_name": "Python 3 (ipykernel)",
   "language": "python",
   "name": "python3"
  },
  "language_info": {
   "codemirror_mode": {
    "name": "ipython",
    "version": 3
   },
   "file_extension": ".py",
   "mimetype": "text/x-python",
   "name": "python",
   "nbconvert_exporter": "python",
   "pygments_lexer": "ipython3"
  }
 },
 "nbformat": 4,
 "nbformat_minor": 5
}
