{
 "cells": [
  {
   "cell_type": "markdown",
   "id": "703fc192-de59-447e-abb8-1dac7dcbb2da",
   "metadata": {},
   "source": [
    "# Programació orientada a objectes"
   ]
  },
  {
   "cell_type": "markdown",
   "id": "3341e656-44b0-4c4b-84c1-6d0c519cf372",
   "metadata": {},
   "source": [
    "Python és un llenguatge de programació multiparadigma. Admet diferents enfocaments de programació.\n",
    "\n",
    "Un dels enfocaments populars per resoldre un problema de programació és la creació d'objectes. Això es coneix com a Programació Orientada a Objectes.\n",
    "\n",
    "La programació orientada a objectes (OOP) és un paradigma de programació basat en el concepte d'objectes. L'objecte conté dades i codi: dades en forma de propietats (**atributs**) i codi, en forma de **mètodes** (les accions que l'objecte pot realitzar)."
   ]
  },
  {
   "cell_type": "markdown",
   "id": "5b6b0e9e-7386-4294-9964-a4723a7b2895",
   "metadata": {},
   "source": [
    "A Python, tot és un objecte: enters, strings, llistes... Una classe és el disseny per a l'objecte, o un constructor d'objectes.\n",
    "\n",
    "**Instanciem** una classe per crear un objecte. La classe defineix els atributs i el comportament de l'objecte, mentre que l'objecte, en canvi, representa la classe."
   ]
  },
  {
   "cell_type": "code",
   "execution_count": null,
   "id": "60e1b992-164b-456b-984d-5db97a788208",
   "metadata": {},
   "outputs": [],
   "source": [
    "class Persona:\n",
    "\n",
    "    def __init__(self, nom, edat):\n",
    "        self.nom = nom\n",
    "        self.edat = edat\n",
    "\n",
    "    def envellir(self):\n",
    "        self.edat += 1"
   ]
  },
  {
   "cell_type": "code",
   "execution_count": null,
   "id": "dfa8bcc1-f9ec-4cdc-b8cd-821e7e09f2cb",
   "metadata": {},
   "outputs": [],
   "source": [
    "alba = Persona(\"alba\", 27)\n",
    "alba"
   ]
  },
  {
   "cell_type": "code",
   "execution_count": null,
   "id": "666f100c-4e7a-43eb-a05b-027b624d1667",
   "metadata": {},
   "outputs": [],
   "source": [
    "alba.nom, alba.edat"
   ]
  },
  {
   "cell_type": "code",
   "execution_count": null,
   "id": "e942d071-c1f9-4414-a990-6d29dddc5433",
   "metadata": {},
   "outputs": [],
   "source": [
    "alba.envellir()\n",
    "alba.nom, alba.edat"
   ]
  },
  {
   "cell_type": "code",
   "execution_count": null,
   "id": "3cc37632-215b-48b3-95dc-17125822a254",
   "metadata": {},
   "outputs": [],
   "source": [
    "berta = Persona(\"Berta\", 35)\n",
    "carlos = Persona(\"Carlos\", 23)"
   ]
  },
  {
   "cell_type": "markdown",
   "id": "124fe489-f47e-444a-873d-8859a31589ab",
   "metadata": {},
   "source": [
    "## Exemple"
   ]
  },
  {
   "cell_type": "markdown",
   "id": "465973a6-b73d-4d67-81c9-283b268e1aad",
   "metadata": {},
   "source": [
    "Comencem amb un programa molt senzill"
   ]
  },
  {
   "cell_type": "code",
   "execution_count": null,
   "id": "ebdcf8aa-c9c7-41b3-84ba-19791d8189ff",
   "metadata": {},
   "outputs": [],
   "source": [
    "nom = input(\"Nom: \")\n",
    "edat = input(\"Edat: \")\n",
    "print(f\"{nom} té {edat} anys\")"
   ]
  },
  {
   "cell_type": "markdown",
   "id": "6f469f8b-deb8-45f0-8797-30aa75635ca6",
   "metadata": {},
   "source": [
    "Creem dues funcions per abstraure la funcionalitat.\n",
    "\n",
    "Encara que estem dins un quadern, creem una funció main, per acabar copiant el codi a un executable"
   ]
  },
  {
   "cell_type": "code",
   "execution_count": null,
   "id": "251ec6ae-f403-4da5-8a7a-a5250bad26e2",
   "metadata": {},
   "outputs": [],
   "source": [
    "def main():\n",
    "    nom = get_name()\n",
    "    edat = get_age()\n",
    "    print(f\"{nom} té {edat} anys\")\n",
    "\n",
    "\n",
    "def get_name():\n",
    "    return input(\"Nom: \")\n",
    "\n",
    "\n",
    "def get_age():\n",
    "    return input(\"Edat: \")\n",
    "\n",
    "\n",
    "if __name__ == \"__main__\":\n",
    "    main()"
   ]
  },
  {
   "cell_type": "code",
   "execution_count": null,
   "id": "0b4d58b3-3f1a-4361-a175-6f97331417a2",
   "metadata": {},
   "outputs": [],
   "source": [
    "def main():\n",
    "    nom, edat = get_person()\n",
    "    print(f\"{nom} té {edat} anys\")\n",
    "\n",
    "\n",
    "def get_person():\n",
    "    nom = get_name()\n",
    "    edat = get_age()\n",
    "    return nom, edat\n",
    "\n",
    "\n",
    "if __name__ == \"__main__\":\n",
    "    main()"
   ]
  },
  {
   "cell_type": "markdown",
   "id": "63aecaef-e1b7-4799-bd16-cf4112df6047",
   "metadata": {},
   "source": [
    "## Classes 1"
   ]
  },
  {
   "cell_type": "markdown",
   "id": "885ecdcf-ce3d-476b-8953-7c7177b30f83",
   "metadata": {},
   "source": [
    "- Una classe es crea amb `class`. Per convenció es posa amb \"CamelCase\"\n",
    "- Les classes tenen un primer mètode `__init__` que es crida quan instanciem la classe.\n",
    "- El terme `self` s'ha de posar com a primer argument de cada mètode de la classe."
   ]
  },
  {
   "cell_type": "code",
   "execution_count": null,
   "id": "062cbbf8-5b72-4113-926e-e03595c44188",
   "metadata": {},
   "outputs": [],
   "source": [
    "class Player:\n",
    "    def __init__(self, x, y):\n",
    "        self.x = x\n",
    "        self.y = y\n",
    "        self.health = 100\n",
    "\n",
    "    def move(self, dx, dy):\n",
    "        self.x += dx\n",
    "        self.y += dy\n",
    "\n",
    "    def damage(self, pts):\n",
    "        self.health -= pts"
   ]
  },
  {
   "cell_type": "markdown",
   "id": "2f4b07ae-85e3-4f1a-b5e7-6a3b9ae4ca64",
   "metadata": {},
   "source": [
    "Bàsicament una classe és un conjunt de funcions que operen sobre les **instàncies**.\n",
    "\n",
    "Les instàncies són els \"objectes\" que manipulem.\n",
    "En podem crear tantes com vulguem d'una classe.\n",
    "\n",
    "La classe per si sola no fa res."
   ]
  },
  {
   "cell_type": "code",
   "execution_count": null,
   "id": "129ce713-1e41-4d68-abdd-b40b7c93d3f7",
   "metadata": {},
   "outputs": [],
   "source": [
    "a = Player(2, 3)\n",
    "b = Player(10, 20)"
   ]
  },
  {
   "cell_type": "markdown",
   "id": "8b804513-55da-4def-984a-e4802510dce3",
   "metadata": {},
   "source": [
    "Cada instància té les seves pròpies dades (atributs)"
   ]
  },
  {
   "cell_type": "code",
   "execution_count": null,
   "id": "2ee2a07c-d20d-4581-bbbf-6766c3281060",
   "metadata": {},
   "outputs": [],
   "source": [
    "a.x"
   ]
  },
  {
   "cell_type": "code",
   "execution_count": null,
   "id": "8914e6f1-3c2d-4a37-9bfb-b5430c669856",
   "metadata": {},
   "outputs": [],
   "source": [
    "b.x"
   ]
  },
  {
   "cell_type": "markdown",
   "id": "3cf8e882-e806-4c95-8c29-997ead70ec67",
   "metadata": {},
   "source": [
    "Totes les variables guardades dins a self són dades de la instància. S'inicialitzen dins de `__init__()`\n",
    "\n",
    "```python\n",
    "class Player:\n",
    "    def __init__(self, x, y):\n",
    "        self.x = x\n",
    "        self.y = y\n",
    "        self.health = 100\n",
    "```\n",
    "\n",
    "No hi ha restriccions sobre el número o el tipus d'atributs que es guarden"
   ]
  },
  {
   "cell_type": "markdown",
   "id": "44d47b39-2990-41a3-84c6-3fd6f45d3ed8",
   "metadata": {},
   "source": [
    "## Mètodes\n",
    "\n",
    "Un mètode és una funció aplicada sobre una instància d'un objecte.\n",
    "\n",
    "```python\n",
    "class Player:\n",
    "    ...\n",
    "    def move(self, dx, dy):\n",
    "        self.x += dx\n",
    "        self.y += dy\n",
    "```\n",
    "\n",
    "El primer argument (`self`) és el propi objecte. Cal posar-lo quan definim el mètode però no quan es crida."
   ]
  },
  {
   "cell_type": "code",
   "execution_count": null,
   "id": "e5c991d9-d4b4-486f-a71c-1131d1ef41ed",
   "metadata": {},
   "outputs": [],
   "source": [
    "a.move(1, 2)\n",
    "a.x, a.y"
   ]
  },
  {
   "cell_type": "markdown",
   "id": "de5745ce-3ce5-460a-96ff-f1ee6e2e76d4",
   "metadata": {},
   "source": [
    "Les classes no defineixen un abast (\"scope\"). Sempre que vulguem referir-nos a un atribut o mètode hem de fer-ho amb `self`"
   ]
  },
  {
   "cell_type": "code",
   "execution_count": null,
   "id": "88c3add3",
   "metadata": {},
   "outputs": [],
   "source": [
    "class Player:\n",
    "    def __init__(self, x, y):\n",
    "        self.x = x\n",
    "        self.y = y\n",
    "        self.health = 100\n",
    "\n",
    "    def move(self, dx, dy):\n",
    "        self.x += dx\n",
    "        self.y += dy\n",
    "\n",
    "    def damage(self, pts):\n",
    "        self.health -= pts\n",
    "\n",
    "    def left(self, amount):\n",
    "        move(-amt, 0)  # no hi ha una funció move global, donarà error\n",
    "        self.move(-amt, 0)"
   ]
  },
  {
   "cell_type": "code",
   "execution_count": null,
   "id": "6a576a7c-8e4c-42db-81c1-6939511a79ba",
   "metadata": {},
   "outputs": [],
   "source": [
    "a = Player(3, 4)\n",
    "a.left(3)"
   ]
  },
  {
   "cell_type": "markdown",
   "id": "3135a7c7-2d56-4230-9d79-b3ab48b240d9",
   "metadata": {},
   "source": [
    "## Exercici 1"
   ]
  },
  {
   "cell_type": "code",
   "execution_count": null,
   "id": "956ac677-0205-4bad-ab06-82d78ea0ffe5",
   "metadata": {},
   "outputs": [],
   "source": [
    "import csv"
   ]
  },
  {
   "cell_type": "code",
   "execution_count": null,
   "id": "67fc0468-6326-4fb1-8c3b-129149f5f8eb",
   "metadata": {},
   "outputs": [],
   "source": [
    "class Stock:\n",
    "    def __init__(self, name, shares, price):\n",
    "        self.name = name\n",
    "        self.shares = shares\n",
    "        self.price = price\n",
    "\n",
    "    def cost(self):\n",
    "        return self.shares * self.price\n",
    "\n",
    "\n",
    "s = Stock(\"GOOG\", 100, 490.10)\n",
    "s.cost()"
   ]
  },
  {
   "cell_type": "markdown",
   "id": "8807528b-930f-4062-95ef-242408decb82",
   "metadata": {},
   "source": [
    "### (a) Afegeix un nou mètode\n",
    "\n",
    "Afegiu un nou mètode `sell(nshares)` a Stock que vengui un nombre determinat d'accions disminuint-ne el recompte. Feu que funcioni així:\n",
    "\n",
    "```python\n",
    ">>> s = Stock('GOOG',100,490.10)\n",
    ">>> s.shares\n",
    "100\n",
    ">>> s.sell(25)\n",
    ">>> s.shares\n",
    "75\n",
    "```"
   ]
  },
  {
   "cell_type": "code",
   "execution_count": null,
   "id": "f5b1a80e-15f4-4e06-b2c2-c5dcac14a772",
   "metadata": {},
   "outputs": [],
   "source": [
    "class Stock:\n",
    "    def __init__(self, name, shares, price):\n",
    "        self.name = name\n",
    "        self.shares = shares\n",
    "        self.price = price\n",
    "\n",
    "    def cost(self):\n",
    "        return self.shares * self.price\n",
    "\n",
    "    def sell(self, nshares):\n",
    "        self.shares -= nshares"
   ]
  },
  {
   "cell_type": "code",
   "execution_count": null,
   "id": "a098bee4-1a30-4218-ba27-43f4e7e3eea3",
   "metadata": {},
   "outputs": [],
   "source": [
    "s = Stock(\"GOOG\", 100, 490.10)\n",
    "s.shares"
   ]
  },
  {
   "cell_type": "code",
   "execution_count": null,
   "id": "38fbd81a-a338-450e-9c8c-5779fdd4f7c6",
   "metadata": {},
   "outputs": [],
   "source": [
    "s.sell(25)\n",
    "s.shares"
   ]
  },
  {
   "cell_type": "markdown",
   "id": "c82f761c-741f-4299-a0d1-b5acaa528f8e",
   "metadata": {},
   "source": [
    "### (b) Llegeix una cartera\n",
    "\n",
    "Crea una funció `read_portfolio()` que llegeixi les files de `portfolio.csv` com a instàncies de Stock:\n",
    "\n",
    "```python\n",
    ">>> portfolio = read_portfolio('data/portfolio.csv')\n",
    ">>> for s in portfolio:\n",
    "        print(s)\n",
    "\n",
    "<__main__.Stock object at 0x3902f0>\n",
    "<__main__.Stock object at 0x390270>\n",
    "<__main__.Stock object at 0x390330>\n",
    "<__main__.Stock object at 0x390370>\n",
    "<__main__.Stock object at 0x3903b0>\n",
    "<__main__.Stock object at 0x3903f0>\n",
    "<__main__.Stock object at 0x390430>\n",
    ">>>\n",
    "```"
   ]
  },
  {
   "cell_type": "code",
   "execution_count": null,
   "id": "eacf4727-b494-485b-9725-f44e9ba797b7",
   "metadata": {},
   "outputs": [],
   "source": [
    "! cat data/portfolio.csv"
   ]
  },
  {
   "cell_type": "code",
   "execution_count": null,
   "id": "37aa34db-73ca-4f72-a481-f69fc457ac26",
   "metadata": {},
   "outputs": [],
   "source": [
    "def read_portfolio(filename):\n",
    "    \"\"\"\n",
    "    Llegeix un fitxer CSV de dades d'accions en una llista de Stocks\n",
    "    \"\"\"\n",
    "\n",
    "    portfolio = []\n",
    "    with open(filename) as f:\n",
    "        rows = csv.reader(f)\n",
    "        headers = next(rows)\n",
    "        for row in rows:\n",
    "            #\n",
    "            portfolio.append(record)\n",
    "    return portfolio"
   ]
  },
  {
   "cell_type": "code",
   "execution_count": null,
   "id": "42b22425",
   "metadata": {},
   "outputs": [],
   "source": [
    "def read_portfolio(filename):\n",
    "    \"\"\"\n",
    "    Llegeix un fitxer CSV de dades d'accions en una llista de Stocks\n",
    "    \"\"\"\n",
    "\n",
    "    portfolio = []\n",
    "    with open(filename) as f:\n",
    "        rows = csv.reader(f)\n",
    "        headers = next(rows)\n",
    "        for row in rows:\n",
    "            record = Stock(row[0], int(row[1]), float(row[2]))\n",
    "            portfolio.append(record)\n",
    "    return portfolio"
   ]
  },
  {
   "cell_type": "code",
   "execution_count": null,
   "id": "253caae0-f4f8-4661-895e-63e41ee37483",
   "metadata": {},
   "outputs": [],
   "source": [
    "portfolio = read_portfolio(\"data/portfolio.csv\")\n",
    "for s in portfolio:\n",
    "    print(s)"
   ]
  },
  {
   "cell_type": "markdown",
   "id": "3767e736-da9f-4ba6-bedd-13e380b9ac4b",
   "metadata": {},
   "source": [
    "### Imprimeix una taula \n",
    "\n",
    "Mostra les dades llegides a la part (b) en format taula."
   ]
  },
  {
   "cell_type": "code",
   "execution_count": null,
   "id": "1ccb518e-5a75-48ed-bb79-d718875a0a77",
   "metadata": {},
   "outputs": [],
   "source": [
    "def print_portfolio(portfolio):\n",
    "    \"\"\"\n",
    "    Make a nicely formatted table showing stock data\n",
    "    \"\"\"\n",
    "    print(\"%10s %10s %10s\" % (\"name\", \"shares\", \"price\"))\n",
    "    print((\"-\" * 10 + \" \") * 3)\n",
    "    for s in portfolio:\n",
    "        print(\"%10s %10d %10.2f\" % (s.name, s.shares, s.price))\n",
    "\n",
    "\n",
    "print_portfolio(portfolio)"
   ]
  },
  {
   "cell_type": "markdown",
   "id": "8468dd5c-57b6-4b08-8280-025dfa31af45",
   "metadata": {},
   "source": [
    "## Classes 2"
   ]
  },
  {
   "cell_type": "markdown",
   "id": "a9320cb2-9d7c-4ebb-9864-aa680f604c1e",
   "metadata": {},
   "source": [
    "Només hi ha 3 operacions per defecte a les instàncies"
   ]
  },
  {
   "cell_type": "code",
   "execution_count": null,
   "id": "ae7c5b36-e36c-4496-900e-197fa57cd5a6",
   "metadata": {},
   "outputs": [],
   "source": [
    "a.x  # accedir a l'atribut\n",
    "a.z = 80  # canviar o crear un nou atribut\n",
    "del a.x  # esborrar un atribut"
   ]
  },
  {
   "cell_type": "code",
   "execution_count": null,
   "id": "9a14dbd0-fe8d-4882-b526-1fcd58f3e843",
   "metadata": {},
   "outputs": [],
   "source": [
    "a.z"
   ]
  },
  {
   "cell_type": "code",
   "execution_count": null,
   "id": "36eb8553-f2f6-47d6-b3e9-ce6df371b24c",
   "metadata": {},
   "outputs": [],
   "source": [
    "a.x"
   ]
  },
  {
   "cell_type": "markdown",
   "id": "0747fa26-d5d7-4591-8919-981231b13777",
   "metadata": {},
   "source": [
    "### Accés a atributs\n",
    "\n",
    "Aquestes funcions es poden utilitzar per manipular atributs amb el seu nom\n",
    "\n",
    "```python\n",
    "getattr(obj, 'name')         # obj.name\n",
    "setattr(obj, 'name', value)  # obj.name = value \n",
    "delattr(obj, 'name')         # del obj.name\n",
    "hasattr(obj, 'name')         # veure si existeix l'atribut\n",
    "```"
   ]
  },
  {
   "cell_type": "code",
   "execution_count": null,
   "id": "6cca4721-000d-4db3-9d79-b6ada196e9d0",
   "metadata": {},
   "outputs": [],
   "source": [
    "# Exemple\n",
    "s = Stock(\"GOOG\", 100, 490.10)\n",
    "\n",
    "attributes = [\"name\", \"shares\", \"price\", \"rodona\"]\n",
    "for attr in attributes:\n",
    "    # Igual que per diccionaris, podem donar un valor per defecte\n",
    "    print(attr, \"=\", getattr(s, attr, None))"
   ]
  },
  {
   "cell_type": "markdown",
   "id": "e0abe37b-343c-4207-959e-aa5df67e46cd",
   "metadata": {},
   "source": [
    "### Invocació d'un mètode"
   ]
  },
  {
   "cell_type": "markdown",
   "id": "9fc4142a-67b2-48f5-a6be-56c767a0ee99",
   "metadata": {},
   "source": [
    "Alguna vegada haureu intentat cridar un mètode però us heu deixat els parèntesis"
   ]
  },
  {
   "cell_type": "code",
   "execution_count": null,
   "id": "e3242bd2-757b-4ac7-86f3-12e3d4da9fd7",
   "metadata": {},
   "outputs": [],
   "source": [
    "\"a\".strip"
   ]
  },
  {
   "cell_type": "markdown",
   "id": "769e6385-504f-41ed-b3d1-d5c8795d9e61",
   "metadata": {},
   "source": [
    "Fixeu-vos que no us dona un error, sinó que retorna el pròpi mètode.\n",
    "\n",
    "I és que invocar un mètode és un procés amb 2 passos:\n",
    "\n",
    "1. Cerca: L'operador **.**\n",
    "2. Execució: L'operador **()**"
   ]
  },
  {
   "cell_type": "code",
   "execution_count": null,
   "id": "9b311080-edd4-4c8c-a21a-d154f9538d6c",
   "metadata": {},
   "outputs": [],
   "source": [
    "c = s.cost\n",
    "c"
   ]
  },
  {
   "cell_type": "code",
   "execution_count": null,
   "id": "04951d2a-c4ed-49a4-aaa5-3c7edd6d2c59",
   "metadata": {},
   "outputs": [],
   "source": [
    "c()"
   ]
  },
  {
   "cell_type": "markdown",
   "id": "b43856fa-8d7e-4965-b923-791e640c3b60",
   "metadata": {},
   "source": [
    "## Decorators"
   ]
  },
  {
   "cell_type": "markdown",
   "id": "67f82846-f958-4e4d-8123-8a972b57b0f5",
   "metadata": {},
   "source": [
    "Python permet definir funcions dins a funcions, i fins i tot retornar funcions com a resultat.\n",
    "\n",
    "En realitat, una funció no és més que un tipus d'objecte a Python."
   ]
  },
  {
   "cell_type": "code",
   "execution_count": null,
   "id": "ec8fa324-07ad-410e-acec-ae6c04c17b05",
   "metadata": {},
   "outputs": [],
   "source": [
    "def parent(num):\n",
    "    def first_child():\n",
    "        return \"Laura\"\n",
    "\n",
    "    def second_child():\n",
    "        return \"Manel\"\n",
    "\n",
    "    if num == 1:\n",
    "        return first_child\n",
    "    else:\n",
    "        return second_child"
   ]
  },
  {
   "cell_type": "code",
   "execution_count": null,
   "id": "097156f7-577e-4793-af33-f3b98cbb0bcc",
   "metadata": {},
   "outputs": [],
   "source": [
    "first = parent(1)\n",
    "first"
   ]
  },
  {
   "cell_type": "code",
   "execution_count": null,
   "id": "52db4415-1c68-4dee-83f2-d790a082a457",
   "metadata": {},
   "outputs": [],
   "source": [
    "second = parent(2)\n",
    "second"
   ]
  },
  {
   "cell_type": "markdown",
   "id": "cec3f8cc-3df6-4bdb-be0b-6088a0997dc3",
   "metadata": {},
   "source": [
    "Igual que amb els mètodes, la funció no s'executa fins que no la cridem amb ()"
   ]
  },
  {
   "cell_type": "code",
   "execution_count": null,
   "id": "0626cd4f-d45d-4761-8e5b-e62a5c384160",
   "metadata": {},
   "outputs": [],
   "source": [
    "first(), second()"
   ]
  },
  {
   "cell_type": "markdown",
   "id": "fc0a4445-5bda-4265-9e9a-082155504921",
   "metadata": {},
   "source": [
    "### Wrapper functions"
   ]
  },
  {
   "cell_type": "code",
   "execution_count": null,
   "id": "92115b16-d107-43d1-a2e8-77d27cf83a7f",
   "metadata": {},
   "outputs": [],
   "source": [
    "def add(x, y):\n",
    "    return x + y\n",
    "\n",
    "\n",
    "def logged_add(x, y):\n",
    "    print(\"Calling add\")\n",
    "    return add(x, y)"
   ]
  },
  {
   "cell_type": "code",
   "execution_count": null,
   "id": "327858da-7bdd-484e-abc7-a2dda82f4a75",
   "metadata": {},
   "outputs": [],
   "source": [
    "add(3, 4)"
   ]
  },
  {
   "cell_type": "code",
   "execution_count": null,
   "id": "08540e25-198a-423e-b85d-e28ae4fa9f5d",
   "metadata": {},
   "outputs": [],
   "source": [
    "logged_add(3, 4)"
   ]
  },
  {
   "cell_type": "markdown",
   "id": "ac72cead-047a-44bd-a18a-d15f567173cb",
   "metadata": {},
   "source": [
    "Es poden crear embolcalls genèrics per a qualsevol funció"
   ]
  },
  {
   "cell_type": "code",
   "execution_count": null,
   "id": "7fdccb7e-21a5-4911-9d02-a62ee5880753",
   "metadata": {},
   "outputs": [],
   "source": [
    "def logged(func):\n",
    "    def wrapper(*args, **kwargs):\n",
    "        print(\"Calling\", func.__name__)\n",
    "        return func(*args, **kwargs)\n",
    "\n",
    "    return wrapper"
   ]
  },
  {
   "cell_type": "code",
   "execution_count": null,
   "id": "d887ee31-3a05-4487-b709-36830dbd4426",
   "metadata": {},
   "outputs": [],
   "source": [
    "logged_add = logged(add)\n",
    "logged_add"
   ]
  },
  {
   "cell_type": "code",
   "execution_count": null,
   "id": "6593cd4f-4308-45be-aede-696ac3f5b8ef",
   "metadata": {},
   "outputs": [],
   "source": [
    "logged_add(10, 23)"
   ]
  },
  {
   "cell_type": "markdown",
   "id": "be92fbab-b77e-4fa8-a839-2b2c16b72ea7",
   "metadata": {},
   "source": [
    "Sovint volem afegir una funcionalitat a una funció sense haver de modificar la resta de codi.\n",
    "Podem fer servir un \"wrapper\" per redefinir la funció"
   ]
  },
  {
   "cell_type": "code",
   "execution_count": null,
   "id": "61510feb-a66f-4a1c-9331-ef92d02c5272",
   "metadata": {},
   "outputs": [],
   "source": [
    "add = logged(add)\n",
    "add(3, 4)"
   ]
  },
  {
   "cell_type": "markdown",
   "id": "a0d48ae1-80c5-40e2-bec2-669dbe270446",
   "metadata": {},
   "source": [
    "### Decoradors"
   ]
  },
  {
   "cell_type": "markdown",
   "id": "38e11bff-85be-49e3-9b2d-441ffb5c2309",
   "metadata": {},
   "source": [
    "Quan substituïu una funció per un embolcall, normalment esteu donant una funcionalitat addicional.\n",
    "Aquest procés es coneix com a \"decoració\". Esteu \"decorant\" una funció amb algunes funcions addicionals\n",
    "Un decorador, és una funció que embolcalla una altra funció"
   ]
  },
  {
   "cell_type": "markdown",
   "id": "91ed49e6-962d-43a4-90b7-93e6c049619a",
   "metadata": {},
   "source": [
    "La definició d'una funció i embolcall gairebé sempre es produeixen juntes"
   ]
  },
  {
   "cell_type": "code",
   "execution_count": null,
   "id": "03c59402-ee30-4213-8b86-8af1c26e4ce8",
   "metadata": {},
   "outputs": [],
   "source": [
    "def add(x, y):\n",
    "    return x + y\n",
    "\n",
    "\n",
    "add = logged(add)"
   ]
  },
  {
   "cell_type": "markdown",
   "id": "2733a459-1618-471e-a3be-145eaa16391e",
   "metadata": {},
   "source": [
    "Però és fàcil equivocar-se.\n",
    "\n",
    "=> Sintaxi @decorador"
   ]
  },
  {
   "cell_type": "code",
   "execution_count": null,
   "id": "fefff067-b2e4-4f66-ad76-06b323aa8ae3",
   "metadata": {},
   "outputs": [],
   "source": [
    "@logged\n",
    "def add(x, y):\n",
    "    return x + y\n",
    "\n",
    "\n",
    "add(10, 20)"
   ]
  },
  {
   "cell_type": "markdown",
   "id": "8be46d9c-2317-4f2c-8b12-29cf988dfccb",
   "metadata": {},
   "source": [
    "Sempre que veieu un decorador, una funció està sent embolcallada.\n",
    "\n",
    "Utilitzeu un decorador quan vulgueu definir una mena de \"macro\" que inclou definicions de funcions\n",
    "Hi ha moltes aplicacions possibles:\n",
    "\n",
    "- Depuració i diagnòstic\n",
    "- Evitar la replicació de codi\n",
    "- Habilitació/desactivació de funcions opcionals"
   ]
  },
  {
   "cell_type": "markdown",
   "id": "8b5853d1-515e-4f82-bb43-d1fc533206b8",
   "metadata": {},
   "source": [
    "## Exercici 2"
   ]
  },
  {
   "cell_type": "markdown",
   "id": "9eb49c8a-f973-469a-b87e-b864e82be868",
   "metadata": {},
   "source": [
    "Suposa que no tenim accés a les funcions màgiques d'iPython per mesurar el temps.\n",
    "Crea un decorador `timethis` que permeti mesurar el temps que tarda qualsevol funció a executar-se"
   ]
  },
  {
   "cell_type": "code",
   "execution_count": null,
   "id": "76a889ba-bde6-45aa-990c-3178b1fd5e31",
   "metadata": {},
   "outputs": [],
   "source": [
    "import time\n",
    "\n",
    "time.time()"
   ]
  },
  {
   "cell_type": "code",
   "execution_count": null,
   "id": "dc6d341c-945e-48dd-a140-7ca5ac600384",
   "metadata": {},
   "outputs": [],
   "source": [
    "def timethis(func):\n",
    "    def wrapper(*args, **kwargs):\n",
    "        start = time.time()\n",
    "        r = func(*args, **kwargs)\n",
    "        end = time.time()\n",
    "        print(func.__name__, end - start)\n",
    "        return r\n",
    "\n",
    "    return wrapper"
   ]
  },
  {
   "cell_type": "markdown",
   "id": "2f613520-ec37-4cb8-919e-ef23ec188cda",
   "metadata": {},
   "source": [
    "Comprova-ho amb: "
   ]
  },
  {
   "cell_type": "code",
   "execution_count": null,
   "id": "aeacb93e-0d8c-432d-9e2f-96e74c48749c",
   "metadata": {},
   "outputs": [],
   "source": [
    "@timethis\n",
    "def calculs():\n",
    "    suma = 0\n",
    "    for i in range(int(1e7)):\n",
    "        suma += 1\n",
    "    return suma\n",
    "\n",
    "\n",
    "calculs()"
   ]
  },
  {
   "cell_type": "markdown",
   "id": "ee0dc826-2a9d-4aed-a242-ae11e3cdbec9",
   "metadata": {},
   "source": [
    "## Classes 3"
   ]
  },
  {
   "cell_type": "code",
   "execution_count": null,
   "id": "9dff85a8-e0b5-4e48-b62b-4d34bd6f1df6",
   "metadata": {},
   "outputs": [],
   "source": []
  }
 ],
 "metadata": {
  "kernelspec": {
   "display_name": "Python 3 (ipykernel)",
   "language": "python",
   "name": "python3"
  },
  "language_info": {
   "codemirror_mode": {
    "name": "ipython",
    "version": 3
   },
   "file_extension": ".py",
   "mimetype": "text/x-python",
   "name": "python",
   "nbconvert_exporter": "python",
   "pygments_lexer": "ipython3"
  }
 },
 "nbformat": 4,
 "nbformat_minor": 5
}
