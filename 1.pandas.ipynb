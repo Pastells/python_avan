{
 "cells": [
  {
   "cell_type": "markdown",
   "id": "e959f26b",
   "metadata": {},
   "source": [
    "# Repàs pandas"
   ]
  },
  {
   "cell_type": "markdown",
   "id": "1277eed7",
   "metadata": {},
   "source": [
    "## Lectura, tipus de dades i duplicats"
   ]
  },
  {
   "cell_type": "code",
   "execution_count": 1,
   "id": "2bc00575",
   "metadata": {},
   "outputs": [],
   "source": [
    "import matplotlib.pyplot as plt\n",
    "import pandas as pd\n",
    "\n",
    "%matplotlib inline"
   ]
  },
  {
   "cell_type": "markdown",
   "id": "3a6da823",
   "metadata": {},
   "source": [
    "Treballarem amb una llista de noms extrets de https://www.idescat.cat/noms/"
   ]
  },
  {
   "cell_type": "code",
   "execution_count": 2,
   "id": "46758e0f",
   "metadata": {},
   "outputs": [
    {
     "data": {
      "text/html": [
       "<div>\n",
       "<style scoped>\n",
       "    .dataframe tbody tr th:only-of-type {\n",
       "        vertical-align: middle;\n",
       "    }\n",
       "\n",
       "    .dataframe tbody tr th {\n",
       "        vertical-align: top;\n",
       "    }\n",
       "\n",
       "    .dataframe thead th {\n",
       "        text-align: right;\n",
       "    }\n",
       "</style>\n",
       "<table border=\"1\" class=\"dataframe\">\n",
       "  <thead>\n",
       "    <tr style=\"text-align: right;\">\n",
       "      <th></th>\n",
       "      <th>Pos.</th>\n",
       "      <th>Sexe</th>\n",
       "      <th>Nom</th>\n",
       "      <th>Rànquing. Freqüència</th>\n",
       "      <th>Rànquing. ‰</th>\n",
       "    </tr>\n",
       "  </thead>\n",
       "  <tbody>\n",
       "    <tr>\n",
       "      <th>0</th>\n",
       "      <td>1</td>\n",
       "      <td>H</td>\n",
       "      <td>ANTONIO</td>\n",
       "      <td>89.957</td>\n",
       "      <td>11,54</td>\n",
       "    </tr>\n",
       "    <tr>\n",
       "      <th>1</th>\n",
       "      <td>2</td>\n",
       "      <td>D</td>\n",
       "      <td>MARIA/MARÍA</td>\n",
       "      <td>88.985</td>\n",
       "      <td>11,42</td>\n",
       "    </tr>\n",
       "    <tr>\n",
       "      <th>2</th>\n",
       "      <td>3</td>\n",
       "      <td>H</td>\n",
       "      <td>JOSÉ</td>\n",
       "      <td>84.830</td>\n",
       "      <td>10,89</td>\n",
       "    </tr>\n",
       "    <tr>\n",
       "      <th>3</th>\n",
       "      <td>4</td>\n",
       "      <td>D</td>\n",
       "      <td>MONTSERRAT</td>\n",
       "      <td>75.819</td>\n",
       "      <td>9,73</td>\n",
       "    </tr>\n",
       "    <tr>\n",
       "      <th>4</th>\n",
       "      <td>5</td>\n",
       "      <td>H</td>\n",
       "      <td>JORDI</td>\n",
       "      <td>72.247</td>\n",
       "      <td>9,27</td>\n",
       "    </tr>\n",
       "    <tr>\n",
       "      <th>...</th>\n",
       "      <td>...</td>\n",
       "      <td>...</td>\n",
       "      <td>...</td>\n",
       "      <td>...</td>\n",
       "      <td>...</td>\n",
       "    </tr>\n",
       "    <tr>\n",
       "      <th>59129</th>\n",
       "      <td>46701</td>\n",
       "      <td>H</td>\n",
       "      <td>ZUPING</td>\n",
       "      <td>4.000</td>\n",
       "      <td>0,00</td>\n",
       "    </tr>\n",
       "    <tr>\n",
       "      <th>59130</th>\n",
       "      <td>46701</td>\n",
       "      <td>D</td>\n",
       "      <td>ZURI</td>\n",
       "      <td>4.000</td>\n",
       "      <td>0,00</td>\n",
       "    </tr>\n",
       "    <tr>\n",
       "      <th>59131</th>\n",
       "      <td>46701</td>\n",
       "      <td>H</td>\n",
       "      <td>ZVONIMIR</td>\n",
       "      <td>4.000</td>\n",
       "      <td>0,00</td>\n",
       "    </tr>\n",
       "    <tr>\n",
       "      <th>59132</th>\n",
       "      <td>46701</td>\n",
       "      <td>H</td>\n",
       "      <td>ZVONKO</td>\n",
       "      <td>4.000</td>\n",
       "      <td>0,00</td>\n",
       "    </tr>\n",
       "    <tr>\n",
       "      <th>59133</th>\n",
       "      <td>46701</td>\n",
       "      <td>D</td>\n",
       "      <td>ZYANYA</td>\n",
       "      <td>4.000</td>\n",
       "      <td>0,00</td>\n",
       "    </tr>\n",
       "  </tbody>\n",
       "</table>\n",
       "<p>59134 rows × 5 columns</p>\n",
       "</div>"
      ],
      "text/plain": [
       "        Pos. Sexe          Nom  Rànquing. Freqüència Rànquing. ‰\n",
       "0          1    H      ANTONIO                89.957       11,54\n",
       "1          2    D  MARIA/MARÍA                88.985       11,42\n",
       "2          3    H         JOSÉ                84.830       10,89\n",
       "3          4    D   MONTSERRAT                75.819        9,73\n",
       "4          5    H        JORDI                72.247        9,27\n",
       "...      ...  ...          ...                   ...         ...\n",
       "59129  46701    H       ZUPING                 4.000        0,00\n",
       "59130  46701    D         ZURI                 4.000        0,00\n",
       "59131  46701    H     ZVONIMIR                 4.000        0,00\n",
       "59132  46701    H       ZVONKO                 4.000        0,00\n",
       "59133  46701    D       ZYANYA                 4.000        0,00\n",
       "\n",
       "[59134 rows x 5 columns]"
      ]
     },
     "execution_count": 2,
     "metadata": {},
     "output_type": "execute_result"
    }
   ],
   "source": [
    "df = pd.read_csv(\"data/noms.csv\", sep=\";\", skiprows=7)\n",
    "df"
   ]
  },
  {
   "cell_type": "code",
   "execution_count": 13,
   "id": "747a520a-8e6b-4a28-a9bc-20c76c807edf",
   "metadata": {},
   "outputs": [
    {
     "name": "stdout",
     "output_type": "stream",
     "text": [
      "Object `sample` not found.\n"
     ]
    }
   ],
   "source": [
    "df.sort_values(by=\"Rànquing. Freqüència\").Nom[:100]"
   ]
  },
  {
   "cell_type": "code",
   "execution_count": 17,
   "id": "cb9d99ca-8f00-4a98-9ecd-c244b4723367",
   "metadata": {},
   "outputs": [
    {
     "data": {
      "text/plain": [
       "['SEBASTIÀ',\n",
       " 'MAURO',\n",
       " 'MARIA TRINIDAD/MARÍA TRINIDAD',\n",
       " 'FLORENCIO',\n",
       " 'VIOLETA',\n",
       " 'JAMILA',\n",
       " 'MARWA',\n",
       " 'AMADOR',\n",
       " 'JORDINA',\n",
       " 'VICTORIANO',\n",
       " 'FLORÈNCIA/FLORENCIA',\n",
       " 'ELNA',\n",
       " 'MARYAM',\n",
       " 'SOUAD',\n",
       " 'FATOUMATA',\n",
       " 'FIDEL',\n",
       " 'MARISOL',\n",
       " 'ITZIAR',\n",
       " 'JOSEPA',\n",
       " 'SIRA',\n",
       " 'DEREK',\n",
       " 'JOFRE',\n",
       " 'CATERINA',\n",
       " 'IVETTE',\n",
       " 'MIREYA',\n",
       " 'MARCELO',\n",
       " 'AZIZ',\n",
       " 'FLORA',\n",
       " 'AMADEO',\n",
       " 'NÈSTOR/NÉSTOR',\n",
       " 'NABIL',\n",
       " 'IMANE',\n",
       " 'JUAN IGNACIO',\n",
       " 'CÀNDIDA/CÁNDIDA',\n",
       " 'HAMID',\n",
       " 'TONI',\n",
       " 'ISIDORO',\n",
       " 'ERICA',\n",
       " 'SAMIR',\n",
       " 'CORAL',\n",
       " 'JON',\n",
       " 'FATIMA ZOHRA',\n",
       " 'LUIS FERNANDO',\n",
       " 'PEDRO ANTONIO',\n",
       " 'GRETA',\n",
       " 'GREGÒRIA/GREGORIA',\n",
       " 'ADELAIDA',\n",
       " 'EUDALD',\n",
       " 'IKRAM',\n",
       " 'MARIA BEGOÑA/MARÍA BEGOÑA']"
      ]
     },
     "execution_count": 17,
     "metadata": {},
     "output_type": "execute_result"
    }
   ],
   "source": [
    "df.sort_values(by=\"Rànquing. Freqüència\").Nom[:100].sample(50).to_list()"
   ]
  },
  {
   "cell_type": "markdown",
   "id": "25f65b4e",
   "metadata": {},
   "source": [
    "Renombrem les columnes"
   ]
  },
  {
   "cell_type": "code",
   "execution_count": null,
   "id": "c65c53c4",
   "metadata": {},
   "outputs": [],
   "source": [
    "df = df.rename(columns={\"Rànquing. Freqüència\": \"freq\", \"Rànquing. ‰\": \"permil\"})"
   ]
  },
  {
   "cell_type": "markdown",
   "id": "a773ae23",
   "metadata": {},
   "source": [
    "El primer que cal fer és mirar les dades a mà, per saber què contenen."
   ]
  },
  {
   "cell_type": "markdown",
   "id": "79e1e67e",
   "metadata": {},
   "source": [
    "En quin format està llegint les dades pandas? (`object` ve a ser `string`)\n",
    "\n",
    "Veiem que el rànquing de freqüència és un nombre real en comptes d'un enter,  i el rànquing en tant per mil no el reconeix com a numèric."
   ]
  },
  {
   "cell_type": "code",
   "execution_count": null,
   "id": "fdd6bb3c",
   "metadata": {},
   "outputs": [],
   "source": [
    "df.info()"
   ]
  },
  {
   "cell_type": "code",
   "execution_count": null,
   "id": "bfd80f0b",
   "metadata": {},
   "outputs": [],
   "source": [
    "df[\"freq\"] *= 1000\n",
    "df = df.astype({\"freq\": int})\n",
    "df[\"permil\"] = pd.to_numeric(df[\"permil\"].str.replace(\",\", \".\"))\n",
    "df.head()"
   ]
  },
  {
   "cell_type": "code",
   "execution_count": null,
   "id": "cc9d6ceb",
   "metadata": {},
   "outputs": [],
   "source": [
    "df.info()"
   ]
  },
  {
   "cell_type": "code",
   "execution_count": null,
   "id": "f69b0e5a",
   "metadata": {},
   "outputs": [],
   "source": [
    "df.describe()"
   ]
  },
  {
   "cell_type": "markdown",
   "id": "804d415c",
   "metadata": {},
   "source": [
    "Si ja sabem que totes les columnes tenen el mateix format, podem directament dir-li a pandas com es marquen els decimals i els milers"
   ]
  },
  {
   "cell_type": "code",
   "execution_count": null,
   "id": "6c2cf11b",
   "metadata": {},
   "outputs": [],
   "source": [
    "pd.read_csv(\"data/noms.csv\", sep=\";\", skiprows=7, decimal=\",\", thousands=\".\").head()"
   ]
  },
  {
   "cell_type": "markdown",
   "id": "8e49bba3",
   "metadata": {},
   "source": [
    "Hi ha algun duplicat a les dades?"
   ]
  },
  {
   "cell_type": "code",
   "execution_count": null,
   "id": "c60388ea",
   "metadata": {},
   "outputs": [],
   "source": [
    "df[df.Nom.duplicated()]"
   ]
  },
  {
   "cell_type": "markdown",
   "id": "a0e8bf20",
   "metadata": {},
   "source": [
    "Sembla que molts, però..."
   ]
  },
  {
   "cell_type": "code",
   "execution_count": null,
   "id": "11d5bfb6",
   "metadata": {},
   "outputs": [],
   "source": [
    "df[df[[\"Nom\", \"Sexe\"]].duplicated()]"
   ]
  },
  {
   "cell_type": "markdown",
   "id": "f93fac1d",
   "metadata": {},
   "source": [
    "Era perquè eren tant per `Sexe` H com D. Realment només hi ha un duplicat"
   ]
  },
  {
   "cell_type": "code",
   "execution_count": null,
   "id": "ff662c90",
   "metadata": {},
   "outputs": [],
   "source": [
    "df.query(\"Nom == 'BEGOÑA'\")"
   ]
  },
  {
   "cell_type": "markdown",
   "id": "60dfd6f0",
   "metadata": {},
   "source": [
    "## Ens falta netejar la columna `Nom`"
   ]
  },
  {
   "cell_type": "markdown",
   "id": "d8161311",
   "metadata": {},
   "source": [
    "Veiem que hi ha un nom que es llegeix com a NaN (Not a Number). Si anem a veure les dades el nom és \"NA\", que pandas interpreta com a NaN.\n",
    "Ho podem solucionar passant l'argument `keep_default_na=False` a `pd.read_csv`"
   ]
  },
  {
   "cell_type": "code",
   "execution_count": null,
   "id": "9467655b",
   "metadata": {},
   "outputs": [],
   "source": [
    "df[df.Nom.isna()]"
   ]
  },
  {
   "cell_type": "code",
   "execution_count": null,
   "id": "243dfabb",
   "metadata": {},
   "outputs": [],
   "source": [
    "df = pd.read_csv(\"data/noms.csv\", sep=\";\", skiprows=7, decimal=\",\", thousands=\".\", keep_default_na=False)\n",
    "df[df.Nom.isna()]"
   ]
  },
  {
   "cell_type": "code",
   "execution_count": null,
   "id": "43520bf2",
   "metadata": {},
   "outputs": [],
   "source": [
    "df.iloc[6334]"
   ]
  },
  {
   "cell_type": "markdown",
   "id": "b1f8ee9b",
   "metadata": {},
   "source": [
    "Molts noms tenen dues o més opcions d'escriptura, amb accent o sense; amb accent obert o tancat, etc.\n",
    "\n",
    "En podem veure la distribució i casos en particular:"
   ]
  },
  {
   "cell_type": "code",
   "execution_count": null,
   "id": "7e1ac559",
   "metadata": {},
   "outputs": [],
   "source": [
    "plt.hist(df[\"Nom\"].str.split(\"/\").str.len())\n",
    "plt.yscale(\"log\")"
   ]
  },
  {
   "cell_type": "code",
   "execution_count": null,
   "id": "5bb31cb8",
   "metadata": {},
   "outputs": [],
   "source": [
    "df[df[\"Nom\"].str.contains(\"/\").fillna(False)]"
   ]
  },
  {
   "cell_type": "markdown",
   "id": "e2479ae7",
   "metadata": {},
   "source": [
    "Per ara optarem per quedar-nos sempre amb una sola opció. A més ho passem tot a minúscules i treiem els accents."
   ]
  },
  {
   "cell_type": "code",
   "execution_count": null,
   "id": "f7f722e6",
   "metadata": {},
   "outputs": [],
   "source": [
    "def treure_accents(s):\n",
    "    s = (\n",
    "        s.replace(\"à\", \"a\")\n",
    "        .replace(\"á\", \"a\")\n",
    "        .replace(\"è\", \"e\")\n",
    "        .replace(\"é\", \"e\")\n",
    "        .replace(\"í\", \"i\")\n",
    "        .replace(\"ï\", \"i\")\n",
    "        .replace(\"ò\", \"o\")\n",
    "        .replace(\"ó\", \"o\")\n",
    "        .replace(\"ú\", \"u\")\n",
    "        .replace(\"ü\", \"u\")\n",
    "    )\n",
    "    return s"
   ]
  },
  {
   "cell_type": "code",
   "execution_count": null,
   "id": "271d098b",
   "metadata": {},
   "outputs": [],
   "source": [
    "df[\"Nom\"] = df[\"Nom\"].str.split(\"/\").str[0].str.lower().apply(treure_accents)\n",
    "df.Nom"
   ]
  },
  {
   "cell_type": "markdown",
   "id": "18c95c83",
   "metadata": {},
   "source": [
    "## Posant-ho tot junt:"
   ]
  },
  {
   "cell_type": "code",
   "execution_count": null,
   "id": "8b3c6c2e",
   "metadata": {},
   "outputs": [],
   "source": [
    "df = pd.read_csv(\"data/noms.csv\", sep=\";\", skiprows=7, decimal=\",\", thousands=\".\", keep_default_na=False)\n",
    "df = df.rename(columns={\"Rànquing. Freqüència\": \"freq\", \"Rànquing. ‰\": \"permil\"})\n",
    "df[\"Nom\"] = df[\"Nom\"].str.split(\"/\").str[0].str.lower().apply(treure_accents)\n",
    "df"
   ]
  },
  {
   "cell_type": "markdown",
   "id": "7682ceec",
   "metadata": {},
   "source": [
    "Podem guardar aquestes dades en un altre fitxer.\n",
    "\n",
    "`index=False` evita guardar la primera columna (índex)"
   ]
  },
  {
   "cell_type": "code",
   "execution_count": null,
   "id": "eb8d901a",
   "metadata": {},
   "outputs": [],
   "source": [
    "df.to_csv(\"data/noms_net.csv\", index=False)"
   ]
  },
  {
   "cell_type": "markdown",
   "id": "d9192acd",
   "metadata": {},
   "source": [
    "I el podem rellegir i comprovar que tenim les mateixes dades"
   ]
  },
  {
   "cell_type": "code",
   "execution_count": null,
   "id": "534e3790",
   "metadata": {},
   "outputs": [],
   "source": [
    "df2 = pd.read_csv(\"data/noms_net.csv\", keep_default_na=False)\n",
    "(df == df2).all()"
   ]
  }
 ],
 "metadata": {
  "kernelspec": {
   "display_name": "Python 3 (ipykernel)",
   "language": "python",
   "name": "python3"
  },
  "language_info": {
   "codemirror_mode": {
    "name": "ipython",
    "version": 3
   },
   "file_extension": ".py",
   "mimetype": "text/x-python",
   "name": "python",
   "nbconvert_exporter": "python",
   "pygments_lexer": "ipython3",
   "version": "3.10.12"
  }
 },
 "nbformat": 4,
 "nbformat_minor": 5
}
