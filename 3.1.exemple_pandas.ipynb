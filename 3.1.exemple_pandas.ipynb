{
 "cells": [
  {
   "cell_type": "markdown",
   "id": "e959f26b",
   "metadata": {},
   "source": [
    "# Exemple pandas"
   ]
  },
  {
   "cell_type": "markdown",
   "id": "1277eed7",
   "metadata": {},
   "source": [
    "## Lectura, tipus de dades i duplicats"
   ]
  },
  {
   "cell_type": "code",
   "execution_count": null,
   "id": "2bc00575",
   "metadata": {},
   "outputs": [],
   "source": [
    "import matplotlib.pyplot as plt\n",
    "import pandas as pd\n",
    "\n",
    "%matplotlib inline"
   ]
  },
  {
   "cell_type": "markdown",
   "id": "6dedddc1-21ab-4842-b41f-89840cf3cb9b",
   "metadata": {},
   "source": [
    "Treballarem amb una llista de noms extrets de https://www.idescat.cat/noms/\n",
    "\n",
    "Mira el fitxer `data/noms.csv` i llegeix-lo amb `pd.read_csv`. Tingues en compte el separador i les primeres línies de text que no ens interessen"
   ]
  },
  {
   "cell_type": "code",
   "execution_count": null,
   "id": "46758e0f",
   "metadata": {},
   "outputs": [],
   "source": [
    "df = pd.read_csv(\"data/noms.csv\")"
   ]
  },
  {
   "cell_type": "markdown",
   "id": "25f65b4e",
   "metadata": {},
   "source": [
    "Renombra les dues últimes columnes a \"freq\" i \"permil\""
   ]
  },
  {
   "cell_type": "code",
   "execution_count": null,
   "id": "c65c53c4",
   "metadata": {},
   "outputs": [],
   "source": []
  },
  {
   "cell_type": "markdown",
   "id": "a773ae23",
   "metadata": {},
   "source": [
    "El primer que cal fer és mirar les dades a mà, per saber què contenen."
   ]
  },
  {
   "cell_type": "markdown",
   "id": "79e1e67e",
   "metadata": {},
   "source": [
    "En quin format està llegint les dades pandas? (`object` ve a ser `string`)\n",
    "\n",
    "Veiem que el rànquing de freqüència és un nombre real en comptes d'un enter,  i el rànquing en tant per mil no el reconeix com a numèric (per què?). \n",
    "\n",
    "Ho podem arreglar modificant les columnes"
   ]
  },
  {
   "cell_type": "code",
   "execution_count": null,
   "id": "fdd6bb3c",
   "metadata": {},
   "outputs": [],
   "source": [
    "df.info()"
   ]
  },
  {
   "cell_type": "code",
   "execution_count": null,
   "id": "bfd80f0b",
   "metadata": {},
   "outputs": [],
   "source": [
    "df[\"freq\"] *= 1000\n",
    "df = df.astype({\"freq\": int})\n",
    "df[\"permil\"] = pd.to_numeric(df[\"permil\"].str.replace(\",\", \".\"))\n",
    "df.head()"
   ]
  },
  {
   "cell_type": "code",
   "execution_count": null,
   "id": "cc9d6ceb",
   "metadata": {},
   "outputs": [],
   "source": [
    "df.info()"
   ]
  },
  {
   "cell_type": "code",
   "execution_count": null,
   "id": "f69b0e5a",
   "metadata": {},
   "outputs": [],
   "source": [
    "df.describe()"
   ]
  },
  {
   "cell_type": "markdown",
   "id": "804d415c",
   "metadata": {},
   "source": [
    "Si ja sabem que totes les columnes tenen el mateix format, podem directament dir-li a pandas com es marquen els decimals i els milers. Busca com."
   ]
  },
  {
   "cell_type": "code",
   "execution_count": null,
   "id": "6c2cf11b",
   "metadata": {},
   "outputs": [],
   "source": []
  },
  {
   "cell_type": "markdown",
   "id": "8e49bba3",
   "metadata": {},
   "source": [
    "Hi ha algun nom duplicat a les dades? Quin(s)?"
   ]
  },
  {
   "cell_type": "code",
   "execution_count": null,
   "id": "11d5bfb6",
   "metadata": {},
   "outputs": [],
   "source": []
  },
  {
   "cell_type": "markdown",
   "id": "60dfd6f0",
   "metadata": {},
   "source": [
    "## Neteja la columna `Nom`"
   ]
  },
  {
   "cell_type": "markdown",
   "id": "39054c08-311b-4f55-b398-2876fc50767b",
   "metadata": {},
   "source": [
    "Hi ha algún valor nul? Mira què li passa"
   ]
  },
  {
   "cell_type": "code",
   "execution_count": null,
   "id": "9467655b",
   "metadata": {},
   "outputs": [],
   "source": []
  },
  {
   "cell_type": "markdown",
   "id": "d8161311",
   "metadata": {},
   "source": [
    "Veiem que hi ha un nom que es llegeix com a NaN (Not a Number). Si anem a veure les dades el nom és \"NA\", que pandas interpreta com a NaN.\n",
    "Ho podem solucionar passant l'argument `keep_default_na=False` a `pd.read_csv`"
   ]
  },
  {
   "cell_type": "code",
   "execution_count": null,
   "id": "243dfabb",
   "metadata": {},
   "outputs": [],
   "source": [
    "df = pd.read_csv(\"data/noms.csv\", sep=\";\", skiprows=7, decimal=\",\", thousands=\".\", keep_default_na=False)\n",
    "df[df.Nom.isna()]"
   ]
  },
  {
   "cell_type": "code",
   "execution_count": null,
   "id": "43520bf2",
   "metadata": {},
   "outputs": [],
   "source": [
    "df.iloc[6334]"
   ]
  },
  {
   "cell_type": "markdown",
   "id": "b1f8ee9b",
   "metadata": {},
   "source": [
    "Molts noms tenen dues o més opcions d'escriptura, amb accent o sense; amb accent obert o tancat, etc.\n",
    "\n",
    "En podem veure la distribució i casos en particular:"
   ]
  },
  {
   "cell_type": "code",
   "execution_count": null,
   "id": "7e1ac559",
   "metadata": {},
   "outputs": [],
   "source": [
    "plt.hist(df[\"Nom\"].str.split(\"/\").str.len())\n",
    "plt.yscale(\"log\")"
   ]
  },
  {
   "cell_type": "code",
   "execution_count": null,
   "id": "5bb31cb8",
   "metadata": {},
   "outputs": [],
   "source": [
    "df[df[\"Nom\"].str.contains(\"/\")]"
   ]
  },
  {
   "cell_type": "markdown",
   "id": "ec95be64-8722-4f95-be70-9cf0e33bca49",
   "metadata": {},
   "source": [
    "# Continuació"
   ]
  },
  {
   "cell_type": "code",
   "execution_count": null,
   "id": "e2738868-4d71-437a-817f-b8c834216b9c",
   "metadata": {},
   "outputs": [],
   "source": [
    "import matplotlib.pyplot as plt\n",
    "import pandas as pd\n",
    "\n",
    "%matplotlib inline"
   ]
  },
  {
   "cell_type": "code",
   "execution_count": null,
   "id": "271d098b",
   "metadata": {},
   "outputs": [],
   "source": [
    "df = pd.read_csv(\"data/noms.csv\", sep=\";\", skiprows=7, decimal=\",\", thousands=\".\", keep_default_na=False)\n",
    "df = df.rename(columns={\"Rànquing. Freqüència\": \"freq\", \"Rànquing. ‰\": \"permil\"})\n",
    "df.head()"
   ]
  },
  {
   "cell_type": "markdown",
   "id": "9d4a473c-d520-4e88-946a-17ef68f4e98d",
   "metadata": {},
   "source": [
    "Vam llegir el fitxer `noms.csv` modificant uns quants argument de `pd.read_csv` \n",
    "\n",
    "Només ens falta netejar la columna Nom.\n",
    "\n",
    "Per fer-ho farem servir `apply` de Pandas:\n",
    "\n",
    "`apply` ens permet aplicar una funció a tota una columna de cop."
   ]
  },
  {
   "cell_type": "code",
   "execution_count": null,
   "id": "5c452847-657f-4c39-ad3a-4b8f83bbe2bf",
   "metadata": {},
   "outputs": [],
   "source": [
    "def exemple(s):\n",
    "    return s.title()"
   ]
  },
  {
   "cell_type": "code",
   "execution_count": null,
   "id": "3a58e768-82b4-43f3-882f-c5021781279b",
   "metadata": {},
   "outputs": [],
   "source": [
    "df.Nom.apply(exemple)"
   ]
  },
  {
   "cell_type": "markdown",
   "id": "e3e53d7e-2136-4b4a-8198-e59b0c482a4e",
   "metadata": {},
   "source": [
    "## Exercici\n",
    "\n",
    "Fes una funció `netejar_nom` que \n",
    "1. es quedi amb la primera (o única) variació d'un nom,\n",
    "2. la passi a minúscules i\n",
    "3. tregui tots els accents i dièresis (fes servir `.replace`)"
   ]
  },
  {
   "cell_type": "code",
   "execution_count": null,
   "id": "2564b5b0-4a22-40c9-89b8-edfe7661c70f",
   "metadata": {},
   "outputs": [],
   "source": [
    "def netejar_nom(s):\n",
    "    return s"
   ]
  },
  {
   "cell_type": "code",
   "execution_count": null,
   "id": "f1c1f0dd-b3b6-4470-b2c2-c14ee27be3f8",
   "metadata": {},
   "outputs": [],
   "source": [
    "# assert retorna un error si la condició no és certa\n",
    "assert netejar_nom(\"ÀÁÈÉÍÏÒÓÚÜ/ñalkdjfa\") == \"aaeeiioouu\""
   ]
  },
  {
   "cell_type": "markdown",
   "id": "18c95c83",
   "metadata": {},
   "source": [
    "## Posa-ho tot junt:"
   ]
  },
  {
   "cell_type": "code",
   "execution_count": null,
   "id": "8b3c6c2e",
   "metadata": {},
   "outputs": [],
   "source": []
  },
  {
   "cell_type": "markdown",
   "id": "7682ceec",
   "metadata": {},
   "source": [
    "Guarda les dades netes a un altre fitxer.\n",
    "\n",
    "`index=False` evita guardar la primera columna (índex)"
   ]
  },
  {
   "cell_type": "code",
   "execution_count": null,
   "id": "eb8d901a",
   "metadata": {},
   "outputs": [],
   "source": [
    "df.to_csv(\"data/noms_net.csv\", index=False)"
   ]
  },
  {
   "cell_type": "markdown",
   "id": "d9192acd",
   "metadata": {},
   "source": [
    "I el podem rellegir i comprovar que tenim les mateixes dades"
   ]
  },
  {
   "cell_type": "code",
   "execution_count": null,
   "id": "534e3790",
   "metadata": {},
   "outputs": [],
   "source": [
    "df2 = pd.read_csv(\"data/noms_net.csv\", keep_default_na=False)\n",
    "(df == df2).all()"
   ]
  }
 ],
 "metadata": {
  "kernelspec": {
   "display_name": "Python 3 (ipykernel)",
   "language": "python",
   "name": "python3"
  },
  "language_info": {
   "codemirror_mode": {
    "name": "ipython",
    "version": 3
   },
   "file_extension": ".py",
   "mimetype": "text/x-python",
   "name": "python",
   "nbconvert_exporter": "python",
   "pygments_lexer": "ipython3"
  }
 },
 "nbformat": 4,
 "nbformat_minor": 5
}
