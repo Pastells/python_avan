{
 "cells": [
  {
   "cell_type": "markdown",
   "id": "703fc192-de59-447e-abb8-1dac7dcbb2da",
   "metadata": {},
   "source": [
    "# Programació orientada a objectes"
   ]
  },
  {
   "cell_type": "markdown",
   "id": "3341e656-44b0-4c4b-84c1-6d0c519cf372",
   "metadata": {},
   "source": [
    "Python és un llenguatge de programació multiparadigma. Admet diferents enfocaments de programació.\n",
    "\n",
    "Un dels enfocaments populars per resoldre un problema de programació és la creació d'objectes. Això es coneix com a Programació Orientada a Objectes.\n",
    "\n",
    "La programació orientada a objectes (OOP) és un paradigma de programació basat en el concepte d'objectes. L'objecte conté dades i codi: dades en forma de propietats (**atributs**) i codi, en forma de **mètodes** (les accions que l'objecte pot realitzar)."
   ]
  },
  {
   "cell_type": "markdown",
   "id": "5b6b0e9e-7386-4294-9964-a4723a7b2895",
   "metadata": {},
   "source": [
    "A Python, tot és un objecte: enters, strings, llistes... Una classe és el disseny per a l'objecte, o un constructor d'objectes.\n",
    "\n",
    "**Instanciem** una classe per crear un objecte. La classe defineix els atributs i el comportament de l'objecte, mentre que l'objecte, en canvi, representa la classe."
   ]
  },
  {
   "cell_type": "code",
   "execution_count": null,
   "id": "60e1b992-164b-456b-984d-5db97a788208",
   "metadata": {},
   "outputs": [],
   "source": [
    "class Persona:\n",
    "\n",
    "    def __init__(self, nom, edat):\n",
    "        self.nom = nom\n",
    "        self.edat = edat\n",
    "\n",
    "    def envellir(self):\n",
    "        self.edat += 1"
   ]
  },
  {
   "cell_type": "code",
   "execution_count": null,
   "id": "dfa8bcc1-f9ec-4cdc-b8cd-821e7e09f2cb",
   "metadata": {},
   "outputs": [],
   "source": [
    "alba = Persona(\"alba\", 27)\n",
    "alba"
   ]
  },
  {
   "cell_type": "code",
   "execution_count": null,
   "id": "666f100c-4e7a-43eb-a05b-027b624d1667",
   "metadata": {},
   "outputs": [],
   "source": [
    "alba.nom, alba.edat"
   ]
  },
  {
   "cell_type": "code",
   "execution_count": null,
   "id": "e942d071-c1f9-4414-a990-6d29dddc5433",
   "metadata": {},
   "outputs": [],
   "source": [
    "alba.envellir()\n",
    "alba.nom, alba.edat"
   ]
  },
  {
   "cell_type": "code",
   "execution_count": null,
   "id": "3cc37632-215b-48b3-95dc-17125822a254",
   "metadata": {},
   "outputs": [],
   "source": [
    "berta = Persona(\"Berta\", 35)\n",
    "carlos = Persona(\"Carlos\", 23)"
   ]
  },
  {
   "cell_type": "markdown",
   "id": "124fe489-f47e-444a-873d-8859a31589ab",
   "metadata": {},
   "source": [
    "## Exemple"
   ]
  },
  {
   "cell_type": "markdown",
   "id": "465973a6-b73d-4d67-81c9-283b268e1aad",
   "metadata": {},
   "source": [
    "Comencem amb un programa molt senzill"
   ]
  },
  {
   "cell_type": "code",
   "execution_count": null,
   "id": "ebdcf8aa-c9c7-41b3-84ba-19791d8189ff",
   "metadata": {},
   "outputs": [],
   "source": [
    "nom = input(\"Nom: \")\n",
    "edat = input(\"Edat: \")\n",
    "print(f\"{nom} té {edat} anys\")"
   ]
  },
  {
   "cell_type": "markdown",
   "id": "6f469f8b-deb8-45f0-8797-30aa75635ca6",
   "metadata": {},
   "source": [
    "Creem dues funcions per abstraure la funcionalitat.\n",
    "\n",
    "Encara que estem dins un quadern, creem una funció main, per acabar copiant el codi a un executable"
   ]
  },
  {
   "cell_type": "code",
   "execution_count": null,
   "id": "251ec6ae-f403-4da5-8a7a-a5250bad26e2",
   "metadata": {},
   "outputs": [],
   "source": [
    "def main():\n",
    "    nom = get_name()\n",
    "    edat = get_age()\n",
    "    print(f\"{nom} té {edat} anys\")\n",
    "\n",
    "\n",
    "def get_name():\n",
    "    return input(\"Nom: \")\n",
    "\n",
    "\n",
    "def get_age():\n",
    "    return input(\"Edat: \")\n",
    "\n",
    "\n",
    "if __name__ == \"__main__\":\n",
    "    main()"
   ]
  },
  {
   "cell_type": "code",
   "execution_count": null,
   "id": "0b4d58b3-3f1a-4361-a175-6f97331417a2",
   "metadata": {},
   "outputs": [],
   "source": [
    "def main():\n",
    "    nom, edat = get_person()\n",
    "    print(f\"{nom} té {edat} anys\")\n",
    "\n",
    "\n",
    "def get_person():\n",
    "    nom = get_name()\n",
    "    edat = get_age()\n",
    "    return nom, edat\n",
    "\n",
    "\n",
    "if __name__ == \"__main__\":\n",
    "    main()"
   ]
  },
  {
   "cell_type": "markdown",
   "id": "63aecaef-e1b7-4799-bd16-cf4112df6047",
   "metadata": {},
   "source": [
    "## Classes 1"
   ]
  },
  {
   "cell_type": "markdown",
   "id": "885ecdcf-ce3d-476b-8953-7c7177b30f83",
   "metadata": {},
   "source": [
    "- Una classe es crea amb `class`. Per convenció es posa amb \"CamelCase\"\n",
    "- Les classes tenen un primer mètode `__init__` que es crida quan instanciem la classe.\n",
    "- El terme `self` s'ha de posar com a primer argument de cada mètode de la classe."
   ]
  },
  {
   "cell_type": "code",
   "execution_count": null,
   "id": "062cbbf8-5b72-4113-926e-e03595c44188",
   "metadata": {},
   "outputs": [],
   "source": [
    "class Player:\n",
    "    def __init__(self, x, y):\n",
    "        self.x = x\n",
    "        self.y = y\n",
    "        self.health = 100\n",
    "\n",
    "    def move(self, dx, dy):\n",
    "        self.x += dx\n",
    "        self.y += dy\n",
    "\n",
    "    def damage(self, pts):\n",
    "        self.health -= pts"
   ]
  },
  {
   "cell_type": "markdown",
   "id": "2f4b07ae-85e3-4f1a-b5e7-6a3b9ae4ca64",
   "metadata": {},
   "source": [
    "Bàsicament una classe és un conjunt de funcions que operen sobre les **instàncies**.\n",
    "\n",
    "Les instàncies són els \"objectes\" que manipulem.\n",
    "En podem crear tantes com vulguem d'una classe.\n",
    "\n",
    "La classe per si sola no fa res."
   ]
  },
  {
   "cell_type": "code",
   "execution_count": null,
   "id": "129ce713-1e41-4d68-abdd-b40b7c93d3f7",
   "metadata": {},
   "outputs": [],
   "source": [
    "a = Player(2, 3)\n",
    "b = Player(10, 20)"
   ]
  },
  {
   "cell_type": "markdown",
   "id": "8b804513-55da-4def-984a-e4802510dce3",
   "metadata": {},
   "source": [
    "Cada instància té les seves pròpies dades (atributs)"
   ]
  },
  {
   "cell_type": "code",
   "execution_count": null,
   "id": "2ee2a07c-d20d-4581-bbbf-6766c3281060",
   "metadata": {},
   "outputs": [],
   "source": [
    "a.x"
   ]
  },
  {
   "cell_type": "code",
   "execution_count": null,
   "id": "8914e6f1-3c2d-4a37-9bfb-b5430c669856",
   "metadata": {},
   "outputs": [],
   "source": [
    "b.x"
   ]
  },
  {
   "cell_type": "markdown",
   "id": "3cf8e882-e806-4c95-8c29-997ead70ec67",
   "metadata": {},
   "source": [
    "Totes les variables guardades dins a self són dades de la instància. S'inicialitzen dins de `__init__()`\n",
    "\n",
    "```python\n",
    "class Player:\n",
    "    def __init__(self, x, y):\n",
    "        self.x = x\n",
    "        self.y = y\n",
    "        self.health = 100\n",
    "```\n",
    "\n",
    "No hi ha restriccions sobre el número o el tipus d'atributs que es guarden"
   ]
  },
  {
   "cell_type": "markdown",
   "id": "44d47b39-2990-41a3-84c6-3fd6f45d3ed8",
   "metadata": {},
   "source": [
    "## Mètodes\n",
    "\n",
    "Un mètode és una funció aplicada sobre una instància d'un objecte.\n",
    "\n",
    "```python\n",
    "class Player:\n",
    "    ...\n",
    "    def move(self, dx, dy):\n",
    "        self.x += dx\n",
    "        self.y += dy\n",
    "```\n",
    "\n",
    "El primer argument (`self`) és el propi objecte. Cal posar-lo quan definim el mètode però no quan es crida."
   ]
  },
  {
   "cell_type": "code",
   "execution_count": null,
   "id": "e5c991d9-d4b4-486f-a71c-1131d1ef41ed",
   "metadata": {},
   "outputs": [],
   "source": [
    "a.move(1, 2)\n",
    "a.x, a.y"
   ]
  },
  {
   "cell_type": "markdown",
   "id": "de5745ce-3ce5-460a-96ff-f1ee6e2e76d4",
   "metadata": {},
   "source": [
    "Les classes no defineixen un abast (\"scope\"). Sempre que vulguem referir-nos a un atribut o mètode hem de fer-ho amb `self`"
   ]
  },
  {
   "cell_type": "code",
   "execution_count": null,
   "id": "55db25a6",
   "metadata": {},
   "outputs": [],
   "source": [
    "class Player:\n",
    "    def __init__(self, x, y):\n",
    "        self.x = x\n",
    "        self.y = y\n",
    "        self.health = 100\n",
    "\n",
    "    def move(self, dx, dy):\n",
    "        self.x += dx\n",
    "        self.y += dy\n",
    "\n",
    "    def damage(self, pts):\n",
    "        self.health -= pts\n",
    "\n",
    "    def left(self, amount):\n",
    "        move(-amt, 0)  # no hi ha una funció move global, donarà error\n",
    "        self.move(-amt, 0)"
   ]
  },
  {
   "cell_type": "code",
   "execution_count": null,
   "id": "6a576a7c-8e4c-42db-81c1-6939511a79ba",
   "metadata": {},
   "outputs": [],
   "source": [
    "a = Player(3, 4)\n",
    "a.left(3)"
   ]
  },
  {
   "cell_type": "markdown",
   "id": "3135a7c7-2d56-4230-9d79-b3ab48b240d9",
   "metadata": {},
   "source": [
    "## Exercici 1"
   ]
  },
  {
   "cell_type": "code",
   "execution_count": null,
   "id": "956ac677-0205-4bad-ab06-82d78ea0ffe5",
   "metadata": {},
   "outputs": [],
   "source": [
    "import csv"
   ]
  },
  {
   "cell_type": "code",
   "execution_count": null,
   "id": "67fc0468-6326-4fb1-8c3b-129149f5f8eb",
   "metadata": {},
   "outputs": [],
   "source": [
    "class Stock:\n",
    "    def __init__(self, name, shares, price):\n",
    "        self.name = name\n",
    "        self.shares = shares\n",
    "        self.price = price\n",
    "\n",
    "    def cost(self):\n",
    "        return self.shares * self.price\n",
    "\n",
    "\n",
    "s = Stock(\"GOOG\", 100, 490.10)\n",
    "s.cost()"
   ]
  },
  {
   "cell_type": "markdown",
   "id": "8807528b-930f-4062-95ef-242408decb82",
   "metadata": {},
   "source": [
    "### (a) Afegeix un nou mètode\n",
    "\n",
    "Afegiu un nou mètode `sell(nshares)` a Stock que vengui un nombre determinat d'accions disminuint-ne el recompte. Feu que funcioni així:\n",
    "\n",
    "```python\n",
    ">>> s = Stock('GOOG',100,490.10)\n",
    ">>> s.shares\n",
    "100\n",
    ">>> s.sell(25)\n",
    ">>> s.shares\n",
    "75\n",
    "```"
   ]
  },
  {
   "cell_type": "code",
   "execution_count": null,
   "id": "a098bee4-1a30-4218-ba27-43f4e7e3eea3",
   "metadata": {},
   "outputs": [],
   "source": [
    "s = Stock(\"GOOG\", 100, 490.10)\n",
    "s.shares"
   ]
  },
  {
   "cell_type": "code",
   "execution_count": null,
   "id": "38fbd81a-a338-450e-9c8c-5779fdd4f7c6",
   "metadata": {},
   "outputs": [],
   "source": [
    "s.sell(25)\n",
    "s.shares"
   ]
  },
  {
   "cell_type": "markdown",
   "id": "c82f761c-741f-4299-a0d1-b5acaa528f8e",
   "metadata": {},
   "source": [
    "### (b) Llegeix una cartera\n",
    "\n",
    "Crea una funció `read_portfolio()` que llegeixi les files de `portfolio.csv` com a instàncies de Stock:\n",
    "\n",
    "```python\n",
    ">>> portfolio = read_portfolio('data/portfolio.csv')\n",
    ">>> for s in portfolio:\n",
    "        print(s)\n",
    "\n",
    "<__main__.Stock object at 0x3902f0>\n",
    "<__main__.Stock object at 0x390270>\n",
    "<__main__.Stock object at 0x390330>\n",
    "<__main__.Stock object at 0x390370>\n",
    "<__main__.Stock object at 0x3903b0>\n",
    "<__main__.Stock object at 0x3903f0>\n",
    "<__main__.Stock object at 0x390430>\n",
    ">>>\n",
    "```"
   ]
  },
  {
   "cell_type": "code",
   "execution_count": null,
   "id": "eacf4727-b494-485b-9725-f44e9ba797b7",
   "metadata": {},
   "outputs": [],
   "source": [
    "! cat data/portfolio.csv"
   ]
  },
  {
   "cell_type": "code",
   "execution_count": null,
   "id": "37aa34db-73ca-4f72-a481-f69fc457ac26",
   "metadata": {},
   "outputs": [],
   "source": [
    "def read_portfolio(filename):\n",
    "    \"\"\"\n",
    "    Llegeix un fitxer CSV de dades d'accions en una llista de Stocks\n",
    "    \"\"\"\n",
    "\n",
    "    portfolio = []\n",
    "    with open(filename) as f:\n",
    "        rows = csv.reader(f)\n",
    "        headers = next(rows)\n",
    "        for row in rows:\n",
    "            #\n",
    "            portfolio.append(record)\n",
    "    return portfolio"
   ]
  },
  {
   "cell_type": "code",
   "execution_count": null,
   "id": "253caae0-f4f8-4661-895e-63e41ee37483",
   "metadata": {},
   "outputs": [],
   "source": [
    "portfolio = read_portfolio(\"data/portfolio.csv\")\n",
    "for s in portfolio:\n",
    "    print(s)"
   ]
  },
  {
   "cell_type": "markdown",
   "id": "3767e736-da9f-4ba6-bedd-13e380b9ac4b",
   "metadata": {},
   "source": [
    "### Imprimeix una taula \n",
    "\n",
    "Mostra les dades llegides a la part (b) en format taula."
   ]
  },
  {
   "cell_type": "code",
   "execution_count": null,
   "id": "1ccb518e-5a75-48ed-bb79-d718875a0a77",
   "metadata": {},
   "outputs": [],
   "source": [
    "def print_portfolio(portfolio):\n",
    "    \"\"\"\n",
    "    Make a nicely formatted table showing stock data\n",
    "    \"\"\"\n",
    "    print(\"%10s %10s %10s\" % (\"name\", \"shares\", \"price\"))\n",
    "    print((\"-\" * 10 + \" \") * 3)\n",
    "    for s in portfolio:\n",
    "        print(\"%10s %10d %10.2f\" % (s.name, s.shares, s.price))\n",
    "\n",
    "\n",
    "print_portfolio(portfolio)"
   ]
  },
  {
   "cell_type": "markdown",
   "id": "8468dd5c-57b6-4b08-8280-025dfa31af45",
   "metadata": {},
   "source": [
    "## Classes 2"
   ]
  },
  {
   "cell_type": "markdown",
   "id": "a9320cb2-9d7c-4ebb-9864-aa680f604c1e",
   "metadata": {},
   "source": [
    "Només hi ha 3 operacions per defecte a les instàncies"
   ]
  },
  {
   "cell_type": "code",
   "execution_count": null,
   "id": "ae7c5b36-e36c-4496-900e-197fa57cd5a6",
   "metadata": {},
   "outputs": [],
   "source": [
    "a.x  # accedir a l'atribut\n",
    "a.z = 80  # canviar o crear un nou atribut\n",
    "del a.x  # esborrar un atribut"
   ]
  },
  {
   "cell_type": "code",
   "execution_count": null,
   "id": "9a14dbd0-fe8d-4882-b526-1fcd58f3e843",
   "metadata": {},
   "outputs": [],
   "source": [
    "a.z"
   ]
  },
  {
   "cell_type": "code",
   "execution_count": null,
   "id": "36eb8553-f2f6-47d6-b3e9-ce6df371b24c",
   "metadata": {},
   "outputs": [],
   "source": [
    "a.x"
   ]
  },
  {
   "cell_type": "markdown",
   "id": "0747fa26-d5d7-4591-8919-981231b13777",
   "metadata": {},
   "source": [
    "### Accés a atributs\n",
    "\n",
    "Aquestes funcions es poden utilitzar per manipular atributs amb el seu nom\n",
    "\n",
    "```python\n",
    "getattr(obj, 'name')         # obj.name\n",
    "setattr(obj, 'name', value)  # obj.name = value \n",
    "delattr(obj, 'name')         # del obj.name\n",
    "hasattr(obj, 'name')         # veure si existeix l'atribut\n",
    "```"
   ]
  },
  {
   "cell_type": "code",
   "execution_count": null,
   "id": "6cca4721-000d-4db3-9d79-b6ada196e9d0",
   "metadata": {},
   "outputs": [],
   "source": [
    "# Exemple\n",
    "s = Stock(\"GOOG\", 100, 490.10)\n",
    "\n",
    "attributes = [\"name\", \"shares\", \"price\", \"rodona\"]\n",
    "for attr in attributes:\n",
    "    # Igual que per diccionaris, podem donar un valor per defecte\n",
    "    print(attr, \"=\", getattr(s, attr, None))"
   ]
  },
  {
   "cell_type": "markdown",
   "id": "e0abe37b-343c-4207-959e-aa5df67e46cd",
   "metadata": {},
   "source": [
    "### Invocació d'un mètode"
   ]
  },
  {
   "cell_type": "markdown",
   "id": "9fc4142a-67b2-48f5-a6be-56c767a0ee99",
   "metadata": {},
   "source": [
    "Alguna vegada haureu intentat cridar un mètode però us heu deixat els parèntesis"
   ]
  },
  {
   "cell_type": "code",
   "execution_count": null,
   "id": "e3242bd2-757b-4ac7-86f3-12e3d4da9fd7",
   "metadata": {},
   "outputs": [],
   "source": [
    "\"a\".strip"
   ]
  },
  {
   "cell_type": "markdown",
   "id": "769e6385-504f-41ed-b3d1-d5c8795d9e61",
   "metadata": {},
   "source": [
    "Fixeu-vos que no us dona un error, sinó que retorna el pròpi mètode.\n",
    "\n",
    "I és que invocar un mètode és un procés amb 2 passos:\n",
    "\n",
    "1. Cerca: L'operador **.**\n",
    "2. Execució: L'operador **()**"
   ]
  },
  {
   "cell_type": "code",
   "execution_count": null,
   "id": "9b311080-edd4-4c8c-a21a-d154f9538d6c",
   "metadata": {},
   "outputs": [],
   "source": [
    "c = s.cost\n",
    "c"
   ]
  },
  {
   "cell_type": "code",
   "execution_count": null,
   "id": "04951d2a-c4ed-49a4-aaa5-3c7edd6d2c59",
   "metadata": {},
   "outputs": [],
   "source": [
    "c()"
   ]
  },
  {
   "cell_type": "markdown",
   "id": "b43856fa-8d7e-4965-b923-791e640c3b60",
   "metadata": {},
   "source": [
    "## Decorators"
   ]
  },
  {
   "cell_type": "markdown",
   "id": "67f82846-f958-4e4d-8123-8a972b57b0f5",
   "metadata": {},
   "source": [
    "Python permet definir funcions dins a funcions, i fins i tot retornar funcions com a resultat.\n",
    "\n",
    "En realitat, una funció no és més que un tipus d'objecte a Python."
   ]
  },
  {
   "cell_type": "code",
   "execution_count": null,
   "id": "ec8fa324-07ad-410e-acec-ae6c04c17b05",
   "metadata": {},
   "outputs": [],
   "source": [
    "def parent(num):\n",
    "    def first_child():\n",
    "        return \"Laura\"\n",
    "\n",
    "    def second_child():\n",
    "        return \"Manel\"\n",
    "\n",
    "    if num == 1:\n",
    "        return first_child\n",
    "    else:\n",
    "        return second_child"
   ]
  },
  {
   "cell_type": "code",
   "execution_count": null,
   "id": "097156f7-577e-4793-af33-f3b98cbb0bcc",
   "metadata": {},
   "outputs": [],
   "source": [
    "first = parent(1)\n",
    "first"
   ]
  },
  {
   "cell_type": "code",
   "execution_count": null,
   "id": "52db4415-1c68-4dee-83f2-d790a082a457",
   "metadata": {},
   "outputs": [],
   "source": [
    "second = parent(2)\n",
    "second"
   ]
  },
  {
   "cell_type": "markdown",
   "id": "cec3f8cc-3df6-4bdb-be0b-6088a0997dc3",
   "metadata": {},
   "source": [
    "Igual que amb els mètodes, la funció no s'executa fins que no la cridem amb ()"
   ]
  },
  {
   "cell_type": "code",
   "execution_count": null,
   "id": "0626cd4f-d45d-4761-8e5b-e62a5c384160",
   "metadata": {},
   "outputs": [],
   "source": [
    "first(), second()"
   ]
  },
  {
   "cell_type": "markdown",
   "id": "fc0a4445-5bda-4265-9e9a-082155504921",
   "metadata": {},
   "source": [
    "### Wrapper functions"
   ]
  },
  {
   "cell_type": "code",
   "execution_count": null,
   "id": "92115b16-d107-43d1-a2e8-77d27cf83a7f",
   "metadata": {},
   "outputs": [],
   "source": [
    "def add(x, y):\n",
    "    return x + y\n",
    "\n",
    "\n",
    "def logged_add(x, y):\n",
    "    print(\"Calling add\")\n",
    "    return add(x, y)"
   ]
  },
  {
   "cell_type": "code",
   "execution_count": null,
   "id": "327858da-7bdd-484e-abc7-a2dda82f4a75",
   "metadata": {},
   "outputs": [],
   "source": [
    "add(3, 4)"
   ]
  },
  {
   "cell_type": "code",
   "execution_count": null,
   "id": "08540e25-198a-423e-b85d-e28ae4fa9f5d",
   "metadata": {},
   "outputs": [],
   "source": [
    "logged_add(3, 4)"
   ]
  },
  {
   "cell_type": "markdown",
   "id": "ac72cead-047a-44bd-a18a-d15f567173cb",
   "metadata": {},
   "source": [
    "Es poden crear embolcalls genèrics per a qualsevol funció"
   ]
  },
  {
   "cell_type": "code",
   "execution_count": null,
   "id": "7fdccb7e-21a5-4911-9d02-a62ee5880753",
   "metadata": {},
   "outputs": [],
   "source": [
    "def logged(func):\n",
    "    def wrapper(*args, **kwargs):\n",
    "        print(\"Calling\", func.__name__)\n",
    "        return func(*args, **kwargs)\n",
    "\n",
    "    return wrapper"
   ]
  },
  {
   "cell_type": "code",
   "execution_count": null,
   "id": "d887ee31-3a05-4487-b709-36830dbd4426",
   "metadata": {},
   "outputs": [],
   "source": [
    "logged_add = logged(add)\n",
    "logged_add"
   ]
  },
  {
   "cell_type": "code",
   "execution_count": null,
   "id": "6593cd4f-4308-45be-aede-696ac3f5b8ef",
   "metadata": {},
   "outputs": [],
   "source": [
    "logged_add(10, 23)"
   ]
  },
  {
   "cell_type": "markdown",
   "id": "be92fbab-b77e-4fa8-a839-2b2c16b72ea7",
   "metadata": {},
   "source": [
    "Sovint volem afegir una funcionalitat a una funció sense haver de modificar la resta de codi.\n",
    "Podem fer servir un \"wrapper\" per redefinir la funció"
   ]
  },
  {
   "cell_type": "code",
   "execution_count": null,
   "id": "61510feb-a66f-4a1c-9331-ef92d02c5272",
   "metadata": {},
   "outputs": [],
   "source": [
    "add = logged(add)\n",
    "add(3, 4)"
   ]
  },
  {
   "cell_type": "markdown",
   "id": "a0d48ae1-80c5-40e2-bec2-669dbe270446",
   "metadata": {},
   "source": [
    "### Decoradors"
   ]
  },
  {
   "cell_type": "markdown",
   "id": "38e11bff-85be-49e3-9b2d-441ffb5c2309",
   "metadata": {},
   "source": [
    "Quan substituïu una funció per un embolcall, normalment esteu donant una funcionalitat addicional.\n",
    "Aquest procés es coneix com a \"decoració\". Esteu \"decorant\" una funció amb algunes funcions addicionals\n",
    "Un decorador, és una funció que embolcalla una altra funció"
   ]
  },
  {
   "cell_type": "markdown",
   "id": "91ed49e6-962d-43a4-90b7-93e6c049619a",
   "metadata": {},
   "source": [
    "La definició d'una funció i embolcall gairebé sempre es produeixen juntes"
   ]
  },
  {
   "cell_type": "code",
   "execution_count": null,
   "id": "03c59402-ee30-4213-8b86-8af1c26e4ce8",
   "metadata": {},
   "outputs": [],
   "source": [
    "def add(x, y):\n",
    "    return x + y\n",
    "\n",
    "\n",
    "add = logged(add)"
   ]
  },
  {
   "cell_type": "markdown",
   "id": "2733a459-1618-471e-a3be-145eaa16391e",
   "metadata": {},
   "source": [
    "Però és fàcil equivocar-se.\n",
    "\n",
    "=> Sintaxi @decorador"
   ]
  },
  {
   "cell_type": "code",
   "execution_count": null,
   "id": "fefff067-b2e4-4f66-ad76-06b323aa8ae3",
   "metadata": {},
   "outputs": [],
   "source": [
    "@logged\n",
    "def add(x, y):\n",
    "    return x + y\n",
    "\n",
    "\n",
    "add(10, 20)"
   ]
  },
  {
   "cell_type": "markdown",
   "id": "8be46d9c-2317-4f2c-8b12-29cf988dfccb",
   "metadata": {},
   "source": [
    "Sempre que veieu un decorador, una funció està sent embolcallada.\n",
    "\n",
    "Utilitzeu un decorador quan vulgueu definir una mena de \"macro\" que inclou definicions de funcions\n",
    "Hi ha moltes aplicacions possibles:\n",
    "\n",
    "- Depuració i diagnòstic\n",
    "- Evitar la replicació de codi\n",
    "- Habilitació/desactivació de funcions opcionals"
   ]
  },
  {
   "cell_type": "markdown",
   "id": "8b5853d1-515e-4f82-bb43-d1fc533206b8",
   "metadata": {},
   "source": [
    "## Exercici 2"
   ]
  },
  {
   "cell_type": "markdown",
   "id": "9eb49c8a-f973-469a-b87e-b864e82be868",
   "metadata": {},
   "source": [
    "Suposa que no tenim accés a les funcions màgiques d'iPython per mesurar el temps.\n",
    "Crea un decorador `timethis` que permeti mesurar el temps que tarda qualsevol funció a executar-se"
   ]
  },
  {
   "cell_type": "code",
   "execution_count": null,
   "id": "76a889ba-bde6-45aa-990c-3178b1fd5e31",
   "metadata": {},
   "outputs": [],
   "source": [
    "import time\n",
    "\n",
    "time.time()"
   ]
  },
  {
   "cell_type": "markdown",
   "id": "2f613520-ec37-4cb8-919e-ef23ec188cda",
   "metadata": {},
   "source": [
    "Comprova-ho amb: "
   ]
  },
  {
   "cell_type": "code",
   "execution_count": null,
   "id": "aeacb93e-0d8c-432d-9e2f-96e74c48749c",
   "metadata": {},
   "outputs": [],
   "source": [
    "@timethis\n",
    "def calculs():\n",
    "    suma = 0\n",
    "    for i in range(int(1e7)):\n",
    "        suma += 1\n",
    "    return suma\n",
    "\n",
    "\n",
    "calculs()"
   ]
  },
  {
   "cell_type": "markdown",
   "id": "ee0dc826-2a9d-4aed-a242-ae11e3cdbec9",
   "metadata": {},
   "source": [
    "## Classes 3"
   ]
  },
  {
   "cell_type": "markdown",
   "id": "9bde245a-9913-46ca-8cd8-397b5492d0cf",
   "metadata": {},
   "source": [
    "La definició de la classe és compartida per totes les instàncies\n",
    "\n",
    "- Hi ha una sola funció, no una funció per a cada instància."
   ]
  },
  {
   "cell_type": "markdown",
   "id": "9f6cfb41-02ff-421d-860d-a115a5599665",
   "metadata": {},
   "source": [
    "### Class variables\n",
    "\n",
    "- Podem definir variables dins la classe"
   ]
  },
  {
   "cell_type": "code",
   "execution_count": null,
   "id": "9dff85a8-e0b5-4e48-b62b-4d34bd6f1df6",
   "metadata": {},
   "outputs": [],
   "source": [
    "class SomeClass:\n",
    "    debug = False\n",
    "\n",
    "    def __init__(self, x):\n",
    "        self.x = x"
   ]
  },
  {
   "cell_type": "code",
   "execution_count": null,
   "id": "c23ce45d-3668-4365-ad16-7597481333b6",
   "metadata": {},
   "outputs": [],
   "source": [
    "# la variable està definida a la pròpia classe\n",
    "SomeClass.debug"
   ]
  },
  {
   "cell_type": "code",
   "execution_count": null,
   "id": "69c7abce-d1bb-45e9-ae49-e81f1e2f2b5d",
   "metadata": {},
   "outputs": [],
   "source": [
    "# Recorda que els atributs NO estan definits per la classe, sinó per les instàncies\n",
    "SomeClass.x"
   ]
  },
  {
   "cell_type": "code",
   "execution_count": null,
   "id": "15ca0ee8-ac4b-416e-8260-de6e7699cc57",
   "metadata": {},
   "outputs": [],
   "source": [
    "# La variable de la classe també està definida dins la instància\n",
    "s = SomeClass(42)\n",
    "s.debug"
   ]
  },
  {
   "cell_type": "code",
   "execution_count": null,
   "id": "7e0ea9a6-48e4-4e64-92d0-99bb206e4420",
   "metadata": {},
   "outputs": [],
   "source": [
    "# Si la canviem dins la instància no afecta la classe\n",
    "s.debug = True\n",
    "s.debug"
   ]
  },
  {
   "cell_type": "code",
   "execution_count": null,
   "id": "c6fed585-a0a2-4664-b099-29015def4d56",
   "metadata": {},
   "outputs": [],
   "source": [
    "SomeClass.debug"
   ]
  },
  {
   "cell_type": "code",
   "execution_count": null,
   "id": "64651d93-e3b7-43d5-b74e-54f93a4e8415",
   "metadata": {},
   "outputs": [],
   "source": [
    "# Però al revés sí\n",
    "SomeClass.debug = True\n",
    "SomeClass.debug"
   ]
  },
  {
   "cell_type": "code",
   "execution_count": null,
   "id": "dfc30002-6f92-4d18-8441-0aa5895c5b8e",
   "metadata": {},
   "outputs": [],
   "source": [
    "s2 = SomeClass(42)\n",
    "s2.debug"
   ]
  },
  {
   "cell_type": "markdown",
   "id": "5494b093-0858-4b01-9c5c-4bf2d9e67e46",
   "metadata": {},
   "source": [
    "Per exemple, té sentit fer servir una variable a nivell de classe per configuracions globals"
   ]
  },
  {
   "cell_type": "code",
   "execution_count": null,
   "id": "714b16a7-1552-43e0-ae45-4785414ef2b4",
   "metadata": {},
   "outputs": [],
   "source": [
    "class Date:\n",
    "    datefmt = \"{year}-{month}-{day}\"\n",
    "\n",
    "    def __init__(self, year, month, day):\n",
    "        self.year = year\n",
    "        self.month = month\n",
    "        self.day = day\n",
    "\n",
    "    # Què creieu que fa __str__?\n",
    "    def __str__(self):\n",
    "        return self.datefmt.format(year=self.year, month=self.month, day=self.day)"
   ]
  },
  {
   "cell_type": "code",
   "execution_count": null,
   "id": "0a68bba2-8123-4f86-8712-1586072d5f63",
   "metadata": {},
   "outputs": [],
   "source": [
    "d = Date(2024, 7, 11)"
   ]
  },
  {
   "cell_type": "markdown",
   "id": "3b1fb107-8059-4697-b9c9-672851586846",
   "metadata": {},
   "source": [
    "### Class methods"
   ]
  },
  {
   "cell_type": "markdown",
   "id": "dbfbc2ed-8230-4dfb-a1ef-5d83b4fb56d4",
   "metadata": {},
   "source": [
    "També existeixen mètodes de la classe. Es defineixen amb el decorador `@classmethod`.\n",
    "\n",
    "Normalment es fan servir com a manera alternativa d'instanciar"
   ]
  },
  {
   "cell_type": "code",
   "execution_count": null,
   "id": "548566de-3d1a-4c4b-b013-ebbe7497e51f",
   "metadata": {},
   "outputs": [],
   "source": [
    "import time\n",
    "\n",
    "\n",
    "class Date:\n",
    "    datefmt = \"{year}-{month}-{day}\"\n",
    "\n",
    "    def __init__(self, year, month, day):\n",
    "        self.year = year\n",
    "        self.month = month\n",
    "        self.day = day\n",
    "\n",
    "    # en comptes de self (instància) pren l'argument cls (classe)\n",
    "    @classmethod\n",
    "    def today(cls):\n",
    "        tm = time.localtime()\n",
    "        # I retorna una instància, cridant __init__\n",
    "        return cls(tm.tm_year, tm.tm_mon, tm.tm_mday)\n",
    "\n",
    "    def __str__(self):\n",
    "        return self.datefmt.format(year=self.year, month=self.month, day=self.day)"
   ]
  },
  {
   "cell_type": "code",
   "execution_count": null,
   "id": "ba7cf8e1-9802-4607-bc2b-a0bc8456fe99",
   "metadata": {},
   "outputs": [],
   "source": [
    "d = Date.today()\n",
    "print(d)"
   ]
  },
  {
   "cell_type": "markdown",
   "id": "255d8676-bf2a-4fa2-9c0c-b6627163b136",
   "metadata": {},
   "source": [
    "### Static Methods"
   ]
  },
  {
   "cell_type": "markdown",
   "id": "28338d1f-2b1d-40b4-8a9f-1d38c9e49c9d",
   "metadata": {},
   "source": [
    "Una classe permet definir funcions que no operin sobre una instància. Són funcions generals, però que preferim tenir agrupades dins la classe. S'anomenen **static methods**."
   ]
  },
  {
   "cell_type": "code",
   "execution_count": null,
   "id": "112c85f7-b59a-4a37-88db-97a247f69448",
   "metadata": {},
   "outputs": [],
   "source": [
    "class SomeClass:\n",
    "    @staticmethod\n",
    "    def hola():  # sense self\n",
    "        print(\"hola\")"
   ]
  },
  {
   "cell_type": "code",
   "execution_count": null,
   "id": "25a94522-c060-4e44-b8d4-64da76ebcaac",
   "metadata": {},
   "outputs": [],
   "source": [
    "SomeClass.hola()"
   ]
  },
  {
   "cell_type": "markdown",
   "id": "d91b1fb3-2f58-49ee-8fce-77f7027ebac4",
   "metadata": {},
   "source": [
    "## Exercici 3"
   ]
  },
  {
   "cell_type": "markdown",
   "id": "7bdbfbff-140f-4fc7-9349-0ba446a9b770",
   "metadata": {},
   "source": [
    "a) Afegeix un inicialitzador alternatiu per Stock, que es digui `from_row()`, que rebi una fila llegint amb `csv.reader` i retorni una instància."
   ]
  },
  {
   "cell_type": "code",
   "execution_count": null,
   "id": "1b631b40-1602-45c4-b316-b8c57769eb24",
   "metadata": {},
   "outputs": [],
   "source": [
    "class Stock:\n",
    "    def __init__(self, name, shares, price):\n",
    "        self.name = name\n",
    "        self.shares = shares\n",
    "        self.price = price\n",
    "\n",
    "    def cost(self):\n",
    "        return self.shares * self.price\n",
    "\n",
    "    def sell(self, nshares):\n",
    "        self.shares -= nshares"
   ]
  },
  {
   "cell_type": "code",
   "execution_count": null,
   "id": "4bc169da-3772-4af9-8f19-95e452dec294",
   "metadata": {},
   "outputs": [],
   "source": [
    "# prova-ho\n",
    "# què veus a l'output?\n",
    "# funciona s.cost()?\n",
    "\n",
    "row = [\"AA\", \"100\", \"32.20\"]\n",
    "s = Stock.from_row(row)\n",
    "s.name, s.shares, s.price"
   ]
  },
  {
   "cell_type": "markdown",
   "id": "0b9363b4-b779-4853-a6bd-2e886aa6ccf9",
   "metadata": {},
   "source": [
    "b*) Fes servir la \"class variable\" types per convertir cada valor de row al tipus d'objecte adequat"
   ]
  },
  {
   "cell_type": "code",
   "execution_count": null,
   "id": "eb48b055-abba-4678-b8bc-3355cc230333",
   "metadata": {},
   "outputs": [],
   "source": [
    "class Stock:\n",
    "    types = (str, int, float)\n",
    "\n",
    "    def __init__(self, name, shares, price):\n",
    "        self.name = name\n",
    "        self.shares = shares\n",
    "        self.price = price\n",
    "\n",
    "    def cost(self):\n",
    "        return self.shares * self.price\n",
    "\n",
    "    def sell(self, nshares):\n",
    "        self.shares -= nshares"
   ]
  },
  {
   "cell_type": "markdown",
   "id": "ee559989-fefa-424f-be73-e38493d32516",
   "metadata": {},
   "source": [
    "## Classes 4 - Herència"
   ]
  },
  {
   "cell_type": "markdown",
   "id": "6c55594c-42fc-4644-bdc9-b3cff98727b5",
   "metadata": {},
   "source": [
    "Podem especialitzar classes a partir d'altres.\n",
    "\n",
    "Ja hem vist que els arrays de NumPy serveixen com a base per a Series i DataFrames de Pandas, per exemple.\n",
    "\n",
    "Podem:\n",
    "- Afegir nous mètodes\n",
    "- Redefinir mètodes ja existents\n",
    "- Afegir nous atributs\n",
    "\n",
    "```python\n",
    "class Parent:\n",
    "...\n",
    "class Child(Parent):\n",
    "```"
   ]
  },
  {
   "cell_type": "code",
   "execution_count": null,
   "id": "17f03bbd-4415-4e59-8d70-1472b3c6c95e",
   "metadata": {},
   "outputs": [],
   "source": [
    "class MyStock(Stock):\n",
    "    def panic(self):  # nou mètode\n",
    "        self.sell(self.shares)"
   ]
  },
  {
   "cell_type": "code",
   "execution_count": null,
   "id": "61187edc-0b35-4fd2-92cc-a7ce418fa32e",
   "metadata": {},
   "outputs": [],
   "source": [
    "# El que feiem amb Stock segueix funcionant\n",
    "s = MyStock(\"GOOG\", 100, 490.1)\n",
    "s.sell(25)\n",
    "s.shares"
   ]
  },
  {
   "cell_type": "code",
   "execution_count": null,
   "id": "2306c8dd-ca4d-41eb-ab1f-4f64287673eb",
   "metadata": {},
   "outputs": [],
   "source": [
    "# I hem afegit un nou mètode\n",
    "s.panic()\n",
    "s.shares"
   ]
  },
  {
   "cell_type": "code",
   "execution_count": null,
   "id": "fc8d237e-ceb0-4e99-850e-24746c6a754b",
   "metadata": {},
   "outputs": [],
   "source": [
    "class MyStock(Stock):\n",
    "    def panic(self):  # nou mètode\n",
    "        self.sell(self.shares)\n",
    "\n",
    "    def cost(self):  # redefinim aquest mètode\n",
    "        return 1.25 * self.shares * self.price"
   ]
  },
  {
   "cell_type": "markdown",
   "id": "0ecdd67a-a4c0-4e2b-bd2b-ec20b57d16f3",
   "metadata": {},
   "source": [
    "### `super()`\n",
    "\n",
    "Si volem redefinir un mètode utilitzant l'original, hi podem accedir amb `super()`"
   ]
  },
  {
   "cell_type": "code",
   "execution_count": null,
   "id": "5bcbbfe0-6dcc-4431-b103-fa976d64ae1e",
   "metadata": {},
   "outputs": [],
   "source": [
    "class MyStock(Stock):\n",
    "    def panic(self):\n",
    "        self.sell(self.shares)\n",
    "\n",
    "    def cost(self):  # redefinim aquest mètode\n",
    "        return 1.5 * super().cost()"
   ]
  },
  {
   "cell_type": "code",
   "execution_count": null,
   "id": "1e304472-e7f7-480e-a184-8be2562db27c",
   "metadata": {},
   "outputs": [],
   "source": [
    "s = MyStock(\"GOOG\", 100, 490.1)\n",
    "s.cost()"
   ]
  },
  {
   "cell_type": "markdown",
   "id": "c1d8fbc4-f079-4591-9903-c1cdf809781f",
   "metadata": {},
   "source": [
    "Això és molt important amb la inicialització. Si afegim un __init__ cal inicialitzar la classe pare"
   ]
  },
  {
   "cell_type": "code",
   "execution_count": null,
   "id": "c85599ea-6030-4761-b6a8-e3298b6cbd06",
   "metadata": {},
   "outputs": [],
   "source": [
    "class MyStock(Stock):\n",
    "    # Afegim factor, que no era un argument de Stock\n",
    "    def __init__(self, name, shares, price, factor):\n",
    "        # Inicialitzem primer amb els argument de Stock\n",
    "        super().__init__(name, shares, price)\n",
    "        self.factor = factor\n",
    "\n",
    "    def panic(self):\n",
    "        self.sell(self.shares)\n",
    "\n",
    "    def cost(self):  # redefinim aquest mètode\n",
    "        return self.factor * super().cost()"
   ]
  },
  {
   "cell_type": "code",
   "execution_count": null,
   "id": "aebaaa17-e68a-4b72-9a5f-311ada5e3251",
   "metadata": {},
   "outputs": [],
   "source": [
    "s = MyStock(\"GOOG\", 100, 490.1, 2)\n",
    "s.cost()"
   ]
  },
  {
   "cell_type": "markdown",
   "id": "0fbf3c10-44d9-494c-9050-8217bcc8d2d6",
   "metadata": {},
   "source": [
    "### `isinstance`"
   ]
  },
  {
   "cell_type": "code",
   "execution_count": null,
   "id": "e423a53c-9466-44a8-b532-e0f006782b2b",
   "metadata": {},
   "outputs": [],
   "source": [
    "isinstance(\"algo\", str)"
   ]
  },
  {
   "cell_type": "code",
   "execution_count": null,
   "id": "ad97acf4-9d4a-4f1e-a293-54d0dedff4b1",
   "metadata": {},
   "outputs": [],
   "source": [
    "isinstance(13, int)"
   ]
  },
  {
   "cell_type": "markdown",
   "id": "3bdfeeb7-e429-467e-b8ec-b456c375e6b6",
   "metadata": {},
   "source": [
    "Els objectes creats per herència són versions especials dels pares"
   ]
  },
  {
   "cell_type": "code",
   "execution_count": null,
   "id": "cf586d65-a699-4f91-a43f-04025f26a139",
   "metadata": {},
   "outputs": [],
   "source": [
    "isinstance(s, MyStock)"
   ]
  },
  {
   "cell_type": "code",
   "execution_count": null,
   "id": "02ca14be-e5e0-42e0-a12a-00340af69267",
   "metadata": {},
   "outputs": [],
   "source": [
    "isinstance(s, Stock)"
   ]
  }
 ],
 "metadata": {
  "kernelspec": {
   "display_name": "Python 3 (ipykernel)",
   "language": "python",
   "name": "python3"
  },
  "language_info": {
   "codemirror_mode": {
    "name": "ipython",
    "version": 3
   },
   "file_extension": ".py",
   "mimetype": "text/x-python",
   "name": "python",
   "nbconvert_exporter": "python",
   "pygments_lexer": "ipython3"
  }
 },
 "nbformat": 4,
 "nbformat_minor": 5
}
